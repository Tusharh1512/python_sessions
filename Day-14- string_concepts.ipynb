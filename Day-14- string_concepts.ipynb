{
 "cells": [
  {
   "cell_type": "code",
   "execution_count": null,
   "id": "081e2cdf",
   "metadata": {},
   "outputs": [],
   "source": [
    "#triple: docstring\n",
    "#type\n",
    "#len\n",
    "#max\n",
    "#min\n",
    "#+ : concate\n",
    "- index operation\n",
    "   - how to iterate the"
   ]
  },
  {
   "cell_type": "code",
   "execution_count": 1,
   "id": "4f054456",
   "metadata": {},
   "outputs": [],
   "source": [
    "string1='hello'\n",
    "string2='python'"
   ]
  },
  {
   "cell_type": "code",
   "execution_count": 2,
   "id": "308ee5c2",
   "metadata": {},
   "outputs": [
    {
     "data": {
      "text/plain": [
       "'hellohello'"
      ]
     },
     "execution_count": 2,
     "metadata": {},
     "output_type": "execute_result"
    }
   ],
   "source": [
    "string1+string1"
   ]
  },
  {
   "cell_type": "code",
   "execution_count": 3,
   "id": "98f01570",
   "metadata": {},
   "outputs": [
    {
     "data": {
      "text/plain": [
       "'hellohello'"
      ]
     },
     "execution_count": 3,
     "metadata": {},
     "output_type": "execute_result"
    }
   ],
   "source": [
    "2*string1"
   ]
  },
  {
   "cell_type": "markdown",
   "id": "3af46300",
   "metadata": {},
   "source": [
    "### indexing concept"
   ]
  },
  {
   "cell_type": "code",
   "execution_count": 4,
   "id": "6cd0082c",
   "metadata": {},
   "outputs": [],
   "source": [
    "name='python'"
   ]
  },
  {
   "cell_type": "code",
   "execution_count": null,
   "id": "28e039ec",
   "metadata": {},
   "outputs": [],
   "source": [
    "#how many letters are there :6\n",
    "#python index starts with 0\n",
    "\n",
    "p y t h o n\n",
    "0 1 2 3 4 5"
   ]
  },
  {
   "cell_type": "code",
   "execution_count": 5,
   "id": "7dc969c1",
   "metadata": {},
   "outputs": [
    {
     "data": {
      "text/plain": [
       "'p'"
      ]
     },
     "execution_count": 5,
     "metadata": {},
     "output_type": "execute_result"
    }
   ],
   "source": [
    "name[0]   #p\n",
    "name[1]   #y\n",
    "name[2]   #t\n",
    "name[3]   #h\n",
    "name[4]   #o\n",
    "name[5]   #n\n",
    "name[i]"
   ]
  },
  {
   "cell_type": "code",
   "execution_count": 10,
   "id": "f07d4799",
   "metadata": {},
   "outputs": [
    {
     "name": "stdout",
     "output_type": "stream",
     "text": [
      "p\n",
      "y\n",
      "t\n",
      "h\n",
      "o\n",
      "n\n"
     ]
    }
   ],
   "source": [
    "#how to print any wod/sentence by using range method:\n",
    "\n",
    "for i in range(6):\n",
    "    print(name[i])\n",
    "    "
   ]
  },
  {
   "cell_type": "code",
   "execution_count": 12,
   "id": "a82bbd8a",
   "metadata": {},
   "outputs": [
    {
     "name": "stdout",
     "output_type": "stream",
     "text": [
      "p\n",
      "y\n",
      "t\n",
      "h\n",
      "o\n",
      "n\n"
     ]
    },
    {
     "ename": "IndexError",
     "evalue": "string index out of range",
     "output_type": "error",
     "traceback": [
      "\u001b[1;31m---------------------------------------------------------------------------\u001b[0m",
      "\u001b[1;31mIndexError\u001b[0m                                Traceback (most recent call last)",
      "Cell \u001b[1;32mIn[12], line 3\u001b[0m\n\u001b[0;32m      1\u001b[0m name\u001b[38;5;241m=\u001b[39m\u001b[38;5;124m'\u001b[39m\u001b[38;5;124mpython\u001b[39m\u001b[38;5;124m'\u001b[39m\n\u001b[0;32m      2\u001b[0m \u001b[38;5;28;01mfor\u001b[39;00m i \u001b[38;5;129;01min\u001b[39;00m \u001b[38;5;28mrange\u001b[39m(\u001b[38;5;241m7\u001b[39m):\n\u001b[1;32m----> 3\u001b[0m     \u001b[38;5;28mprint\u001b[39m(name[i])\n",
      "\u001b[1;31mIndexError\u001b[0m: string index out of range"
     ]
    }
   ],
   "source": [
    "#Error-string index out of range\n",
    "name='python'\n",
    "for i in range(7):\n",
    "    print(name[i])"
   ]
  },
  {
   "cell_type": "code",
   "execution_count": 17,
   "id": "5349295c",
   "metadata": {},
   "outputs": [
    {
     "name": "stdout",
     "output_type": "stream",
     "text": [
      "17\n",
      "hello how are you"
     ]
    }
   ],
   "source": [
    "name1='hello how are you'\n",
    "print(len(name1))\n",
    "for i in range(len(name1)):\n",
    "    print(name1[i],end=\"\")"
   ]
  },
  {
   "cell_type": "code",
   "execution_count": null,
   "id": "dc1768cb",
   "metadata": {},
   "outputs": [],
   "source": [
    "#wap ask the user print the letters from a given word using for loop\n",
    "#'the index of p is :0'\n",
    "#the index of y is: 1"
   ]
  },
  {
   "cell_type": "code",
   "execution_count": 24,
   "id": "464ae2fb",
   "metadata": {},
   "outputs": [
    {
     "name": "stdout",
     "output_type": "stream",
     "text": [
      "the index of p is : 0\n",
      "the index of y is : 1\n",
      "the index of t is : 2\n",
      "the index of h is : 3\n",
      "the index of o is : 4\n",
      "the index of n is : 5\n"
     ]
    }
   ],
   "source": [
    "name2='python'\n",
    "for i in range(len(name2)):\n",
    "    print('the index of {} is : {}'.format(name2[i],i))"
   ]
  },
  {
   "cell_type": "code",
   "execution_count": 33,
   "id": "a4489799",
   "metadata": {},
   "outputs": [
    {
     "name": "stdout",
     "output_type": "stream",
     "text": [
      "the index of p is : 0\n",
      "the index of y is : 1\n",
      "the index of t is : 2\n",
      "the index of h is : 3\n",
      "the index of o is : 4\n",
      "the index of n is : 5\n"
     ]
    }
   ],
   "source": [
    "a='python'\n",
    "i=0\n",
    "while i<len(a):\n",
    "    print('the index of {} is : {}'.format(a[i],i))\n",
    "    i+=1\n",
    "    "
   ]
  },
  {
   "cell_type": "code",
   "execution_count": null,
   "id": "f9a84ac6",
   "metadata": {},
   "outputs": [],
   "source": [
    "-5 -4 -3 -2 -1  0\n",
    " p  y  t  h  o  n\n",
    "0 1 2 3 4 5========>positive index"
   ]
  },
  {
   "cell_type": "code",
   "execution_count": 41,
   "id": "0b5e4e26",
   "metadata": {},
   "outputs": [
    {
     "name": "stdout",
     "output_type": "stream",
     "text": [
      "the -ve index of p is : -6\n",
      "the -ve index of y is : -5\n",
      "the -ve index of t is : -4\n",
      "the -ve index of h is : -3\n",
      "the -ve index of o is : -2\n",
      "the -ve index of n is : -1\n"
     ]
    }
   ],
   "source": [
    "name2='python'\n",
    "for i in range(len(name2)):\n",
    "    print('the -ve index of {} is : {}'.format(name2[i],i-len(name2)))"
   ]
  },
  {
   "cell_type": "code",
   "execution_count": 45,
   "id": "37337d8a",
   "metadata": {},
   "outputs": [
    {
     "name": "stdout",
     "output_type": "stream",
     "text": [
      "the -ve index of p is : -6\n",
      "the -ve index of y is : -5\n",
      "the -ve index of t is : -4\n",
      "the -ve index of h is : -3\n",
      "the -ve index of o is : -2\n",
      "the -ve index of n is : -1\n"
     ]
    }
   ],
   "source": [
    "name3='python'\n",
    "for i in range(-len(name3),0):\n",
    "    print('the -ve index of {} is : {}'.format(name3[i],i))"
   ]
  },
  {
   "cell_type": "code",
   "execution_count": 47,
   "id": "4ecc64fe",
   "metadata": {},
   "outputs": [
    {
     "name": "stdout",
     "output_type": "stream",
     "text": [
      "the -ve index of p is : -6\n",
      "the -ve index of y is : -5\n",
      "the -ve index of t is : -4\n",
      "the -ve index of h is : -3\n",
      "the -ve index of o is : -2\n",
      "the -ve index of n is : -1\n"
     ]
    }
   ],
   "source": [
    "i=0\n",
    "name4='python'\n",
    "while i<len(name4):\n",
    "    print('the -ve index of {} is : {}'.format(name4[i],i-len(name4)))\n",
    "    i+=1"
   ]
  },
  {
   "cell_type": "code",
   "execution_count": 89,
   "id": "743b7f6c",
   "metadata": {},
   "outputs": [
    {
     "name": "stdout",
     "output_type": "stream",
     "text": [
      "the +ve index of p is 0 and the -ve index of is : -6\n",
      "the +ve index of n is 1 and the -ve index of is : -5\n",
      "the +ve index of o is 2 and the -ve index of is : -4\n",
      "the +ve index of h is 3 and the -ve index of is : -3\n",
      "the +ve index of t is 4 and the -ve index of is : -2\n",
      "the +ve index of y is 5 and the -ve index of is : -1\n"
     ]
    }
   ],
   "source": [
    "i=0\n",
    "name5='python'\n",
    "while i>-len(name5):\n",
    "    print('the +ve index of {} is {} and the -ve index of is : {}'.format(name5[i],-i,-len(name5)-i))\n",
    "    i-=1\n",
    "    "
   ]
  },
  {
   "cell_type": "code",
   "execution_count": null,
   "id": "6220d110",
   "metadata": {},
   "outputs": [],
   "source": [
    "#Print : the positive index is 0 and -ve index is -6"
   ]
  },
  {
   "cell_type": "code",
   "execution_count": 72,
   "id": "ef51e1fe",
   "metadata": {},
   "outputs": [
    {
     "name": "stdout",
     "output_type": "stream",
     "text": [
      "Positive index 0: p\n",
      "Negative index -1: n\n",
      "Positive index 1: y\n",
      "Negative index -2: o\n",
      "Positive index 2: t\n",
      "Negative index -3: h\n",
      "Positive index 3: h\n",
      "Negative index -4: t\n",
      "Positive index 4: o\n",
      "Negative index -5: y\n",
      "Positive index 5: n\n",
      "Negative index -6: p\n"
     ]
    }
   ],
   "source": [
    "name5='python'\n",
    "length = len(name5)\n",
    "i = 0\n",
    "while i<length:\n",
    "    print(f\"Positive index of {} is {}:\".for)\n",
    "    print(f\"Negative index {-i - 1}: {name5[-i - 1]}\")\n",
    "    i += 1"
   ]
  },
  {
   "cell_type": "code",
   "execution_count": 138,
   "id": "554d2c49",
   "metadata": {},
   "outputs": [
    {
     "name": "stdout",
     "output_type": "stream",
     "text": [
      "18 \n",
      " Hi Hi how aare you\n",
      "There are 18 no. of a\n",
      "There are 18 no. of a\n"
     ]
    }
   ],
   "source": [
    "count=0\n",
    "string1=''\n",
    "sent='Hi Hi how aare you'\n",
    "print(len(sent),\"\\n\",sent)\n",
    "for i in sent:\n",
    "        if i==\"a\":\n",
    "            count=count+1\n",
    "            print(\"There are {} no. of a\".format()        "
   ]
  },
  {
   "cell_type": "code",
   "execution_count": null,
   "id": "f89cba1b",
   "metadata": {},
   "outputs": [],
   "source": [
    "- how to read the strings\n",
    "- single/double\n",
    "- triple quots(doc string)\n"
   ]
  },
  {
   "cell_type": "markdown",
   "id": "dd8fe1c5",
   "metadata": {},
   "source": [
    "$mutabality-imutability$"
   ]
  },
  {
   "cell_type": "code",
   "execution_count": 5,
   "id": "088d4ae7",
   "metadata": {},
   "outputs": [],
   "source": [
    "string1='python'"
   ]
  },
  {
   "cell_type": "markdown",
   "id": "96cb799d",
   "metadata": {},
   "source": [
    "- i want to replace 'p' with 'P'\n",
    "-  based on index operation if you change it or not\n",
    "- if you change the vale by using index operation:mutable\n",
    "- if you could not change the value by using index operation: immutable\n"
   ]
  },
  {
   "cell_type": "code",
   "execution_count": 8,
   "id": "d98241db",
   "metadata": {},
   "outputs": [
    {
     "ename": "TypeError",
     "evalue": "'str' object does not support item assignment",
     "output_type": "error",
     "traceback": [
      "\u001b[1;31m---------------------------------------------------------------------------\u001b[0m",
      "\u001b[1;31mTypeError\u001b[0m                                 Traceback (most recent call last)",
      "Cell \u001b[1;32mIn[8], line 1\u001b[0m\n\u001b[1;32m----> 1\u001b[0m string1[\u001b[38;5;241m0\u001b[39m]\u001b[38;5;241m=\u001b[39m\u001b[38;5;124m'\u001b[39m\u001b[38;5;124mP\u001b[39m\u001b[38;5;124m'\u001b[39m\n",
      "\u001b[1;31mTypeError\u001b[0m: 'str' object does not support item assignment"
     ]
    }
   ],
   "source": [
    "string1[0]='P'\n",
    "#Strings are immutable         #Interview question"
   ]
  },
  {
   "cell_type": "code",
   "execution_count": 9,
   "id": "1117fe7d",
   "metadata": {},
   "outputs": [],
   "source": [
    "list1=[10.20,30]"
   ]
  },
  {
   "cell_type": "code",
   "execution_count": 10,
   "id": "67914d6f",
   "metadata": {},
   "outputs": [],
   "source": [
    "list1[0]=100"
   ]
  },
  {
   "cell_type": "code",
   "execution_count": 11,
   "id": "3115eed0",
   "metadata": {},
   "outputs": [
    {
     "data": {
      "text/plain": [
       "[100, 30]"
      ]
     },
     "execution_count": 11,
     "metadata": {},
     "output_type": "execute_result"
    }
   ],
   "source": [
    "list1"
   ]
  },
  {
   "cell_type": "markdown",
   "id": "24b00c56",
   "metadata": {},
   "source": [
    "## Slicing"
   ]
  },
  {
   "cell_type": "code",
   "execution_count": null,
   "id": "9497a33e",
   "metadata": {},
   "outputs": [],
   "source": [
    "string1='hello how are you'\n",
    "# this concept is same as range() in for loop"
   ]
  },
  {
   "cell_type": "code",
   "execution_count": 12,
   "id": "5aff6450",
   "metadata": {},
   "outputs": [
    {
     "data": {
      "text/plain": [
       "'h'"
      ]
     },
     "execution_count": 12,
     "metadata": {},
     "output_type": "execute_result"
    }
   ],
   "source": [
    "string1='hello how are you'\n",
    "string1[0]"
   ]
  },
  {
   "cell_type": "code",
   "execution_count": null,
   "id": "7fafd470",
   "metadata": {},
   "outputs": [],
   "source": [
    "string1='hello how are you'\n",
    "#string1[start:stop]"
   ]
  },
  {
   "cell_type": "code",
   "execution_count": null,
   "id": "9ae38785",
   "metadata": {},
   "outputs": [],
   "source": [
    "h e l l o   h o w   a  r  e     y  o  u\n",
    "0 1 2 3 4 5 6 7 8 9 10 11 12 13 14 15 16"
   ]
  },
  {
   "cell_type": "code",
   "execution_count": 13,
   "id": "9c93b27b",
   "metadata": {},
   "outputs": [
    {
     "data": {
      "text/plain": [
       "'llo how '"
      ]
     },
     "execution_count": 13,
     "metadata": {},
     "output_type": "execute_result"
    }
   ],
   "source": [
    "string1[2:10]\n",
    "#what is the direction : positive\n",
    "#start :2\n",
    "#stop=10-1=9"
   ]
  },
  {
   "cell_type": "code",
   "execution_count": 15,
   "id": "272de331",
   "metadata": {},
   "outputs": [
    {
     "data": {
      "text/plain": [
       "'el o r '"
      ]
     },
     "execution_count": 15,
     "metadata": {},
     "output_type": "execute_result"
    }
   ],
   "source": [
    "string1[1:15:2]\n",
    "#start=1\n",
    "#stop=15-1=14\n",
    "#post: step=2\n",
    "#1 3 5 7 9 11 13\n",
    "#e l  o   r  "
   ]
  },
  {
   "cell_type": "code",
   "execution_count": 16,
   "id": "294224ec",
   "metadata": {},
   "outputs": [
    {
     "data": {
      "text/plain": [
       "''"
      ]
     },
     "execution_count": 16,
     "metadata": {},
     "output_type": "execute_result"
    }
   ],
   "source": [
    "string1[1:151:-2]"
   ]
  },
  {
   "cell_type": "code",
   "execution_count": 19,
   "id": "5b5bb6af",
   "metadata": {},
   "outputs": [
    {
     "data": {
      "text/plain": [
       "'hello how are you'"
      ]
     },
     "execution_count": 19,
     "metadata": {},
     "output_type": "execute_result"
    }
   ],
   "source": [
    "string1[:]\n",
    "#nothing is mentioned means\n",
    "#positive direction\n",
    "#start=0\n",
    "#stop=till last character"
   ]
  },
  {
   "cell_type": "code",
   "execution_count": 23,
   "id": "f5d498cc",
   "metadata": {},
   "outputs": [
    {
     "data": {
      "text/plain": [
       "' how are you'"
      ]
     },
     "execution_count": 23,
     "metadata": {},
     "output_type": "execute_result"
    }
   ],
   "source": [
    "string1[::]"
   ]
  },
  {
   "cell_type": "markdown",
   "id": "95dfc2a8",
   "metadata": {},
   "source": [
    "- nothing mentioned at star and position:simply starting of letter\n",
    "    \n",
    "- nothing mentioned at stop position:simply last letter\n",
    "\n",
    "- nothing mentioned at step size : it is positive direction with step value +1"
   ]
  },
  {
   "cell_type": "code",
   "execution_count": 29,
   "id": "b9b15b5b",
   "metadata": {},
   "outputs": [
    {
     "data": {
      "text/plain": [
       "'hello how are you'"
      ]
     },
     "execution_count": 29,
     "metadata": {},
     "output_type": "execute_result"
    }
   ],
   "source": [
    "string1[::]"
   ]
  },
  {
   "cell_type": "code",
   "execution_count": 30,
   "id": "154c13d2",
   "metadata": {},
   "outputs": [
    {
     "data": {
      "text/plain": [
       "'hello how are you'"
      ]
     },
     "execution_count": 30,
     "metadata": {},
     "output_type": "execute_result"
    }
   ],
   "source": [
    "string1[:len(string1)]"
   ]
  },
  {
   "cell_type": "code",
   "execution_count": 31,
   "id": "16c95302",
   "metadata": {},
   "outputs": [
    {
     "data": {
      "text/plain": [
       "'hello how are you'"
      ]
     },
     "execution_count": 31,
     "metadata": {},
     "output_type": "execute_result"
    }
   ],
   "source": [
    "string1[:]"
   ]
  },
  {
   "cell_type": "code",
   "execution_count": 33,
   "id": "e4a08ef0",
   "metadata": {},
   "outputs": [
    {
     "name": "stdout",
     "output_type": "stream",
     "text": [
      "hello how are you\n"
     ]
    }
   ],
   "source": [
    "print(string1[0:])"
   ]
  },
  {
   "cell_type": "code",
   "execution_count": null,
   "id": "88eb12fe",
   "metadata": {},
   "outputs": [],
   "source": [
    "-17 -16 -15 -14 -13 -12 -11 -10 -9 -8 -7 -6 -5 -4 -3 -2 -1\n",
    "h    e   l   l   o        h   o  w     a  r  e     y  o  u\n",
    "0    1   2   3   4    5   6   7  8  9  10 11 12 13 14 15 16"
   ]
  },
  {
   "cell_type": "code",
   "execution_count": 37,
   "id": "19e47652",
   "metadata": {},
   "outputs": [
    {
     "data": {
      "text/plain": [
       "'oy era woh ol'"
      ]
     },
     "execution_count": 37,
     "metadata": {},
     "output_type": "execute_result"
    }
   ],
   "source": [
    "string1[-2:-15:-1]"
   ]
  },
  {
   "cell_type": "code",
   "execution_count": 39,
   "id": "3b4e84ec",
   "metadata": {},
   "outputs": [
    {
     "data": {
      "text/plain": [
       "'lohwaey'"
      ]
     },
     "execution_count": 39,
     "metadata": {},
     "output_type": "execute_result"
    }
   ],
   "source": [
    "string1[-15:-2:2]"
   ]
  },
  {
   "cell_type": "code",
   "execution_count": 41,
   "id": "40d375c6",
   "metadata": {},
   "outputs": [
    {
     "data": {
      "text/plain": [
       "'woh ol'"
      ]
     },
     "execution_count": 41,
     "metadata": {},
     "output_type": "execute_result"
    }
   ],
   "source": [
    "string1[8:-15:-1]\n"
   ]
  },
  {
   "cell_type": "code",
   "execution_count": 44,
   "id": "7c8dfb15",
   "metadata": {},
   "outputs": [
    {
     "data": {
      "text/plain": [
       "'w'"
      ]
     },
     "execution_count": 44,
     "metadata": {},
     "output_type": "execute_result"
    }
   ],
   "source": [
    "string1[8:-10:-2]"
   ]
  },
  {
   "cell_type": "code",
   "execution_count": 45,
   "id": "736cdca2",
   "metadata": {},
   "outputs": [
    {
     "data": {
      "text/plain": [
       "'l '"
      ]
     },
     "execution_count": 45,
     "metadata": {},
     "output_type": "execute_result"
    }
   ],
   "source": [
    "string1[-15:8:3]"
   ]
  },
  {
   "cell_type": "code",
   "execution_count": 54,
   "id": "af6f6086",
   "metadata": {},
   "outputs": [
    {
     "data": {
      "text/plain": [
       "'uoy era woh olleh'"
      ]
     },
     "execution_count": 54,
     "metadata": {},
     "output_type": "execute_result"
    }
   ],
   "source": [
    "#if i want reverse the string\n",
    "string1[::-1]"
   ]
  },
  {
   "cell_type": "code",
   "execution_count": null,
   "id": "153cf8b4",
   "metadata": {},
   "outputs": [],
   "source": []
  },
  {
   "cell_type": "code",
   "execution_count": null,
   "id": "90ae7a24",
   "metadata": {},
   "outputs": [],
   "source": []
  },
  {
   "cell_type": "code",
   "execution_count": null,
   "id": "d4343e92",
   "metadata": {},
   "outputs": [],
   "source": []
  },
  {
   "cell_type": "code",
   "execution_count": null,
   "id": "98d99bd1",
   "metadata": {},
   "outputs": [],
   "source": []
  },
  {
   "cell_type": "code",
   "execution_count": null,
   "id": "7ac66a82",
   "metadata": {},
   "outputs": [],
   "source": []
  },
  {
   "cell_type": "code",
   "execution_count": null,
   "id": "bdc09864",
   "metadata": {},
   "outputs": [],
   "source": []
  },
  {
   "cell_type": "code",
   "execution_count": null,
   "id": "03477c36",
   "metadata": {},
   "outputs": [],
   "source": []
  },
  {
   "cell_type": "code",
   "execution_count": null,
   "id": "1d4f0ecc",
   "metadata": {},
   "outputs": [],
   "source": []
  },
  {
   "cell_type": "code",
   "execution_count": null,
   "id": "ff76a207",
   "metadata": {},
   "outputs": [],
   "source": []
  },
  {
   "cell_type": "code",
   "execution_count": null,
   "id": "e13d9c17",
   "metadata": {},
   "outputs": [],
   "source": []
  },
  {
   "cell_type": "code",
   "execution_count": null,
   "id": "19a9c0b4",
   "metadata": {},
   "outputs": [],
   "source": []
  }
 ],
 "metadata": {
  "kernelspec": {
   "display_name": "Python 3 (ipykernel)",
   "language": "python",
   "name": "python3"
  },
  "language_info": {
   "codemirror_mode": {
    "name": "ipython",
    "version": 3
   },
   "file_extension": ".py",
   "mimetype": "text/x-python",
   "name": "python",
   "nbconvert_exporter": "python",
   "pygments_lexer": "ipython3",
   "version": "3.11.5"
  }
 },
 "nbformat": 4,
 "nbformat_minor": 5
}
