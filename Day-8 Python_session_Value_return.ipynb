{
 "cells": [
  {
   "cell_type": "code",
   "execution_count": 3,
   "id": "6d8b851d",
   "metadata": {},
   "outputs": [],
   "source": [
    "def AVG():\n",
    "    n1=eval(input(\"Enter number 1 : \"))\n",
    "    n2=eval(input(\"Enter number 2 : \"))\n",
    "    n3=eval(input(\"Enter number 3 : \"))\n",
    "    add=n1+n2+n3\n",
    "    Avg=round((add)/3,2)\n",
    "    print(\"Average is \",Avg)\n",
    "    return(Avg,add)\n"
   ]
  },
  {
   "cell_type": "code",
   "execution_count": 8,
   "id": "a9f7d63e",
   "metadata": {},
   "outputs": [
    {
     "name": "stdout",
     "output_type": "stream",
     "text": [
      "Enter number 1 : 45\n",
      "Enter number 2 : 5\n",
      "Enter number 3 : 40\n",
      "Average is  30.0\n"
     ]
    }
   ],
   "source": [
    "average,add=AVG()"
   ]
  },
  {
   "cell_type": "code",
   "execution_count": 29,
   "id": "ad6304c2",
   "metadata": {},
   "outputs": [
    {
     "data": {
      "text/plain": [
       "15"
      ]
     },
     "execution_count": 29,
     "metadata": {},
     "output_type": "execute_result"
    }
   ],
   "source": [
    "addition"
   ]
  },
  {
   "cell_type": "code",
   "execution_count": 11,
   "id": "7de9acc6",
   "metadata": {},
   "outputs": [
    {
     "data": {
      "text/plain": [
       "30.0"
      ]
     },
     "execution_count": 11,
     "metadata": {},
     "output_type": "execute_result"
    }
   ],
   "source": [
    "average"
   ]
  },
  {
   "cell_type": "markdown",
   "id": "8abcc6f0",
   "metadata": {},
   "source": [
    "### Create a function with default parameters as tax %=10 and enter your salary calculate total tax you want to pay and return the tax amount"
   ]
  },
  {
   "cell_type": "code",
   "execution_count": 35,
   "id": "0b76cdef",
   "metadata": {},
   "outputs": [],
   "source": [
    "def salary(tax_perc=10):\n",
    "    salary=eval(input(\"Enter your salary : \"))\n",
    "    tax=(salary*tax_perc)/100\n",
    "    print(\"Total tax is \",tax)\n",
    "    return(tax)\n",
    "    "
   ]
  },
  {
   "cell_type": "code",
   "execution_count": 42,
   "id": "c67819fc",
   "metadata": {},
   "outputs": [
    {
     "data": {
      "text/plain": [
       "1000.0"
      ]
     },
     "execution_count": 42,
     "metadata": {},
     "output_type": "execute_result"
    }
   ],
   "source": [
    "tax_amount"
   ]
  },
  {
   "cell_type": "code",
   "execution_count": null,
   "id": "2aa5670e",
   "metadata": {},
   "outputs": [],
   "source": [
    "#wap function call with 2 arguments a and b\n",
    "#calculate return add sub multi and division\n"
   ]
  },
  {
   "cell_type": "code",
   "execution_count": 23,
   "id": "8339ac75",
   "metadata": {},
   "outputs": [],
   "source": [
    "def calc(a,b):\n",
    "    add=a+b\n",
    "    sub=a-b\n",
    "    multi=a*b\n",
    "    div=a/b\n",
    "    print(\"Addition of {} and {} is {}\\n Substraction is {}\\n Multiplication is {}\\n Division is {}\".format(a,b,add,sub,multi,div))\n",
    "    return(add,sub,multi,div)"
   ]
  },
  {
   "cell_type": "code",
   "execution_count": 24,
   "id": "a71918a7",
   "metadata": {},
   "outputs": [
    {
     "name": "stdout",
     "output_type": "stream",
     "text": [
      "Addition of 10 and 5 is 15\n",
      " Substraction is 5\n",
      " Multiplication is 50\n",
      " Division is 2.0\n"
     ]
    }
   ],
   "source": [
    "addition,substraction,multiplication,division=calc(10,5)"
   ]
  },
  {
   "cell_type": "code",
   "execution_count": 28,
   "id": "eb2a0c06",
   "metadata": {},
   "outputs": [
    {
     "data": {
      "text/plain": [
       "15"
      ]
     },
     "execution_count": 28,
     "metadata": {},
     "output_type": "execute_result"
    }
   ],
   "source": [
    "addition"
   ]
  },
  {
   "cell_type": "markdown",
   "id": "91a72f10",
   "metadata": {},
   "source": [
    "###  Local variable\n",
    "- inside the variables means Local Variable\n",
    "- these local variable you can't use outside the function, untill unless return the variable\n",
    "\n",
    "### Global variable\n",
    " - these are outside the functions"
   ]
  },
  {
   "cell_type": "code",
   "execution_count": 47,
   "id": "970ed75f",
   "metadata": {},
   "outputs": [
    {
     "name": "stdout",
     "output_type": "stream",
     "text": [
      "Enter number 1 : 45\n",
      "Enter number 2 : 5\n",
      "Enter number 3 : 40\n"
     ]
    }
   ],
   "source": [
    "n1=eval(input(\"Enter number 1 : \"))     #outside the function : GLobal Variable\n",
    "n2=eval(input(\"Enter number 2 : \"))\n",
    "n3=eval(input(\"Enter number 3 : \"))\n",
    "def AVG():\n",
    "    add=n1+n2+n3\n",
    "    \n",
    "    Avg=round((add)/3,2)\n",
    "    print(\"Average is \",Avg)\n",
    "    return(Avg,add)\n"
   ]
  },
  {
   "cell_type": "code",
   "execution_count": 48,
   "id": "a085f16c",
   "metadata": {},
   "outputs": [
    {
     "name": "stdout",
     "output_type": "stream",
     "text": [
      "Average is  30.0\n"
     ]
    }
   ],
   "source": [
    "average,add=AVG()\n"
   ]
  },
  {
   "cell_type": "code",
   "execution_count": 49,
   "id": "74bc3611",
   "metadata": {},
   "outputs": [
    {
     "data": {
      "text/plain": [
       "30.0"
      ]
     },
     "execution_count": 49,
     "metadata": {},
     "output_type": "execute_result"
    }
   ],
   "source": [
    "average"
   ]
  },
  {
   "cell_type": "code",
   "execution_count": 50,
   "id": "b5825fd9",
   "metadata": {},
   "outputs": [
    {
     "data": {
      "text/plain": [
       "45"
      ]
     },
     "execution_count": 50,
     "metadata": {},
     "output_type": "execute_result"
    }
   ],
   "source": [
    "n1"
   ]
  },
  {
   "cell_type": "code",
   "execution_count": null,
   "id": "31b5715d",
   "metadata": {},
   "outputs": [],
   "source": [
    "# take 3 no which is the greatest number with all the method"
   ]
  },
  {
   "cell_type": "code",
   "execution_count": 65,
   "id": "522bc923",
   "metadata": {},
   "outputs": [],
   "source": [
    "def greatest():\n",
    "    n1=eval(input(\"Enter 1st number : \"))\n",
    "    n2=eval(input(\"Enter 2nd number : \"))\n",
    "    n3=eval(input(\"Enter 3rd number : \"))\n",
    "    if n1>n2:\n",
    "        if n1>n3:\n",
    "            biggest=n1\n",
    "        else:\n",
    "            biggest=n3\n",
    "    else:\n",
    "        if n2>n3:\n",
    "            biggest=n2\n",
    "        else:\n",
    "            biggest=n3\n",
    "        return(biggest)\n",
    "        "
   ]
  },
  {
   "cell_type": "code",
   "execution_count": 66,
   "id": "fc5eb583",
   "metadata": {},
   "outputs": [
    {
     "name": "stdout",
     "output_type": "stream",
     "text": [
      "Enter 1st number : 4\n",
      "Enter 2nd number : 5\n",
      "Enter 3rd number : 6\n"
     ]
    }
   ],
   "source": [
    "Largest=greatest()"
   ]
  },
  {
   "cell_type": "code",
   "execution_count": 68,
   "id": "c8048439",
   "metadata": {},
   "outputs": [
    {
     "ename": "TypeError",
     "evalue": "'int' object is not callable",
     "output_type": "error",
     "traceback": [
      "\u001b[1;31m---------------------------------------------------------------------------\u001b[0m",
      "\u001b[1;31mTypeError\u001b[0m                                 Traceback (most recent call last)",
      "Cell \u001b[1;32mIn[68], line 1\u001b[0m\n\u001b[1;32m----> 1\u001b[0m Largest(\u001b[38;5;241m4\u001b[39m,\u001b[38;5;241m5\u001b[39m,\u001b[38;5;241m6\u001b[39m)\n",
      "\u001b[1;31mTypeError\u001b[0m: 'int' object is not callable"
     ]
    }
   ],
   "source": [
    "Largest(4,5,6)"
   ]
  },
  {
   "cell_type": "code",
   "execution_count": 77,
   "id": "280de89f",
   "metadata": {},
   "outputs": [
    {
     "name": "stdout",
     "output_type": "stream",
     "text": [
      "Enter 1st number : 4\n",
      "Enter 2nd number : 5\n",
      "Enter 3rd number : 6\n"
     ]
    }
   ],
   "source": [
    "n1=eval(input(\"Enter 1st number : \"))\n",
    "n2=eval(input(\"Enter 2nd number : \"))\n",
    "n3=eval(input(\"Enter 3rd number : \"))\n",
    "def greatest(n1,n2,n3):\n",
    "   \n",
    "    if n1>n2:\n",
    "        if n1>n3:\n",
    "            biggest=n1\n",
    "        else:\n",
    "            biggest=n3\n",
    "    else:\n",
    "        if n2>n3:\n",
    "            biggest=n2\n",
    "        else:\n",
    "            biggest=n3\n",
    "        return(biggest)\n"
   ]
  },
  {
   "cell_type": "code",
   "execution_count": 79,
   "id": "c5cca316",
   "metadata": {},
   "outputs": [
    {
     "data": {
      "text/plain": [
       "8"
      ]
     },
     "execution_count": 79,
     "metadata": {},
     "output_type": "execute_result"
    }
   ],
   "source": [
    "greatest(4,5,8)"
   ]
  },
  {
   "cell_type": "code",
   "execution_count": null,
   "id": "d42a5475",
   "metadata": {},
   "outputs": [],
   "source": [
    "# definte the function\n",
    "# without arguments\n",
    "#default\n",
    "#return\n",
    "#local\n",
    "#global"
   ]
  }
 ],
 "metadata": {
  "kernelspec": {
   "display_name": "Python 3 (ipykernel)",
   "language": "python",
   "name": "python3"
  },
  "language_info": {
   "codemirror_mode": {
    "name": "ipython",
    "version": 3
   },
   "file_extension": ".py",
   "mimetype": "text/x-python",
   "name": "python",
   "nbconvert_exporter": "python",
   "pygments_lexer": "ipython3",
   "version": "3.11.5"
  }
 },
 "nbformat": 4,
 "nbformat_minor": 5
}
