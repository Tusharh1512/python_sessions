{
 "cells": [
  {
   "cell_type": "code",
   "execution_count": null,
   "id": "469bcec6",
   "metadata": {},
   "outputs": [],
   "source": [
    "--------------Level-1-------------------\n",
    "\n",
    "1) basic syntax\n",
    "2) First program\n",
    "3) Conditional statements\n",
    "4) Functions\n",
    "5) loops concept\n",
    "6) Expetional handling\n",
    "7) Packages\n",
    "\n",
    "\n",
    "----------------Level-2-----------------------\n",
    "\n",
    "8)Strings\n",
    "9) List\n",
    "10) dictionary\n",
    "11) tuples\n",
    "12) sets\n",
    "13) file handling sessions\n",
    "\n",
    "------------------Level-3--------------------\n",
    "\n",
    "14) OOPS concept\n",
    "15) EDA\n",
    "16) ML\n",
    "17) DL\n",
    "18) NLP\n",
    "19) Flask\n"
   ]
  },
  {
   "cell_type": "markdown",
   "id": "e4517fe8",
   "metadata": {},
   "source": [
    "- integer\n",
    "- float\n",
    "- string\n",
    "- boolean\n",
    "- complex conjugate\n"
   ]
  },
  {
   "cell_type": "code",
   "execution_count": 12,
   "id": "c830b6f2",
   "metadata": {},
   "outputs": [
    {
     "data": {
      "text/plain": [
       "7"
      ]
     },
     "execution_count": 12,
     "metadata": {},
     "output_type": "execute_result"
    }
   ],
   "source": [
    "0b111\n",
    "\n"
   ]
  },
  {
   "cell_type": "markdown",
   "id": "f9487f91",
   "metadata": {},
   "source": [
    "**Octal**\n",
    "- octa means 8 base 8\n",
    "- the digit are 0,1,2,3,4,5,6,7\n",
    "-  The representations is 0o(the combination of two digits)\n",
    "- example: 0o4567"
   ]
  },
  {
   "cell_type": "markdown",
   "id": "8c0a5d31",
   "metadata": {},
   "source": [
    "**Hexa**\n",
    "- Hexa means 16 base 16\n",
    "- the digit are 0,1,2,3,4,5,6,7,8,9,a,b,c,d,e,f\n",
    "-  The representations is 0x(the combination of two digits)\n",
    "- example: 0xABC"
   ]
  },
  {
   "cell_type": "code",
   "execution_count": 14,
   "id": "5c2750f2",
   "metadata": {},
   "outputs": [
    {
     "data": {
      "text/plain": [
       "43983"
      ]
     },
     "execution_count": 14,
     "metadata": {},
     "output_type": "execute_result"
    }
   ],
   "source": [
    "0Xabcf"
   ]
  },
  {
   "cell_type": "markdown",
   "id": "f69d2100",
   "metadata": {},
   "source": [
    "**float**"
   ]
  },
  {
   "cell_type": "code",
   "execution_count": 19,
   "id": "99f0d3db",
   "metadata": {},
   "outputs": [
    {
     "data": {
      "text/plain": [
       "float"
      ]
     },
     "execution_count": 19,
     "metadata": {},
     "output_type": "execute_result"
    }
   ],
   "source": [
    "num=1.234\n",
    "type(num)"
   ]
  },
  {
   "cell_type": "markdown",
   "id": "848ebc7c",
   "metadata": {},
   "source": [
    "2e4 # 2*1000 \n",
    "\n",
    "\n",
    "2e-3 #2/1000"
   ]
  },
  {
   "cell_type": "code",
   "execution_count": 20,
   "id": "43da3240",
   "metadata": {},
   "outputs": [
    {
     "data": {
      "text/plain": [
       "2000.0"
      ]
     },
     "execution_count": 20,
     "metadata": {},
     "output_type": "execute_result"
    }
   ],
   "source": [
    "2e+3"
   ]
  },
  {
   "cell_type": "code",
   "execution_count": 21,
   "id": "59c29e96",
   "metadata": {},
   "outputs": [
    {
     "data": {
      "text/plain": [
       "2000.0"
      ]
     },
     "execution_count": 21,
     "metadata": {},
     "output_type": "execute_result"
    }
   ],
   "source": [
    "2e3"
   ]
  },
  {
   "cell_type": "markdown",
   "id": "029f6c11",
   "metadata": {},
   "source": [
    "**Boolean**\n"
   ]
  },
  {
   "cell_type": "code",
   "execution_count": 22,
   "id": "149e6f38",
   "metadata": {},
   "outputs": [
    {
     "data": {
      "text/plain": [
       "bool"
      ]
     },
     "execution_count": 22,
     "metadata": {},
     "output_type": "execute_result"
    }
   ],
   "source": [
    "a= True   #Number=1\n",
    "type(a)"
   ]
  },
  {
   "cell_type": "code",
   "execution_count": 25,
   "id": "67d79d61",
   "metadata": {},
   "outputs": [
    {
     "data": {
      "text/plain": [
       "bool"
      ]
     },
     "execution_count": 25,
     "metadata": {},
     "output_type": "execute_result"
    }
   ],
   "source": [
    "b=False  #Number=0\n",
    "type(b)"
   ]
  },
  {
   "cell_type": "markdown",
   "id": "933e86bf",
   "metadata": {},
   "source": [
    "**String**"
   ]
  },
  {
   "cell_type": "markdown",
   "id": "3e542331",
   "metadata": {},
   "source": [
    "- String means characters\n",
    "- English letters\n"
   ]
  },
  {
   "cell_type": "code",
   "execution_count": null,
   "id": "aaf05b3f",
   "metadata": {},
   "outputs": [],
   "source": []
  },
  {
   "cell_type": "code",
   "execution_count": 12,
   "id": "6abdbb28",
   "metadata": {},
   "outputs": [
    {
     "data": {
      "text/plain": [
       "100"
      ]
     },
     "execution_count": 12,
     "metadata": {},
     "output_type": "execute_result"
    }
   ],
   "source": [
    "python=100\n",
    "name=python\n",
    "name\n",
    "#Name Error\n",
    "# we are saving python in a variable name\n",
    "#it will try to understand where is python intialized\n"
   ]
  },
  {
   "cell_type": "code",
   "execution_count": 15,
   "id": "f0836c4e",
   "metadata": {},
   "outputs": [
    {
     "data": {
      "text/plain": [
       "str"
      ]
     },
     "execution_count": 15,
     "metadata": {},
     "output_type": "execute_result"
    }
   ],
   "source": [
    "name1='python'\n",
    "type(name1)"
   ]
  },
  {
   "cell_type": "code",
   "execution_count": 20,
   "id": "235852cb",
   "metadata": {},
   "outputs": [
    {
     "data": {
      "text/plain": [
       "'hi\\n        how are you'"
      ]
     },
     "execution_count": 20,
     "metadata": {},
     "output_type": "execute_result"
    }
   ],
   "source": [
    "name2=\"\"\"hi\n",
    "        how are you\"\"\"\n",
    "name2\n",
    "#DOC STRING"
   ]
  },
  {
   "cell_type": "markdown",
   "id": "84b1de98",
   "metadata": {},
   "source": [
    "$Complex-Conjugate$\n",
    "\n",
    "- representation----a+ib\n",
    "- complex\n",
    "- where a= real number\n",
    "- b= imaginary number\n",
    "\n"
   ]
  },
  {
   "cell_type": "code",
   "execution_count": 25,
   "id": "6a257bc7",
   "metadata": {},
   "outputs": [
    {
     "data": {
      "text/plain": [
       "0j"
      ]
     },
     "execution_count": 25,
     "metadata": {},
     "output_type": "execute_result"
    }
   ],
   "source": [
    "complex(0,0)\n",
    "#shift+tab \n",
    "#default parameters is (0,0)\n"
   ]
  },
  {
   "cell_type": "code",
   "execution_count": 26,
   "id": "905dacb8",
   "metadata": {},
   "outputs": [
    {
     "data": {
      "text/plain": [
       "(3+5j)"
      ]
     },
     "execution_count": 26,
     "metadata": {},
     "output_type": "execute_result"
    }
   ],
   "source": [
    "complex(3,5)"
   ]
  },
  {
   "cell_type": "code",
   "execution_count": 27,
   "id": "7567004d",
   "metadata": {},
   "outputs": [
    {
     "data": {
      "text/plain": [
       "(3+10j)"
      ]
     },
     "execution_count": 27,
     "metadata": {},
     "output_type": "execute_result"
    }
   ],
   "source": [
    "num=3+10j\n",
    "num"
   ]
  },
  {
   "cell_type": "code",
   "execution_count": 28,
   "id": "d67db9b9",
   "metadata": {},
   "outputs": [
    {
     "data": {
      "text/plain": [
       "complex"
      ]
     },
     "execution_count": 28,
     "metadata": {},
     "output_type": "execute_result"
    }
   ],
   "source": [
    "type(num)"
   ]
  },
  {
   "cell_type": "code",
   "execution_count": 29,
   "id": "01ff4bd1",
   "metadata": {},
   "outputs": [
    {
     "data": {
      "text/plain": [
       "3.0"
      ]
     },
     "execution_count": 29,
     "metadata": {},
     "output_type": "execute_result"
    }
   ],
   "source": [
    "num.real"
   ]
  },
  {
   "cell_type": "code",
   "execution_count": 30,
   "id": "3e10f9d3",
   "metadata": {},
   "outputs": [
    {
     "data": {
      "text/plain": [
       "10.0"
      ]
     },
     "execution_count": 30,
     "metadata": {},
     "output_type": "execute_result"
    }
   ],
   "source": [
    "num.imag"
   ]
  },
  {
   "cell_type": "code",
   "execution_count": null,
   "id": "640832e4",
   "metadata": {},
   "outputs": [],
   "source": []
  }
 ],
 "metadata": {
  "kernelspec": {
   "display_name": "Python 3 (ipykernel)",
   "language": "python",
   "name": "python3"
  },
  "language_info": {
   "codemirror_mode": {
    "name": "ipython",
    "version": 3
   },
   "file_extension": ".py",
   "mimetype": "text/x-python",
   "name": "python",
   "nbconvert_exporter": "python",
   "pygments_lexer": "ipython3",
   "version": "3.11.5"
  }
 },
 "nbformat": 4,
 "nbformat_minor": 5
}
