{
 "cells": [
  {
   "cell_type": "markdown",
   "id": "6b421c58",
   "metadata": {},
   "source": [
    "### Conditional Statement"
   ]
  },
  {
   "cell_type": "code",
   "execution_count": null,
   "id": "2b882183",
   "metadata": {},
   "outputs": [],
   "source": [
    "what is meant by conditions in english\n",
    "suppose if something is happened in one direction so that is the solution if not is happened in different direction so that\n",
    "another one is solution\n",
    "if\n",
    "if not=====else\n"
   ]
  },
  {
   "cell_type": "code",
   "execution_count": null,
   "id": "ab06d7f5",
   "metadata": {},
   "outputs": [],
   "source": [
    "#syntax\n",
    "#Whenever colon is there indentation will come\n",
    "if <condition>:\n",
    "    #Statement1\n",
    "    #statement2\n",
    "else\n",
    "    #statement"
   ]
  },
  {
   "cell_type": "code",
   "execution_count": 4,
   "id": "30e90a68",
   "metadata": {},
   "outputs": [
    {
     "name": "stdout",
     "output_type": "stream",
     "text": [
      "Enter a name : python\n",
      "Name is correct\n",
      "second statement\n"
     ]
    }
   ],
   "source": [
    "name=input(\"Enter a name : \")\n",
    "if name=='python':\n",
    "    print(\"Name is correct\")\n",
    "    print(\"second statement\")\n",
    "else:\n",
    "    print(\"Invalid name\")"
   ]
  },
  {
   "cell_type": "code",
   "execution_count": 8,
   "id": "a0c1d2ca",
   "metadata": {},
   "outputs": [
    {
     "name": "stdout",
     "output_type": "stream",
     "text": [
      "Hello\n",
      "python\n"
     ]
    }
   ],
   "source": [
    "name='python'\n",
    "if name=='python':\n",
    "    print(\"Hello\")\n",
    "print(name)    "
   ]
  },
  {
   "cell_type": "code",
   "execution_count": 10,
   "id": "b296989a",
   "metadata": {},
   "outputs": [
    {
     "name": "stdout",
     "output_type": "stream",
     "text": [
      "Enter a name : python\n",
      "Invalid name\n"
     ]
    }
   ],
   "source": [
    "name=input(\"Enter a name : \")\n",
    "if name=='p':\n",
    "    print(\"Name is correct\")\n",
    "    print(\"second statement\")\n",
    "else:\n",
    "    print(\"Invalid name\")"
   ]
  },
  {
   "cell_type": "code",
   "execution_count": 12,
   "id": "6e62e0d4",
   "metadata": {},
   "outputs": [
    {
     "name": "stdout",
     "output_type": "stream",
     "text": [
      " Enter a name-python\n",
      "hello python\n",
      "how are you\n",
      "hey\n",
      "bro\n"
     ]
    }
   ],
   "source": [
    "name=input(\" Enter a name-\")\n",
    "if name==\"python\":\n",
    "    print(\"hello\",name)\n",
    "    print(\"how are you\")\n",
    "else:\n",
    "    print(\"Provide a valid one \")\n",
    "    print(\"you are out\")\n",
    "print(\"hey\")\n",
    "print(\"bro\")\n",
    "    "
   ]
  },
  {
   "cell_type": "markdown",
   "id": "a90c9036",
   "metadata": {},
   "source": [
    "### write a program ask user enter a number print wheter it is odd no. or even no. "
   ]
  },
  {
   "cell_type": "code",
   "execution_count": 16,
   "id": "6604c605",
   "metadata": {},
   "outputs": [
    {
     "name": "stdout",
     "output_type": "stream",
     "text": [
      "Enter a number : a\n",
      "name 'a' is not defined\n"
     ]
    }
   ],
   "source": [
    "try:\n",
    "    num=eval(input(\"Enter a number : \"))\n",
    "    if num%2==0:\n",
    "        print(\"It is even number\")\n",
    "    else:\n",
    "        print(\"It is a odd number\")\n",
    "except Exception as e:\n",
    "    print(e)"
   ]
  },
  {
   "cell_type": "markdown",
   "id": "5d8c23fb",
   "metadata": {},
   "source": [
    "### ask a user to generate a random integer number and print it is even or odd"
   ]
  },
  {
   "cell_type": "code",
   "execution_count": 23,
   "id": "cfcab5ab",
   "metadata": {},
   "outputs": [
    {
     "name": "stdout",
     "output_type": "stream",
     "text": [
      "It is even number\n",
      " the number is :  14\n"
     ]
    }
   ],
   "source": [
    "import random\n",
    "num=random.randint(0,100)\n",
    "if num%2==0:\n",
    "    print(\"It is even number\\n the number is : \",num)\n",
    "else:\n",
    "    print(\"It is odd number\\n the number is : \",num)"
   ]
  },
  {
   "cell_type": "markdown",
   "id": "886f59f5",
   "metadata": {},
   "source": [
    "### write a program ask a user enter a no. greater or equal to 0 print +ve else print -ve"
   ]
  },
  {
   "cell_type": "code",
   "execution_count": 43,
   "id": "348f9a45",
   "metadata": {},
   "outputs": [
    {
     "name": "stdout",
     "output_type": "stream",
     "text": [
      "Enter a number : 1\n",
      "1 is a +ve\n"
     ]
    }
   ],
   "source": [
    "num=eval(input(\"Enter a number : \"))\n",
    "if num>0:\n",
    "    print(\"{} is a +ve\".format(num))\n",
    "elif num<0:\n",
    "    print(\"{} is a -ve\".format(num))\n",
    "else :\n",
    "    print(\"It is a zero\")"
   ]
  },
  {
   "cell_type": "markdown",
   "id": "e077203a",
   "metadata": {},
   "source": [
    "### Write a program ask the user enter a number \n",
    "### if number=1 print one\n",
    "### if number=2 print two upto 4\n",
    "### otherwise print 1 2 3 4"
   ]
  },
  {
   "cell_type": "code",
   "execution_count": 46,
   "id": "788a37b3",
   "metadata": {},
   "outputs": [
    {
     "name": "stdout",
     "output_type": "stream",
     "text": [
      "Enter a number : 6\n",
      "Enter a number between 1 2 3 4 5\n"
     ]
    }
   ],
   "source": [
    "num=eval(input(\"Enter a number : \"))\n",
    "if num==1:\n",
    "    print(\"One\")\n",
    "elif num==2:\n",
    "    print(\"Two\")\n",
    "elif num==3:\n",
    "    print(\"Three\")\n",
    "elif num==4:\n",
    "    print(\"four\")\n",
    "elif num==5:\n",
    "    print(\"Five\")\n",
    "else:\n",
    "    print(\"Enter a number between 1 2 3 4 5\")"
   ]
  },
  {
   "cell_type": "markdown",
   "id": "37388050",
   "metadata": {},
   "source": [
    "### WAP ask a user enter distance if the distance between 0 and 2km  then print fare is 20rs and if the distance>4kms print the fare is 40rs id the distance between 4km to 6m print fare is 60rs, if the distance is more than 6m print fare is 100rs."
   ]
  },
  {
   "cell_type": "code",
   "execution_count": 13,
   "id": "8998548c",
   "metadata": {},
   "outputs": [
    {
     "name": "stdout",
     "output_type": "stream",
     "text": [
      "Enter the distance : 80\n",
      "The fare is 100rs\n"
     ]
    }
   ],
   "source": [
    "try:\n",
    "    d1= eval(input(\"Enter the distance : \"))\n",
    "    if d1<=2:\n",
    "        print(\"The fare is 20rs\")\n",
    "    elif d1<=4:\n",
    "        print(\"The fare is 40rs\")\n",
    "    elif d1<=6:\n",
    "        print(\"The fare is 60rs\")\n",
    "    else:\n",
    "        print(\"The fare is 100rs\")\n",
    "except Exception as e:\n",
    "    print(e)"
   ]
  },
  {
   "cell_type": "markdown",
   "id": "ff78f1cd",
   "metadata": {},
   "source": [
    "### WAP ask the user enter % if %>90 print Grade a if % between 70 and 90 print grade B, If % between 50 and 70 print grade C, If % less than 50 print grade D"
   ]
  },
  {
   "cell_type": "code",
   "execution_count": 21,
   "id": "ee70fae3",
   "metadata": {},
   "outputs": [
    {
     "name": "stdout",
     "output_type": "stream",
     "text": [
      "Enter your percentage : 50.1\n",
      "Grade C\n"
     ]
    }
   ],
   "source": [
    "try:\n",
    "    perc=eval(input(\"Enter your percentage : \"))\n",
    "    if perc>=90:\n",
    "        print(\"Grade A\")\n",
    "    elif perc>=70:\n",
    "        print(\"Grade B\")\n",
    "    elif perc>=50:\n",
    "        print(\"Grade C\")\n",
    "    else:\n",
    "        print(\"Grade D\")\n",
    "except Exception as e:\n",
    "    print(e)"
   ]
  },
  {
   "cell_type": "code",
   "execution_count": null,
   "id": "1aa596b2",
   "metadata": {},
   "outputs": [],
   "source": [
    "# wap enter a no.\n",
    "# check the first condition if num>=0\n",
    "#if that is true check one more condition if num==0 then print it is 0 number\n",
    "#other wise it is a +ve no.\n",
    "#ohter wise it is a -ve no."
   ]
  },
  {
   "cell_type": "code",
   "execution_count": 37,
   "id": "c1a0b184",
   "metadata": {},
   "outputs": [
    {
     "name": "stdout",
     "output_type": "stream",
     "text": [
      "Enter a number : a\n",
      "name 'a' is not defined\n"
     ]
    }
   ],
   "source": [
    "try:\n",
    "    num=eval(input(\"Enter a number : \"))\n",
    "    if num>=0:\n",
    "        if num==0:\n",
    "            print(\"The number is Zero number\")\n",
    "        else:\n",
    "            print(\"The number is +ve number\")\n",
    "    else:\n",
    "        print(\"The no. is -ve number\")\n",
    "except Exception as e:\n",
    "    print(e)"
   ]
  },
  {
   "cell_type": "markdown",
   "id": "445532ce",
   "metadata": {},
   "source": [
    "### Wap ask the user enter a number>=0. Check if it is between 1 and 99 then print the no. between 1 and 99, adnd check if it is 0 then print 0, check if it is  more than 99 then print the no. is out of range."
   ]
  },
  {
   "cell_type": "code",
   "execution_count": 57,
   "id": "fbf1ff11",
   "metadata": {},
   "outputs": [
    {
     "name": "stdout",
     "output_type": "stream",
     "text": [
      "ENter a number greater than or equal to 0 : 99\n",
      "No. is between 1 to 99 \n"
     ]
    }
   ],
   "source": [
    "num=eval(input(\"ENter a number greater than or equal to 0 : \"))\n",
    "if num<=99:\n",
    "    if num==0:\n",
    "        print(\"0\")\n",
    "    else:\n",
    "        print(\"No. is between 1 to 99 \")\n",
    "else:\n",
    "    print(\"THe no. is out of range\")"
   ]
  },
  {
   "cell_type": "code",
   "execution_count": 52,
   "id": "37744b3a",
   "metadata": {},
   "outputs": [
    {
     "name": "stdout",
     "output_type": "stream",
     "text": [
      "ENter a number greater than or equal to 0 : 0\n",
      "no. is zero \n"
     ]
    }
   ],
   "source": [
    "num=eval(input(\"ENter a number greater than or equal to 0 : \"))\n",
    "if num==0:\n",
    "    print(\"no. is zero \")\n",
    "elif num<=99:\n",
    "    print(\"Number between 1 to 99  \")\n",
    "else:\n",
    "    print(\"The no. is out of range\")\n",
    " "
   ]
  },
  {
   "cell_type": "markdown",
   "id": "11757bcd",
   "metadata": {},
   "source": [
    "### WAp ask a user a Gender if Gender== male ask the user enter age if age>25 then print he is an men other wise print he is a boy otherwise ask the user enter age if age>25 then she is a women else she's a girl"
   ]
  },
  {
   "cell_type": "code",
   "execution_count": 40,
   "id": "7b34b29f",
   "metadata": {},
   "outputs": [
    {
     "name": "stdout",
     "output_type": "stream",
     "text": [
      "Enter Gender : male\n",
      "Enter age: 45\n",
      "he is a men\n",
      "Invalid\n"
     ]
    }
   ],
   "source": [
    "try:\n",
    "    gender=str(input(\"Enter Gender : \"))\n",
    "    if gender=='male':\n",
    "        age=eval(input(\"Enter age: \"))\n",
    "        if age>=25:\n",
    "            print(\"he is a men\")\n",
    "        else:\n",
    "            print(\"he is a boy\")\n",
    "            \n",
    "    if gender==\"female\":\n",
    "            age=eval(input(\"Enter age : \"))\n",
    "            if age>=25:\n",
    "                print(\"She is a women\")\n",
    "            else:\n",
    "                print(\"she is a girl\")\n",
    "       \n",
    "    \n",
    "    \n",
    "except Exception as e:\n",
    "    print(e)"
   ]
  },
  {
   "cell_type": "markdown",
   "id": "a65e79ad",
   "metadata": {},
   "source": [
    "### Wap ask the user enter 3 no. find which is the greatest no."
   ]
  },
  {
   "cell_type": "code",
   "execution_count": 21,
   "id": "abe94b03",
   "metadata": {},
   "outputs": [
    {
     "name": "stdout",
     "output_type": "stream",
     "text": [
      "Enter 1st number : 2\n",
      "Enter 2nd number : 2\n",
      "Enter 3rd number : 1\n",
      "number 2 is greatest\n"
     ]
    }
   ],
   "source": [
    "n1=eval(input(\"Enter 1st number : \"))\n",
    "n2=eval(input(\"Enter 2nd number : \"))\n",
    "n3=eval(input(\"Enter 3rd number : \"))\n",
    "if n1>n2:\n",
    "    if n1>n3:\n",
    "        print(\"Number 1 is greatest\")\n",
    "    else:\n",
    "        print(\"Number 3 is greatest\")\n",
    "else:\n",
    "    if n2>n3:\n",
    "        print(\"number 2 is greatest\")\n",
    "    else:\n",
    "        print(\"number 3 is greatest\")\n",
    "    \n",
    "\n",
    "    "
   ]
  },
  {
   "cell_type": "code",
   "execution_count": 3,
   "id": "31ebdf4f",
   "metadata": {},
   "outputs": [
    {
     "name": "stdout",
     "output_type": "stream",
     "text": [
      "Enter Gender : Male\n",
      "Please enter Male or Female\n"
     ]
    }
   ],
   "source": [
    " gender=str(input(\"Enter Gender : \"))\n",
    "if gender=='male':\n",
    "    age=eval(input(\"Enter age: \"))\n",
    "    if age>=25:\n",
    "        print(\"he is a men\")\n",
    "    else:\n",
    "        print(\"he is a boy\")\n",
    "\n",
    "if gender==\"female\":\n",
    "    age=eval(input(\"Enter age : \"))\n",
    "    if age>=25:\n",
    "        print(\"She is a women\")\n",
    "    else:\n",
    "        print(\"she is a girl\")\n",
    "if gender not in [\"male\" and \"female\"]:\n",
    "    print(\"Please enter Male or Female\")"
   ]
  },
  {
   "cell_type": "code",
   "execution_count": null,
   "id": "f374f894",
   "metadata": {},
   "outputs": [],
   "source": [
    "# Average problem\n",
    "# Normal code, without arguments, with arguments, default arguments"
   ]
  },
  {
   "cell_type": "code",
   "execution_count": 1,
   "id": "3b7d4d86",
   "metadata": {},
   "outputs": [
    {
     "name": "stdout",
     "output_type": "stream",
     "text": [
      "Enter number 1 : 4\n",
      "Enter number 2 : 6\n",
      "Enter number 3 : 6\n",
      "Average is  5.333333333333333\n"
     ]
    }
   ],
   "source": [
    "n1=eval(input(\"Enter number 1 : \"))\n",
    "n2=eval(input(\"Enter number 2 : \"))\n",
    "n3=eval(input(\"Enter number 3 : \"))\n",
    "average=(n1+n2+n3)/3\n",
    "print(\"Average is \",average)"
   ]
  },
  {
   "cell_type": "code",
   "execution_count": 8,
   "id": "8be53720",
   "metadata": {},
   "outputs": [
    {
     "name": "stdout",
     "output_type": "stream",
     "text": [
      "Enter number 1 : 45\n",
      "Enter number 2 : 5\n",
      "Enter number 3 : 40\n",
      "Average is  30.0\n"
     ]
    }
   ],
   "source": [
    "#without arguments\n",
    "def AVG():\n",
    "    n1=eval(input(\"Enter number 1 : \"))\n",
    "    n2=eval(input(\"Enter number 2 : \"))\n",
    "    n3=eval(input(\"Enter number 3 : \"))\n",
    "    Avg=round((n1+n2+n3)/3,2)\n",
    "    print(\"Average is \",AVG)\n",
    "AVG()"
   ]
  },
  {
   "cell_type": "code",
   "execution_count": 3,
   "id": "8f2ea19f",
   "metadata": {},
   "outputs": [
    {
     "name": "stdout",
     "output_type": "stream",
     "text": [
      "Average is  5.0\n"
     ]
    }
   ],
   "source": [
    "# With arguments\n",
    "def average_arg(n1,n2,n3):\n",
    "    average=(n1+n2+n3)/3\n",
    "    print(\"Average is \",average)\n",
    "average_arg(5,6,4)"
   ]
  },
  {
   "cell_type": "code",
   "execution_count": 4,
   "id": "a3c4d78e",
   "metadata": {},
   "outputs": [
    {
     "name": "stdout",
     "output_type": "stream",
     "text": [
      "Average is  5.333333333333333\n"
     ]
    }
   ],
   "source": [
    "#default argument\n",
    "def average_default(n1,n2,n3=5):\n",
    "    average=(n1+n2+n3)/3\n",
    "    print(\"Average is \",average)\n",
    "average_default(5,6)"
   ]
  },
  {
   "cell_type": "markdown",
   "id": "c1538000",
   "metadata": {},
   "source": [
    "### I want to use the average value for future reference\n",
    "### he is not return the value he is just printing the value.\n"
   ]
  },
  {
   "cell_type": "code",
   "execution_count": 10,
   "id": "5c813991",
   "metadata": {},
   "outputs": [
    {
     "ename": "NameError",
     "evalue": "name 'Avg' is not defined",
     "output_type": "error",
     "traceback": [
      "\u001b[1;31m---------------------------------------------------------------------------\u001b[0m",
      "\u001b[1;31mNameError\u001b[0m                                 Traceback (most recent call last)",
      "Cell \u001b[1;32mIn[10], line 1\u001b[0m\n\u001b[1;32m----> 1\u001b[0m \u001b[38;5;28mprint\u001b[39m(Avg)\n",
      "\u001b[1;31mNameError\u001b[0m: name 'Avg' is not defined"
     ]
    }
   ],
   "source": [
    "print(Avg)"
   ]
  },
  {
   "cell_type": "code",
   "execution_count": 12,
   "id": "c3d02e5d",
   "metadata": {},
   "outputs": [
    {
     "name": "stdout",
     "output_type": "stream",
     "text": [
      "Enter number 1 : 45\n",
      "Enter number 2 : 5\n",
      "Enter number 3 : 40\n",
      "Average is  30.0\n"
     ]
    },
    {
     "data": {
      "text/plain": [
       "30.0"
      ]
     },
     "execution_count": 12,
     "metadata": {},
     "output_type": "execute_result"
    }
   ],
   "source": [
    "#without arguments\n",
    "def AVG():\n",
    "    n1=eval(input(\"Enter number 1 : \"))\n",
    "    n2=eval(input(\"Enter number 2 : \"))\n",
    "    n3=eval(input(\"Enter number 3 : \"))\n",
    "    Avg=round((n1+n2+n3)/3,2)\n",
    "    print(\"Average is \",Avg)\n",
    "    return(Avg)\n",
    "AVG()"
   ]
  },
  {
   "cell_type": "code",
   "execution_count": 13,
   "id": "5a8a71f2",
   "metadata": {},
   "outputs": [
    {
     "name": "stdout",
     "output_type": "stream",
     "text": [
      "Enter number 1 : 45\n",
      "Enter number 2 : 5\n",
      "Enter number 3 : 40\n",
      "Average is  30.0\n"
     ]
    }
   ],
   "source": [
    "output1=AVG() # this function is return only value"
   ]
  },
  {
   "cell_type": "code",
   "execution_count": 18,
   "id": "f9ca7a41",
   "metadata": {},
   "outputs": [
    {
     "data": {
      "text/plain": [
       "30.0"
      ]
     },
     "execution_count": 18,
     "metadata": {},
     "output_type": "execute_result"
    }
   ],
   "source": [
    "output1"
   ]
  },
  {
   "cell_type": "code",
   "execution_count": 19,
   "id": "5886cdf2",
   "metadata": {},
   "outputs": [
    {
     "ename": "NameError",
     "evalue": "name 'addition' is not defined",
     "output_type": "error",
     "traceback": [
      "\u001b[1;31m---------------------------------------------------------------------------\u001b[0m",
      "\u001b[1;31mNameError\u001b[0m                                 Traceback (most recent call last)",
      "Cell \u001b[1;32mIn[19], line 1\u001b[0m\n\u001b[1;32m----> 1\u001b[0m addition\n",
      "\u001b[1;31mNameError\u001b[0m: name 'addition' is not defined"
     ]
    }
   ],
   "source": [
    "addition"
   ]
  },
  {
   "cell_type": "code",
   "execution_count": null,
   "id": "8d428b66",
   "metadata": {},
   "outputs": [],
   "source": []
  }
 ],
 "metadata": {
  "kernelspec": {
   "display_name": "Python 3 (ipykernel)",
   "language": "python",
   "name": "python3"
  },
  "language_info": {
   "codemirror_mode": {
    "name": "ipython",
    "version": 3
   },
   "file_extension": ".py",
   "mimetype": "text/x-python",
   "name": "python",
   "nbconvert_exporter": "python",
   "pygments_lexer": "ipython3",
   "version": "3.11.5"
  }
 },
 "nbformat": 4,
 "nbformat_minor": 5
}
