{
 "cells": [
  {
   "cell_type": "code",
   "execution_count": null,
   "id": "1852aa5a",
   "metadata": {},
   "outputs": [],
   "source": [
    "- For loop\n",
    "- While loop\n"
   ]
  },
  {
   "cell_type": "code",
   "execution_count": null,
   "id": "8abfa062",
   "metadata": {},
   "outputs": [],
   "source": [
    "\n",
    "if you want to iterate same task many number of times, then we go for loops\n",
    "\n",
    "\n",
    "if we want to use same piece of code, then we will go for functions"
   ]
  },
  {
   "cell_type": "code",
   "execution_count": null,
   "id": "e1492220",
   "metadata": {},
   "outputs": [],
   "source": [
    "Syntax-\n",
    "\n",
    "\n",
    "for i in range <condition>:\n",
    "    #Code\n",
    "    \n",
    "- intialisation\n",
    "- condition\n",
    "- increment/decrement"
   ]
  },
  {
   "cell_type": "code",
   "execution_count": null,
   "id": "bf4d59f9",
   "metadata": {},
   "outputs": [],
   "source": [
    "# if i want to print first 10 numbers"
   ]
  },
  {
   "cell_type": "code",
   "execution_count": 14,
   "id": "761d3de4",
   "metadata": {},
   "outputs": [
    {
     "name": "stdout",
     "output_type": "stream",
     "text": [
      "0\n",
      "1\n",
      "2\n",
      "3\n",
      "4\n",
      "5\n",
      "6\n",
      "7\n",
      "8\n",
      "9\n"
     ]
    }
   ],
   "source": [
    "for a in range(10):\n",
    "    print(a)\n",
    "    \n",
    "# a in range(10)=====start/stop/increment/decrement\n",
    "#nothing mentioned means zero is the starting point\n",
    "\n",
    "    "
   ]
  },
  {
   "cell_type": "markdown",
   "id": "9477e87a",
   "metadata": {},
   "source": [
    "### Paterns-1\n",
    "- range(stop)\n",
    "- start=0 \n",
    "- end= stop-1\n",
    "- default increment\n"
   ]
  },
  {
   "cell_type": "code",
   "execution_count": 19,
   "id": "fc2db8be",
   "metadata": {},
   "outputs": [
    {
     "name": "stdout",
     "output_type": "stream",
     "text": [
      "0 1 2 3 4 5 6 7 8 9 10 11 12 13 14 15 16 17 18 19 "
     ]
    }
   ],
   "source": [
    "for i in range(20):\n",
    "    print(i,end=\" \")\n",
    "#Combine the print statement"
   ]
  },
  {
   "cell_type": "markdown",
   "id": "97dadf71",
   "metadata": {},
   "source": [
    "### PATTERN-2\n",
    "- range(start,stop)\n",
    "- start= start\n",
    "- end= stop-1\n",
    "- default increment\n",
    "\n",
    "ex: range(10,20)\n",
    "- start=10\n",
    "- stop= 20-1\n",
    "- incremental"
   ]
  },
  {
   "cell_type": "code",
   "execution_count": 23,
   "id": "204a7e59",
   "metadata": {},
   "outputs": [
    {
     "name": "stdout",
     "output_type": "stream",
     "text": [
      "10 11 12 13 14 15 16 17 18 19 "
     ]
    }
   ],
   "source": [
    "for i in range(10,20):\n",
    "    print(i,end=\" \")"
   ]
  },
  {
   "cell_type": "markdown",
   "id": "82ca4ea7",
   "metadata": {},
   "source": [
    "### PATTERN-3\n",
    "\n",
    "- range(start,stop,step)\n",
    "- start=start\n",
    "- stop= stop value depend on sign of step value\n",
    "- step sign is + : incremental\n",
    "- step sign is - : decremental\n",
    "\n",
    "- step=== +ve then end= stop-1\n",
    "- step=== -ve then end= stop+1"
   ]
  },
  {
   "cell_type": "code",
   "execution_count": 42,
   "id": "1c7bb53d",
   "metadata": {},
   "outputs": [
    {
     "name": "stdout",
     "output_type": "stream",
     "text": [
      "-10 -7 -4 -1 2 5 8 11 14 17 20 23 26 29 "
     ]
    }
   ],
   "source": [
    "for i in range(-10,30,3):\n",
    "    print(i,end=\" \")"
   ]
  },
  {
   "cell_type": "markdown",
   "id": "b8e12002",
   "metadata": {},
   "source": [
    "### write a program ask a user firsr 10 square number"
   ]
  },
  {
   "cell_type": "code",
   "execution_count": 45,
   "id": "d94be51e",
   "metadata": {},
   "outputs": [
    {
     "name": "stdout",
     "output_type": "stream",
     "text": [
      "The square of 1 is 1\n",
      "The square of 2 is 4\n",
      "The square of 3 is 9\n",
      "The square of 4 is 16\n",
      "The square of 5 is 25\n",
      "The square of 6 is 36\n",
      "The square of 7 is 49\n",
      "The square of 8 is 64\n",
      "The square of 9 is 81\n",
      "The square of 10 is 100\n"
     ]
    }
   ],
   "source": [
    "for i in range(1,11):\n",
    "    print(\"The square of {} is {}\".format(i,i*i))"
   ]
  },
  {
   "cell_type": "markdown",
   "id": "a8783781",
   "metadata": {},
   "source": [
    "### WAP to print table of 7"
   ]
  },
  {
   "cell_type": "code",
   "execution_count": 50,
   "id": "36ae07c6",
   "metadata": {},
   "outputs": [
    {
     "name": "stdout",
     "output_type": "stream",
     "text": [
      "7*1 = 7\n",
      "7*2 = 14\n",
      "7*3 = 21\n",
      "7*4 = 28\n",
      "7*5 = 35\n",
      "7*6 = 42\n",
      "7*7 = 49\n",
      "7*8 = 56\n",
      "7*9 = 63\n",
      "7*10 = 70\n"
     ]
    }
   ],
   "source": [
    "for i in range(1,11):\n",
    "    print(\"7*{} = {}\".format(i,7*i))"
   ]
  },
  {
   "cell_type": "markdown",
   "id": "8ca599d3",
   "metadata": {},
   "source": [
    "### WAP ask the user take a random number between 1-100 and print square of no. and this operation do 5 times"
   ]
  },
  {
   "cell_type": "code",
   "execution_count": 58,
   "id": "7aaab010",
   "metadata": {},
   "outputs": [
    {
     "name": "stdout",
     "output_type": "stream",
     "text": [
      "Square of 2 is 4\n",
      "Square of 67 is 4489\n",
      "Square of 23 is 529\n",
      "Square of 84 is 7056\n",
      "Square of 23 is 529\n"
     ]
    }
   ],
   "source": [
    "import random\n",
    "for i in range(5):\n",
    "    num=random.randint(1,100)\n",
    "    sq_num=num*num\n",
    "    print(\"Square of {} is {}\".format(num,sq_num))"
   ]
  },
  {
   "cell_type": "code",
   "execution_count": null,
   "id": "51ef3897",
   "metadata": {},
   "outputs": [],
   "source": []
  },
  {
   "cell_type": "code",
   "execution_count": null,
   "id": "5838701c",
   "metadata": {},
   "outputs": [],
   "source": []
  }
 ],
 "metadata": {
  "kernelspec": {
   "display_name": "Python 3 (ipykernel)",
   "language": "python",
   "name": "python3"
  },
  "language_info": {
   "codemirror_mode": {
    "name": "ipython",
    "version": 3
   },
   "file_extension": ".py",
   "mimetype": "text/x-python",
   "name": "python",
   "nbconvert_exporter": "python",
   "pygments_lexer": "ipython3",
   "version": "3.11.5"
  }
 },
 "nbformat": 4,
 "nbformat_minor": 5
}
