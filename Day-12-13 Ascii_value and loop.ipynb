{
 "cells": [
  {
   "cell_type": "code",
   "execution_count": null,
   "id": "de696979",
   "metadata": {},
   "outputs": [],
   "source": [
    "#Find the sum of 10 natural numbers"
   ]
  },
  {
   "cell_type": "code",
   "execution_count": 11,
   "id": "bef7ad1e",
   "metadata": {},
   "outputs": [
    {
     "name": "stdout",
     "output_type": "stream",
     "text": [
      "The sum of first 10 natural numbers are :  55\n"
     ]
    }
   ],
   "source": [
    "try:\n",
    "    sum=0\n",
    "    for i in range(1,11):\n",
    "        sum=sum+i\n",
    "    print(\"The sum of first 10 natural numbers are : \",sum)\n",
    "except Exception as e:\n",
    "    print(e)"
   ]
  },
  {
   "cell_type": "code",
   "execution_count": null,
   "id": "f10e9de2",
   "metadata": {},
   "outputs": [],
   "source": [
    "#WAP Ask the user to find a number is an even no. and odd no. between 1-100\n",
    "#This time count the no. of even and odd no."
   ]
  },
  {
   "cell_type": "code",
   "execution_count": 22,
   "id": "ef103dea",
   "metadata": {},
   "outputs": [
    {
     "name": "stdout",
     "output_type": "stream",
     "text": [
      "total no. of Even is  50\n",
      "total no. of Odd is  50\n"
     ]
    }
   ],
   "source": [
    "try:\n",
    "    even=0\n",
    "    odd=0\n",
    "    for a in range(1,101):\n",
    "        if a%2==0:\n",
    "          #  print(\"{} is an even number\".format(a))\n",
    "            even=even+1\n",
    "        else:\n",
    "           # print(\"{} is an odd number\".format(a))\n",
    "            odd=odd+1\n",
    "    print(\"total no. of Even is \",even)\n",
    "    print(\"total no. of Odd is \",odd)\n",
    "except Exception as e:\n",
    "    print(e)"
   ]
  },
  {
   "cell_type": "markdown",
   "id": "4b44b278",
   "metadata": {},
   "source": [
    "$in-operator$"
   ]
  },
  {
   "cell_type": "code",
   "execution_count": 41,
   "id": "9b83c16a",
   "metadata": {},
   "outputs": [
    {
     "data": {
      "text/plain": [
       "True"
      ]
     },
     "execution_count": 41,
     "metadata": {},
     "output_type": "execute_result"
    }
   ],
   "source": [
    "\"b\" in \"banana\""
   ]
  },
  {
   "cell_type": "code",
   "execution_count": 42,
   "id": "eeabcade",
   "metadata": {},
   "outputs": [
    {
     "data": {
      "text/plain": [
       "True"
      ]
     },
     "execution_count": 42,
     "metadata": {},
     "output_type": "execute_result"
    }
   ],
   "source": [
    "name=\"python\"\n",
    "\"p\" in name\n",
    "\"y\" in name\n",
    "\"t\" in name\n",
    "\"h\" in name\n",
    "\"o\" in name\n",
    "\"n\" in name"
   ]
  },
  {
   "cell_type": "code",
   "execution_count": 45,
   "id": "41003352",
   "metadata": {},
   "outputs": [
    {
     "name": "stdout",
     "output_type": "stream",
     "text": [
      "p\n",
      "y\n",
      "t\n",
      "h\n",
      "o\n",
      "n\n"
     ]
    }
   ],
   "source": [
    "name=\"python\"\n",
    "for i in name:\n",
    "    print(i)"
   ]
  },
  {
   "cell_type": "markdown",
   "id": "5af7b674",
   "metadata": {},
   "source": [
    "### range means==== Numbers\n",
    "### in operator ===== strings\n",
    "### eval==== numbers\n",
    "### input====strings"
   ]
  },
  {
   "cell_type": "code",
   "execution_count": null,
   "id": "89e00477",
   "metadata": {},
   "outputs": [],
   "source": [
    "#Wap ask the user enter a Your name\n",
    "#count the no. of letters\n",
    "#if the count>5 print(you have lengthy name)\n",
    "#else print(you have small name)"
   ]
  },
  {
   "cell_type": "code",
   "execution_count": 54,
   "id": "0453e82a",
   "metadata": {},
   "outputs": [
    {
     "name": "stdout",
     "output_type": "stream",
     "text": [
      "Enter Your name: Tushar\n",
      "You have Big name\n",
      "Total count of your name is 6\n"
     ]
    }
   ],
   "source": [
    "try:\n",
    "    count=0\n",
    "    name=str(input(\"Enter Your name: \"))\n",
    "    for i in name:\n",
    "        count=count+1\n",
    "    if count>5:\n",
    "        print(\"You have Big name\")\n",
    "    else:\n",
    "        print(\"You have small name\")\n",
    "    print(\"Total count of your name is\",count)\n",
    "except Exception as e:\n",
    "    print(e)"
   ]
  },
  {
   "cell_type": "code",
   "execution_count": null,
   "id": "3b3bea08",
   "metadata": {},
   "outputs": [],
   "source": [
    "#Wap ask the user enter your name itterate your name with loop\n",
    "# and print how many a are there in your name"
   ]
  },
  {
   "cell_type": "code",
   "execution_count": 1,
   "id": "e023e191",
   "metadata": {},
   "outputs": [
    {
     "name": "stdout",
     "output_type": "stream",
     "text": [
      "Enter Your name: tushaar\n",
      "There are 2 no. of a\n"
     ]
    }
   ],
   "source": [
    "try:\n",
    "    count=0\n",
    "    name=str(input(\"Enter Your name: \"))\n",
    "    for i in name:\n",
    "        if i==\"a\":\n",
    "            count=count+1\n",
    "    print(\"There are {} no. of a\".format(count))        \n",
    "except Exception as e:\n",
    "    print(e)"
   ]
  },
  {
   "cell_type": "markdown",
   "id": "732c3c33",
   "metadata": {},
   "source": [
    "$ORD_ Keyword$"
   ]
  },
  {
   "cell_type": "code",
   "execution_count": 4,
   "id": "f89e4493",
   "metadata": {},
   "outputs": [
    {
     "data": {
      "text/plain": [
       "97"
      ]
     },
     "execution_count": 4,
     "metadata": {},
     "output_type": "execute_result"
    }
   ],
   "source": [
    "ord(\"a\")"
   ]
  },
  {
   "cell_type": "code",
   "execution_count": 6,
   "id": "f6c699cb",
   "metadata": {},
   "outputs": [
    {
     "data": {
      "text/plain": [
       "False"
      ]
     },
     "execution_count": 6,
     "metadata": {},
     "output_type": "execute_result"
    }
   ],
   "source": [
    "\"Apple\">\"Bat\""
   ]
  },
  {
   "cell_type": "code",
   "execution_count": 7,
   "id": "4d8d3116",
   "metadata": {},
   "outputs": [
    {
     "data": {
      "text/plain": [
       "True"
      ]
     },
     "execution_count": 7,
     "metadata": {},
     "output_type": "execute_result"
    }
   ],
   "source": [
    "\"Apple\">\"APPLE\""
   ]
  },
  {
   "cell_type": "code",
   "execution_count": 10,
   "id": "10e6b94a",
   "metadata": {},
   "outputs": [
    {
     "data": {
      "text/plain": [
       "('A', 65)"
      ]
     },
     "execution_count": 10,
     "metadata": {},
     "output_type": "execute_result"
    }
   ],
   "source": [
    "chr(65),ord(\"A\")"
   ]
  },
  {
   "cell_type": "code",
   "execution_count": null,
   "id": "3693cb34",
   "metadata": {},
   "outputs": [],
   "source": [
    "# CASE-1 : use loop 1 with some range\n",
    "# ASCII value where it will start i don't know and where it will end\n",
    "#chr(1),chr(2) "
   ]
  },
  {
   "cell_type": "code",
   "execution_count": 26,
   "id": "28c47537",
   "metadata": {},
   "outputs": [
    {
     "name": "stdout",
     "output_type": "stream",
     "text": [
      "33 ASCII VALUE IS !------------>\n",
      "34 ASCII VALUE IS \"------------>\n",
      "35 ASCII VALUE IS #------------>\n",
      "36 ASCII VALUE IS $------------>\n",
      "37 ASCII VALUE IS %------------>\n",
      "38 ASCII VALUE IS &------------>\n",
      "39 ASCII VALUE IS '------------>\n",
      "40 ASCII VALUE IS (------------>\n",
      "41 ASCII VALUE IS )------------>\n",
      "42 ASCII VALUE IS *------------>\n",
      "43 ASCII VALUE IS +------------>\n",
      "44 ASCII VALUE IS ,------------>\n",
      "45 ASCII VALUE IS ------------->\n",
      "46 ASCII VALUE IS .------------>\n",
      "47 ASCII VALUE IS /------------>\n",
      "48 ASCII VALUE IS 0------------>\n",
      "49 ASCII VALUE IS 1------------>\n",
      "50 ASCII VALUE IS 2------------>\n",
      "51 ASCII VALUE IS 3------------>\n",
      "52 ASCII VALUE IS 4------------>\n",
      "53 ASCII VALUE IS 5------------>\n",
      "54 ASCII VALUE IS 6------------>\n",
      "55 ASCII VALUE IS 7------------>\n",
      "56 ASCII VALUE IS 8------------>\n",
      "57 ASCII VALUE IS 9------------>\n",
      "58 ASCII VALUE IS :------------>\n",
      "59 ASCII VALUE IS ;------------>\n",
      "60 ASCII VALUE IS <------------>\n",
      "61 ASCII VALUE IS =------------>\n",
      "62 ASCII VALUE IS >------------>\n",
      "63 ASCII VALUE IS ?------------>\n",
      "64 ASCII VALUE IS @------------>\n",
      "65 ASCII VALUE IS A------------>\n",
      "66 ASCII VALUE IS B------------>\n",
      "67 ASCII VALUE IS C------------>\n",
      "68 ASCII VALUE IS D------------>\n",
      "69 ASCII VALUE IS E------------>\n",
      "70 ASCII VALUE IS F------------>\n",
      "71 ASCII VALUE IS G------------>\n",
      "72 ASCII VALUE IS H------------>\n",
      "73 ASCII VALUE IS I------------>\n",
      "74 ASCII VALUE IS J------------>\n",
      "75 ASCII VALUE IS K------------>\n",
      "76 ASCII VALUE IS L------------>\n",
      "77 ASCII VALUE IS M------------>\n",
      "78 ASCII VALUE IS N------------>\n",
      "79 ASCII VALUE IS O------------>\n",
      "80 ASCII VALUE IS P------------>\n",
      "81 ASCII VALUE IS Q------------>\n",
      "82 ASCII VALUE IS R------------>\n",
      "83 ASCII VALUE IS S------------>\n",
      "84 ASCII VALUE IS T------------>\n",
      "85 ASCII VALUE IS U------------>\n",
      "86 ASCII VALUE IS V------------>\n",
      "87 ASCII VALUE IS W------------>\n",
      "88 ASCII VALUE IS X------------>\n",
      "89 ASCII VALUE IS Y------------>\n",
      "90 ASCII VALUE IS Z------------>\n",
      "91 ASCII VALUE IS [------------>\n",
      "92 ASCII VALUE IS \\------------>\n",
      "93 ASCII VALUE IS ]------------>\n",
      "94 ASCII VALUE IS ^------------>\n",
      "95 ASCII VALUE IS _------------>\n",
      "96 ASCII VALUE IS `------------>\n",
      "97 ASCII VALUE IS a------------>\n",
      "98 ASCII VALUE IS b------------>\n",
      "99 ASCII VALUE IS c------------>\n",
      "100 ASCII VALUE IS d------------>\n",
      "101 ASCII VALUE IS e------------>\n",
      "102 ASCII VALUE IS f------------>\n",
      "103 ASCII VALUE IS g------------>\n",
      "104 ASCII VALUE IS h------------>\n",
      "105 ASCII VALUE IS i------------>\n",
      "106 ASCII VALUE IS j------------>\n",
      "107 ASCII VALUE IS k------------>\n",
      "108 ASCII VALUE IS l------------>\n",
      "109 ASCII VALUE IS m------------>\n",
      "110 ASCII VALUE IS n------------>\n",
      "111 ASCII VALUE IS o------------>\n",
      "112 ASCII VALUE IS p------------>\n",
      "113 ASCII VALUE IS q------------>\n",
      "114 ASCII VALUE IS r------------>\n",
      "115 ASCII VALUE IS s------------>\n",
      "116 ASCII VALUE IS t------------>\n",
      "117 ASCII VALUE IS u------------>\n",
      "118 ASCII VALUE IS v------------>\n",
      "119 ASCII VALUE IS w------------>\n",
      "120 ASCII VALUE IS x------------>\n",
      "121 ASCII VALUE IS y------------>\n",
      "122 ASCII VALUE IS z------------>\n",
      "123 ASCII VALUE IS {------------>\n",
      "124 ASCII VALUE IS |------------>\n",
      "125 ASCII VALUE IS }------------>\n",
      "126 ASCII VALUE IS ~------------>\n"
     ]
    }
   ],
   "source": [
    "for i in range(33,127):\n",
    "    print(\"{} ASCII VALUE IS {}\".format(i,chr(i)))\n",
    "    "
   ]
  },
  {
   "cell_type": "code",
   "execution_count": 37,
   "id": "c9637508",
   "metadata": {},
   "outputs": [
    {
     "name": "stdout",
     "output_type": "stream",
     "text": [
      "A ASCII VALUE IS 65\n",
      "B ASCII VALUE IS 66\n",
      "C ASCII VALUE IS 67\n",
      "D ASCII VALUE IS 68\n",
      "E ASCII VALUE IS 69\n",
      "F ASCII VALUE IS 70\n",
      "G ASCII VALUE IS 71\n",
      "H ASCII VALUE IS 72\n",
      "I ASCII VALUE IS 73\n",
      "J ASCII VALUE IS 74\n",
      "K ASCII VALUE IS 75\n",
      "L ASCII VALUE IS 76\n",
      "M ASCII VALUE IS 77\n",
      "N ASCII VALUE IS 78\n",
      "O ASCII VALUE IS 79\n",
      "P ASCII VALUE IS 80\n",
      "Q ASCII VALUE IS 81\n",
      "R ASCII VALUE IS 82\n",
      "S ASCII VALUE IS 83\n",
      "T ASCII VALUE IS 84\n",
      "U ASCII VALUE IS 85\n",
      "V ASCII VALUE IS 86\n",
      "W ASCII VALUE IS 87\n",
      "X ASCII VALUE IS 88\n",
      "Y ASCII VALUE IS 89\n",
      "Z ASCII VALUE IS 90\n"
     ]
    }
   ],
   "source": [
    "for i in \"ABCDEFGHIJKLMNOPQRSTUVWXYZ\":\n",
    "    print(\"{} ASCII VALUE IS {}\".format(i,ord (i)))"
   ]
  },
  {
   "cell_type": "markdown",
   "id": "ea4bc2c9",
   "metadata": {},
   "source": [
    "$StringPackage$"
   ]
  },
  {
   "cell_type": "code",
   "execution_count": 40,
   "id": "1776e229",
   "metadata": {},
   "outputs": [
    {
     "data": {
      "text/plain": [
       "['Formatter',\n",
       " 'Template',\n",
       " '_ChainMap',\n",
       " '__all__',\n",
       " '__builtins__',\n",
       " '__cached__',\n",
       " '__doc__',\n",
       " '__file__',\n",
       " '__loader__',\n",
       " '__name__',\n",
       " '__package__',\n",
       " '__spec__',\n",
       " '_re',\n",
       " '_sentinel_dict',\n",
       " '_string',\n",
       " 'ascii_letters',\n",
       " 'ascii_lowercase',\n",
       " 'ascii_uppercase',\n",
       " 'capwords',\n",
       " 'digits',\n",
       " 'hexdigits',\n",
       " 'octdigits',\n",
       " 'printable',\n",
       " 'punctuation',\n",
       " 'whitespace']"
      ]
     },
     "execution_count": 40,
     "metadata": {},
     "output_type": "execute_result"
    }
   ],
   "source": [
    "import string\n",
    "dir (string)"
   ]
  },
  {
   "cell_type": "code",
   "execution_count": 55,
   "id": "dab10c21",
   "metadata": {},
   "outputs": [
    {
     "name": "stdout",
     "output_type": "stream",
     "text": [
      "<module '_string' (built-in)>\n"
     ]
    }
   ],
   "source": [
    "print(string._string)"
   ]
  },
  {
   "cell_type": "code",
   "execution_count": 57,
   "id": "9c656d64",
   "metadata": {},
   "outputs": [
    {
     "name": "stdout",
     "output_type": "stream",
     "text": [
      "A----->65\n",
      "B----->66\n",
      "C----->67\n",
      "D----->68\n",
      "E----->69\n",
      "F----->70\n",
      "G----->71\n",
      "H----->72\n",
      "I----->73\n",
      "J----->74\n",
      "K----->75\n",
      "L----->76\n",
      "M----->77\n",
      "N----->78\n",
      "O----->79\n",
      "P----->80\n",
      "Q----->81\n",
      "R----->82\n",
      "S----->83\n",
      "T----->84\n",
      "U----->85\n",
      "V----->86\n",
      "W----->87\n",
      "X----->88\n",
      "Y----->89\n",
      "Z----->90\n"
     ]
    }
   ],
   "source": [
    "import string\n",
    "for i in string.ascii_uppercase:\n",
    "    print(i,ord(i),sep=\"----->\")"
   ]
  },
  {
   "cell_type": "code",
   "execution_count": null,
   "id": "c4b9a150",
   "metadata": {},
   "outputs": [],
   "source": []
  },
  {
   "cell_type": "code",
   "execution_count": null,
   "id": "ecc801b8",
   "metadata": {},
   "outputs": [],
   "source": []
  }
 ],
 "metadata": {
  "kernelspec": {
   "display_name": "Python 3 (ipykernel)",
   "language": "python",
   "name": "python3"
  },
  "language_info": {
   "codemirror_mode": {
    "name": "ipython",
    "version": 3
   },
   "file_extension": ".py",
   "mimetype": "text/x-python",
   "name": "python",
   "nbconvert_exporter": "python",
   "pygments_lexer": "ipython3",
   "version": "3.11.5"
  }
 },
 "nbformat": 4,
 "nbformat_minor": 5
}
