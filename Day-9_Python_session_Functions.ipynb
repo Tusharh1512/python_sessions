{
 "cells": [
  {
   "cell_type": "code",
   "execution_count": null,
   "id": "6e5fde34",
   "metadata": {},
   "outputs": [],
   "source": [
    "# in order to print local Variable\n",
    "# We need to covert local variable to global variable\n",
    "keyword : global\n",
    "    \n",
    "    #Parameters can never become a global variable\n",
    "    #That are always inside the function only"
   ]
  },
  {
   "cell_type": "markdown",
   "id": "922dd207",
   "metadata": {},
   "source": [
    " - Basic Function creation\n",
    "- Without arguments\n",
    "- With arguments\n",
    "- Default arguments\n",
    "- Local arguments\n",
    "- Return concepts\n",
    "- Global Variable"
   ]
  },
  {
   "cell_type": "code",
   "execution_count": 27,
   "id": "86c2acd0",
   "metadata": {},
   "outputs": [],
   "source": [
    "b=20          #Global Variable\n",
    "def val():\n",
    "    b=30     #Local Variable\n",
    "    print(\"The value of a : \",b)\n",
    "    return(b)"
   ]
  },
  {
   "cell_type": "code",
   "execution_count": 28,
   "id": "95441818",
   "metadata": {},
   "outputs": [
    {
     "name": "stdout",
     "output_type": "stream",
     "text": [
      "The value of a :  30\n"
     ]
    }
   ],
   "source": [
    "B=val()"
   ]
  },
  {
   "cell_type": "code",
   "execution_count": 29,
   "id": "69651ed4",
   "metadata": {},
   "outputs": [
    {
     "name": "stdout",
     "output_type": "stream",
     "text": [
      "30\n"
     ]
    }
   ],
   "source": [
    "print(B)"
   ]
  },
  {
   "cell_type": "code",
   "execution_count": 17,
   "id": "b52a6a90",
   "metadata": {},
   "outputs": [],
   "source": [
    "b=20          #Global Variable\n",
    "def val():\n",
    "    global b\n",
    "    b=30     #Local Variable\n",
    "    print(\"The value of a : \",b)"
   ]
  },
  {
   "cell_type": "code",
   "execution_count": 18,
   "id": "0083f0d0",
   "metadata": {},
   "outputs": [
    {
     "name": "stdout",
     "output_type": "stream",
     "text": [
      "The value of a :  30\n"
     ]
    }
   ],
   "source": [
    "val()"
   ]
  },
  {
   "cell_type": "code",
   "execution_count": 19,
   "id": "f9b5fd06",
   "metadata": {},
   "outputs": [
    {
     "name": "stdout",
     "output_type": "stream",
     "text": [
      "30\n"
     ]
    }
   ],
   "source": [
    "print(b)"
   ]
  },
  {
   "cell_type": "code",
   "execution_count": 51,
   "id": "fabc599d",
   "metadata": {},
   "outputs": [
    {
     "name": "stdout",
     "output_type": "stream",
     "text": [
      "Enter number50\n",
      "100\n",
      "50\n"
     ]
    }
   ],
   "source": [
    "num1=30\n",
    "def add(num3):\n",
    "    global num1,num2\n",
    "    num2=eval(input(\"Enter number\"))\n",
    "    num1=num2+num3\n",
    "    print(num1)\n",
    "    print(num2)\n",
    "add(50)\n"
   ]
  },
  {
   "cell_type": "markdown",
   "id": "0ff8fde2",
   "metadata": {},
   "source": [
    "### tip and total bill\n",
    "- take bill as a global variable\n",
    "- create a function, inside the function provide default parameter as tip\n",
    "- create a global keyword as total amount\n",
    "- calculate total amount\n",
    "- print total amount outside the function"
   ]
  },
  {
   "cell_type": "code",
   "execution_count": 75,
   "id": "23183f96",
   "metadata": {},
   "outputs": [
    {
     "name": "stdout",
     "output_type": "stream",
     "text": [
      "Enter your bill amount : 1000\n",
      " Total Bill is  1100.0\n"
     ]
    }
   ],
   "source": [
    "bill=eval(input(\"Enter your bill amount : \"))\n",
    "def Bill(tip=10):\n",
    "    global total\n",
    "    total=((bill*tip)/100)+bill\n",
    "Bill()\n",
    "print(\" Total Bill is \",total)\n"
   ]
  },
  {
   "cell_type": "markdown",
   "id": "ad8c643a",
   "metadata": {},
   "source": [
    "### Function in functions"
   ]
  },
  {
   "cell_type": "code",
   "execution_count": 78,
   "id": "97270cd3",
   "metadata": {},
   "outputs": [],
   "source": [
    "def greet():\n",
    "    print(\"hello Good morning\")\n",
    "def hey():\n",
    "    print(\"Yo\")\n",
    "    greet()\n",
    "    print(\"How do you do\")"
   ]
  },
  {
   "cell_type": "code",
   "execution_count": 79,
   "id": "26af1343",
   "metadata": {},
   "outputs": [
    {
     "name": "stdout",
     "output_type": "stream",
     "text": [
      "Yo\n",
      "hello Good morning\n",
      "How do you do\n"
     ]
    }
   ],
   "source": [
    "hey()"
   ]
  },
  {
   "cell_type": "code",
   "execution_count": 80,
   "id": "08e9219d",
   "metadata": {},
   "outputs": [
    {
     "name": "stdout",
     "output_type": "stream",
     "text": [
      "How much 3+5\n",
      "Good morning\n",
      "Hello\n",
      "I think i don't know\n",
      "End of story\n"
     ]
    }
   ],
   "source": [
    "def greet1():\n",
    "    print(\"Hello\")\n",
    "def greet2():\n",
    "    print(\"Good morning\")\n",
    "def greet3():\n",
    "    print(\"How much 3+5\")\n",
    "def greet4():\n",
    "    print(\"I think i don't know\")\n",
    "def solve():\n",
    "    greet3()\n",
    "    greet2()\n",
    "    greet1()\n",
    "    greet4()\n",
    "    print(\"End of story\")\n",
    "solve()"
   ]
  },
  {
   "cell_type": "code",
   "execution_count": 85,
   "id": "a931faa0",
   "metadata": {},
   "outputs": [
    {
     "name": "stdout",
     "output_type": "stream",
     "text": [
      "How much 3+5\n",
      "Good morning\n",
      "Tushar\n",
      "I think i don't know\n",
      "End of story\n"
     ]
    }
   ],
   "source": [
    "def greet1(name):\n",
    "    print(name)\n",
    "def greet2():\n",
    "    print(\"Good morning\")\n",
    "def greet3():\n",
    "    print(\"How much 3+5\")\n",
    "def greet4():\n",
    "    print(\"I think i don't know\")\n",
    "def solve(name):\n",
    "    greet3()\n",
    "    greet2()\n",
    "    greet1(name)\n",
    "    greet4()\n",
    "    print(\"End of story\")\n",
    "solve(\"Tushar\")"
   ]
  },
  {
   "cell_type": "code",
   "execution_count": 88,
   "id": "88300d70",
   "metadata": {},
   "outputs": [
    {
     "name": "stdout",
     "output_type": "stream",
     "text": [
      "How much 3+5?  8\n",
      "Good morning Tushar\n",
      "hello python\n",
      "I think i don't know\n",
      "End of story\n"
     ]
    }
   ],
   "source": [
    "def greet1(name1):\n",
    "    print(\"hello\",name1)\n",
    "def greet2(name2):\n",
    "    print(\"Good morning\",name2)\n",
    "def greet3(val):\n",
    "    print(\"How much 3+5? \",val)\n",
    "def greet4():\n",
    "    print(\"I think i don't know\")\n",
    "def solve(val,name1,name2):\n",
    "    greet3(val)\n",
    "    greet2(name2)\n",
    "    greet1(name1)\n",
    "    greet4()\n",
    "    print(\"End of story\")\n",
    "solve(8,\"python\",\"Tushar\")"
   ]
  },
  {
   "cell_type": "markdown",
   "id": "785c225f",
   "metadata": {},
   "source": [
    "### Calculator Program\n",
    "- define 4 function individually\n",
    "- add=== 2 arguments\n",
    "- sub====2 arguments\n",
    "- mult === 2 arguments\n",
    "- div==== 2 arguments'\n",
    "\n",
    "- Define main function as calculator\n",
    "- inside the function you need to write a number : input(\"Enter a number\")\n",
    "- if that number=='1' : then add function\n",
    "- if that no. =='2' then call sub()\n",
    "- that no. =='3' then call mul()\n",
    "- that no.=='4' then call div()\n",
    "\n",
    "- calculator()"
   ]
  },
  {
   "cell_type": "code",
   "execution_count": 116,
   "id": "d7000a39",
   "metadata": {},
   "outputs": [
    {
     "name": "stdout",
     "output_type": "stream",
     "text": [
      " 1 for addition \n",
      " 2 for sub \n",
      " 3 for multiplication \n",
      " 4 for division\n",
      "Enter a number between 1-4 4\n",
      "Division of 6 and 5 is 1.2\n"
     ]
    }
   ],
   "source": [
    "def add(a,b):\n",
    "    print(\"Addition of {} and {} is {}\".format(a,b,a+b))\n",
    "def sub(a,b):\n",
    "    print(\"Substraction of {} and {} is {}\".format(a,b,a-b))\n",
    "def mul(a,b):\n",
    "    print(\"Multiplication of {} and {} is {}\".format(a,b,a*b))\n",
    "def div(a,b):\n",
    "    print(\"Division of {} and {} is {}\".format(a,b,a/b))\n",
    "def calculator(a,b):\n",
    "    print(\" 1 for addition \\n 2 for sub \\n 3 for multiplication \\n 4 for division\")\n",
    "    num=int(input(\"Enter a number between 1-4 \"))\n",
    "    if num==1:\n",
    "        add(a,b)\n",
    "    elif num==2:\n",
    "        sub(a,b)\n",
    "    elif num==3:\n",
    "        mul(a,b)\n",
    "    elif num==4:\n",
    "        div(a,b)\n",
    "calculator(6,5)"
   ]
  },
  {
   "cell_type": "code",
   "execution_count": null,
   "id": "e38736c7",
   "metadata": {},
   "outputs": [],
   "source": []
  },
  {
   "cell_type": "code",
   "execution_count": null,
   "id": "dcbdaad9",
   "metadata": {},
   "outputs": [],
   "source": []
  },
  {
   "cell_type": "code",
   "execution_count": null,
   "id": "dbd1ea5e",
   "metadata": {},
   "outputs": [],
   "source": []
  },
  {
   "cell_type": "code",
   "execution_count": null,
   "id": "f7787730",
   "metadata": {},
   "outputs": [],
   "source": []
  }
 ],
 "metadata": {
  "kernelspec": {
   "display_name": "Python 3 (ipykernel)",
   "language": "python",
   "name": "python3"
  },
  "language_info": {
   "codemirror_mode": {
    "name": "ipython",
    "version": 3
   },
   "file_extension": ".py",
   "mimetype": "text/x-python",
   "name": "python",
   "nbconvert_exporter": "python",
   "pygments_lexer": "ipython3",
   "version": "3.11.5"
  }
 },
 "nbformat": 4,
 "nbformat_minor": 5
}
