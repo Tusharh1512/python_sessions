{
 "cells": [
  {
   "cell_type": "code",
   "execution_count": 3,
   "id": "9a61f809",
   "metadata": {},
   "outputs": [],
   "source": [
    "#i want to create a function with name add\n",
    "def add():\n",
    "    a=20\n",
    "    b=30\n",
    "    print(a+b)\n",
    "    \n",
    "# if you run the function it will not return any output \n",
    "#until unless ypu call the function"
   ]
  },
  {
   "cell_type": "code",
   "execution_count": null,
   "id": "cfdf5972",
   "metadata": {},
   "outputs": [],
   "source": [
    "def even_odd():\n",
    "    try:\n",
    "        \n",
    "        \n",
    "        \n",
    "        \n",
    "    except Exception as e:\n",
    "        print(e)\n",
    "        \n",
    "#If we provide anything inside the brackets\n",
    "#that are called arguments/paramete"
   ]
  },
  {
   "cell_type": "code",
   "execution_count": 4,
   "id": "a3fa9311",
   "metadata": {},
   "outputs": [
    {
     "name": "stdout",
     "output_type": "stream",
     "text": [
      "50\n"
     ]
    }
   ],
   "source": [
    "add()"
   ]
  },
  {
   "cell_type": "code",
   "execution_count": 5,
   "id": "5e242ecc",
   "metadata": {},
   "outputs": [
    {
     "name": "stdout",
     "output_type": "stream",
     "text": [
      "Enter base salary : 50000\n",
      "Enter DA amount : 10000\n",
      "The total salary is : 60000\n"
     ]
    }
   ],
   "source": [
    "# i want to do an operation of adding a base salary and DA amount\n",
    "#total salary\n",
    "\n",
    "#write normal code\n",
    "\n",
    "base_salary=eval(input(\"Enter base salary : \"))\n",
    "DA_amount=eval(input(\"Enter DA amount : \"))\n",
    "total_salary=base_salary+DA_amount\n",
    "print(\"The total salary is :\",total_salary)"
   ]
  },
  {
   "cell_type": "code",
   "execution_count": 9,
   "id": "935ed38d",
   "metadata": {},
   "outputs": [],
   "source": [
    "def salary():\n",
    "    base_salary=eval(input(\"Enter base salary : \"))\n",
    "    DA_amount=eval(input(\"Enter DA amount : \"))\n",
    "    total_salary=base_salary+DA_amount\n",
    "    print(\"The total salary is :\",total_salary)\n",
    "    "
   ]
  },
  {
   "cell_type": "code",
   "execution_count": 10,
   "id": "0f2779e8",
   "metadata": {},
   "outputs": [
    {
     "name": "stdout",
     "output_type": "stream",
     "text": [
      "Enter base salary : 50000\n",
      "Enter DA amount : 10000\n",
      "The total salary is : 60000\n"
     ]
    }
   ],
   "source": [
    "salary()"
   ]
  },
  {
   "cell_type": "code",
   "execution_count": 15,
   "id": "3b2f990e",
   "metadata": {},
   "outputs": [
    {
     "name": "stdout",
     "output_type": "stream",
     "text": [
      "Enter 1st number 4\n",
      "Enter 2nd number 5\n",
      "Enter 3rd number 6\n",
      "Average of three numbers is  5.0\n"
     ]
    }
   ],
   "source": [
    "### Wap Ask the user enter 3 no. and calculate average\n",
    "\n",
    "def average():\n",
    "    n1=eval(input(\"Enter 1st number \"))\n",
    "    n2=eval(input(\"Enter 2nd number \"))\n",
    "    n3=eval(input(\"Enter 3rd number \"))\n",
    "    average=(n1+n2+n3)/3\n",
    "    print(\"Average of three numbers is \",average)\n",
    "average()"
   ]
  },
  {
   "cell_type": "code",
   "execution_count": 14,
   "id": "ef24f7dd",
   "metadata": {},
   "outputs": [
    {
     "name": "stdout",
     "output_type": "stream",
     "text": [
      "Enter 1st number4\n",
      "Enter 2nd number5\n",
      "Enter 3rd number6\n",
      "Average of three numbers is  5.0\n"
     ]
    }
   ],
   "source": [
    "average()"
   ]
  },
  {
   "cell_type": "code",
   "execution_count": null,
   "id": "ae7aaeb4",
   "metadata": {},
   "outputs": [],
   "source": [
    "# Wap ask the user enter bill amount"
   ]
  },
  {
   "cell_type": "code",
   "execution_count": 29,
   "id": "7a5a3fae",
   "metadata": {},
   "outputs": [
    {
     "name": "stdout",
     "output_type": "stream",
     "text": [
      "Enter bill amount : 5000\n",
      "Enter tip amount : 1\n",
      "Total bill amount is  5001\n"
     ]
    }
   ],
   "source": [
    "def amount():\n",
    "    try:\n",
    "        bill_amt=eval(input(\"Enter bill amount : \"))\n",
    "        tip_amt= eval(input(\"Enter tip amount : \"))\n",
    "        total_amt=bill_amt+tip_amt\n",
    "        print(\"Total bill amount is \",total_amt)\n",
    "    except Exception as e:\n",
    "        print(e)\n",
    "amount()\n",
    "    "
   ]
  },
  {
   "cell_type": "code",
   "execution_count": 36,
   "id": "643224e5",
   "metadata": {},
   "outputs": [
    {
     "name": "stdout",
     "output_type": "stream",
     "text": [
      "Enter any number : @\n",
      "invalid syntax (<string>, line 1)\n"
     ]
    }
   ],
   "source": [
    "def even_odd():\n",
    "    try:\n",
    "        num=eval(input(\"Enter any number : \"))\n",
    "        if num%2==0:\n",
    "            print(\"It is a even number\")\n",
    "        else:\n",
    "            print(\"It is a odd number\")\n",
    "    except Exception as e:\n",
    "            print(e)\n",
    "even_odd()\n",
    "        "
   ]
  },
  {
   "cell_type": "markdown",
   "id": "6898a541",
   "metadata": {},
   "source": [
    "### With arguments"
   ]
  },
  {
   "cell_type": "code",
   "execution_count": 38,
   "id": "8cee3544",
   "metadata": {},
   "outputs": [
    {
     "name": "stdout",
     "output_type": "stream",
     "text": [
      "50\n"
     ]
    }
   ],
   "source": [
    "def add(a,b):\n",
    "    print(a+b)\n",
    "add(20,30)\n",
    "#How many variables you provide"
   ]
  },
  {
   "cell_type": "code",
   "execution_count": 39,
   "id": "69854881",
   "metadata": {},
   "outputs": [
    {
     "name": "stdout",
     "output_type": "stream",
     "text": [
      "50\n"
     ]
    }
   ],
   "source": [
    "def add(a):\n",
    "    b=30\n",
    "    print(a+b)\n",
    "add(20)"
   ]
  },
  {
   "cell_type": "code",
   "execution_count": 43,
   "id": "1ab8f2bb",
   "metadata": {},
   "outputs": [
    {
     "ename": "NameError",
     "evalue": "name 'a' is not defined",
     "output_type": "error",
     "traceback": [
      "\u001b[1;31m---------------------------------------------------------------------------\u001b[0m",
      "\u001b[1;31mNameError\u001b[0m                                 Traceback (most recent call last)",
      "Cell \u001b[1;32mIn[43], line 4\u001b[0m\n\u001b[0;32m      1\u001b[0m \u001b[38;5;28;01mdef\u001b[39;00m \u001b[38;5;21madd\u001b[39m():\n\u001b[0;32m      3\u001b[0m     \u001b[38;5;28mprint\u001b[39m(a\u001b[38;5;241m+\u001b[39mb)\n\u001b[1;32m----> 4\u001b[0m add()\n",
      "Cell \u001b[1;32mIn[43], line 3\u001b[0m, in \u001b[0;36madd\u001b[1;34m()\u001b[0m\n\u001b[0;32m      1\u001b[0m \u001b[38;5;28;01mdef\u001b[39;00m \u001b[38;5;21madd\u001b[39m():\n\u001b[1;32m----> 3\u001b[0m     \u001b[38;5;28mprint\u001b[39m(a\u001b[38;5;241m+\u001b[39mb)\n",
      "\u001b[1;31mNameError\u001b[0m: name 'a' is not defined"
     ]
    }
   ],
   "source": [
    "def add():\n",
    "   \n",
    "    print(a+b)\n",
    "add()"
   ]
  },
  {
   "cell_type": "code",
   "execution_count": 44,
   "id": "8c19e90a",
   "metadata": {},
   "outputs": [
    {
     "name": "stdout",
     "output_type": "stream",
     "text": [
      "The total salary is : 60000\n"
     ]
    }
   ],
   "source": [
    "def salary(base_salary,DA_amount):\n",
    "    \n",
    "    total_salary=base_salary+DA_amount\n",
    "    print(\"The total salary is :\",total_salary)\n",
    "salary(50000,10000)\n",
    "    "
   ]
  },
  {
   "cell_type": "code",
   "execution_count": 45,
   "id": "32be40d1",
   "metadata": {},
   "outputs": [
    {
     "name": "stdout",
     "output_type": "stream",
     "text": [
      "Average of three numbers is  30.0\n"
     ]
    }
   ],
   "source": [
    "def average(n1,n2,n3):\n",
    "   \n",
    "    average=(n1+n2+n3)/3\n",
    "    print(\"Average of three numbers is \",average)\n",
    "average(20,30,40)"
   ]
  },
  {
   "cell_type": "markdown",
   "id": "28883b7f",
   "metadata": {},
   "source": [
    "- Without arguments\n",
    "- with arguments\n",
    "- default arguments"
   ]
  },
  {
   "cell_type": "code",
   "execution_count": 48,
   "id": "4f96343e",
   "metadata": {},
   "outputs": [
    {
     "name": "stdout",
     "output_type": "stream",
     "text": [
      "Average of three numbers is  116.667\n"
     ]
    }
   ],
   "source": [
    "def average(n1,n2,n3=300):\n",
    "   \n",
    "    average=round((n1+n2+n3)/3,3)\n",
    "    print(\"Average of three numbers is \",average)\n",
    "average(20,30)"
   ]
  },
  {
   "cell_type": "code",
   "execution_count": 49,
   "id": "bbc8ee5a",
   "metadata": {},
   "outputs": [
    {
     "name": "stdout",
     "output_type": "stream",
     "text": [
      "n1:  10\n",
      "n2:  20\n",
      "n3:  30\n",
      "Average of three numbers is  20.0\n"
     ]
    }
   ],
   "source": [
    "# First verification\n",
    "\n",
    "def average(n1,n2,n3=300):\n",
    "    print(\"n1: \",n1)\n",
    "    print(\"n2: \",n2)\n",
    "    print(\"n3: \",n3)\n",
    "   \n",
    "    average=round((n1+n2+n3)/3,3)\n",
    "    print(\"Average of three numbers is \",average)\n",
    "average(10,20,30)"
   ]
  },
  {
   "cell_type": "code",
   "execution_count": null,
   "id": "69039722",
   "metadata": {},
   "outputs": [],
   "source": []
  },
  {
   "cell_type": "code",
   "execution_count": null,
   "id": "1c2900c9",
   "metadata": {},
   "outputs": [],
   "source": []
  },
  {
   "cell_type": "code",
   "execution_count": null,
   "id": "81891074",
   "metadata": {},
   "outputs": [],
   "source": []
  },
  {
   "cell_type": "code",
   "execution_count": null,
   "id": "b81f653f",
   "metadata": {},
   "outputs": [],
   "source": []
  }
 ],
 "metadata": {
  "kernelspec": {
   "display_name": "Python 3 (ipykernel)",
   "language": "python",
   "name": "python3"
  },
  "language_info": {
   "codemirror_mode": {
    "name": "ipython",
    "version": 3
   },
   "file_extension": ".py",
   "mimetype": "text/x-python",
   "name": "python",
   "nbconvert_exporter": "python",
   "pygments_lexer": "ipython3",
   "version": "3.11.5"
  }
 },
 "nbformat": 4,
 "nbformat_minor": 5
}
