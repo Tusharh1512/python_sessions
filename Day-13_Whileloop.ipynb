{
 "cells": [
  {
   "cell_type": "code",
   "execution_count": 3,
   "id": "cd5d17ad",
   "metadata": {},
   "outputs": [
    {
     "name": "stdout",
     "output_type": "stream",
     "text": [
      "0 1 2 3 4 5 6 7 8 9 "
     ]
    }
   ],
   "source": [
    "\n",
    "#print first 10 letters\n",
    "for i in range(10):\n",
    "    print(i,end=\" \")"
   ]
  },
  {
   "cell_type": "markdown",
   "id": "c332c726",
   "metadata": {},
   "source": [
    "### while loop we need to provide 3 things\n",
    "- initial point\n",
    "- condition\n",
    "- increment/decrremtnt"
   ]
  },
  {
   "cell_type": "code",
   "execution_count": null,
   "id": "cebba007",
   "metadata": {},
   "outputs": [],
   "source": [
    "i=0\n",
    "while<condition>:\n",
    "    print(i,end=\" \")\n",
    "    i=i+1  #increment"
   ]
  },
  {
   "cell_type": "code",
   "execution_count": 47,
   "id": "ca3cd120",
   "metadata": {},
   "outputs": [
    {
     "name": "stdout",
     "output_type": "stream",
     "text": [
      "Enter any number : 15\n",
      "15 x 1 = 15\n",
      "15 x 2 = 30\n",
      "15 x 3 = 45\n",
      "15 x 4 = 60\n",
      "15 x 5 = 75\n",
      "15 x 6 = 90\n",
      "15 x 7 = 105\n",
      "15 x 8 = 120\n",
      "15 x 9 = 135\n",
      "15 x 10 = 150\n"
     ]
    }
   ],
   "source": [
    "#multiple of any number\n",
    "\n",
    "a=eval(input(\"Enter any number : \"))\n",
    "multiple=1\n",
    "while multiple<=10:\n",
    "    print(a,\"x\",multiple,\"=\",a*multiple)\n",
    "    multiple+=1"
   ]
  },
  {
   "cell_type": "code",
   "execution_count": 32,
   "id": "b9791a61",
   "metadata": {},
   "outputs": [
    {
     "name": "stdout",
     "output_type": "stream",
     "text": [
      "-10 -9 -8 -7 -6 -5 -4 -3 -2 -1 "
     ]
    }
   ],
   "source": [
    "i=-10\n",
    "while i<=-1:\n",
    "    print(i,end=\" \")\n",
    "    i+=1"
   ]
  },
  {
   "cell_type": "code",
   "execution_count": 38,
   "id": "61545cc4",
   "metadata": {},
   "outputs": [
    {
     "name": "stdout",
     "output_type": "stream",
     "text": [
      "-1 -2 -3 -4 -5 -6 -7 -8 -9 -10 "
     ]
    }
   ],
   "source": [
    "i=-1\n",
    "while i>=-10:\n",
    "    print(i,end=\" \")\n",
    "    i-=1"
   ]
  },
  {
   "cell_type": "code",
   "execution_count": 41,
   "id": "06df67c8",
   "metadata": {},
   "outputs": [
    {
     "name": "stdout",
     "output_type": "stream",
     "text": [
      "10 9 8 7 6 5 4 3 2 1 0 "
     ]
    }
   ],
   "source": [
    "i=10\n",
    "while i>=0:\n",
    "    \n",
    "    print(i,end=\" \")\n",
    "    i-=1"
   ]
  },
  {
   "cell_type": "code",
   "execution_count": 44,
   "id": "47147c41",
   "metadata": {},
   "outputs": [
    {
     "name": "stdout",
     "output_type": "stream",
     "text": [
      "0 1 2 3 4 5 6 7 8 9 10 "
     ]
    }
   ],
   "source": [
    "i=0\n",
    "while i<=10:\n",
    "    print(i,end=\" \")\n",
    "    i+=1"
   ]
  },
  {
   "cell_type": "code",
   "execution_count": 4,
   "id": "e3697c06",
   "metadata": {},
   "outputs": [
    {
     "name": "stdout",
     "output_type": "stream",
     "text": [
      "0 1 2 3 4 5 6 7 8 9 10 "
     ]
    }
   ],
   "source": [
    "i=0\n",
    "while i<=10:\n",
    "    print(i,end=\" \")\n",
    "    if i==11:\n",
    "        breaki    i=i+1"
   ]
  },
  {
   "cell_type": "code",
   "execution_count": 5,
   "id": "e2995350",
   "metadata": {},
   "outputs": [
    {
     "name": "stdout",
     "output_type": "stream",
     "text": [
      "0 1 2 3 "
     ]
    }
   ],
   "source": [
    "\n",
    "\n",
    "\n",
    "\n",
    "i=0\n",
    "while i<=0:              #Wrong condition\n",
    "    print(i,end=\" \")\n",
    "    i+=1\n",
    "    if i==4:\n",
    "        break\n",
    "\n",
    "\n",
    "\n",
    "i=0\n",
    "while True:              #No condition\n",
    "    print(i,end=\" \")\n",
    "    i+=1\n",
    "    if i==4:             #Condition to stop the loop\n",
    "        break"
   ]
  },
  {
   "cell_type": "code",
   "execution_count": null,
   "id": "f0292c13",
   "metadata": {},
   "outputs": [],
   "source": [
    "#WAP ask the user get 10 random numbers print it is a even or odd"
   ]
  },
  {
   "cell_type": "code",
   "execution_count": 9,
   "id": "5a65a4f1",
   "metadata": {},
   "outputs": [
    {
     "name": "stdout",
     "output_type": "stream",
     "text": [
      "Odd number 99\n",
      "Odd number 81\n",
      "Odd number 67\n",
      "Odd number 67\n",
      "Even number  92\n",
      "Odd number 71\n",
      "Odd number 29\n",
      "Odd number 61\n",
      "Odd number 27\n",
      "Even number  80\n"
     ]
    }
   ],
   "source": [
    "import random\n",
    "for i in range(10):\n",
    "    num=random.randint(1,100)\n",
    "    if num%2==0:\n",
    "        print(\"Even number \",num)\n",
    "    else:\n",
    "        print(\"Odd number\",num)"
   ]
  },
  {
   "cell_type": "code",
   "execution_count": 39,
   "id": "8c1ec90a",
   "metadata": {},
   "outputs": [
    {
     "name": "stdout",
     "output_type": "stream",
     "text": [
      "Even number-----  12\n",
      "Even number-----  28\n",
      "Even number-----  18\n",
      "Even number-----  88\n",
      "Even number-----  86\n",
      "Even number-----  60\n",
      "Even number-----  6\n",
      "Even number-----  6\n",
      "Even number-----  76\n",
      "Odd number----- 41\n",
      "Even number-----  2\n"
     ]
    }
   ],
   "source": [
    "import random\n",
    "i=0\n",
    "while i<=10:\n",
    "    num=random.randint(1,100)\n",
    "    if num%2==0:\n",
    "        print(\"Even number----- \",num)\n",
    "    else:\n",
    "        print(\"Odd number-----\",num)\n",
    "    i+=1\n",
    "    "
   ]
  },
  {
   "cell_type": "code",
   "execution_count": null,
   "id": "4c9e12aa",
   "metadata": {},
   "outputs": [],
   "source": [
    "#Wap ask the user enter a no. and get a square of the number\n",
    "# these task you need to 3 times"
   ]
  },
  {
   "cell_type": "code",
   "execution_count": 44,
   "id": "a96ba934",
   "metadata": {},
   "outputs": [
    {
     "name": "stdout",
     "output_type": "stream",
     "text": [
      "Enter the number4\n",
      "The square of 4 is 16.\n",
      "Enter the number5\n",
      "The square of 5 is 25.\n",
      "Enter the number6\n",
      "The square of 6 is 36.\n"
     ]
    }
   ],
   "source": [
    "for i in range(3):\n",
    "    num=eval(input(\"Enter the number\"))\n",
    "    print(\"The square of {} is {}.\".format(num,num*num))"
   ]
  },
  {
   "cell_type": "code",
   "execution_count": 50,
   "id": "db5f376c",
   "metadata": {},
   "outputs": [
    {
     "name": "stdout",
     "output_type": "stream",
     "text": [
      "Enter the number : 525\n",
      "The square of 525 is 275625.\n",
      "Enter the number : 56\n",
      "The square of 56 is 3136.\n",
      "Enter the number : 444\n",
      "The square of 444 is 197136.\n"
     ]
    }
   ],
   "source": [
    "i=0\n",
    "while i<=3:\n",
    "    num=eval(input(\"Enter the number : \"))\n",
    "    print(\"The square of {} is {}.\".format(num,num*num))\n",
    "    i+=1\n",
    "    if i==3:\n",
    "        break\n",
    "    \n",
    "    "
   ]
  },
  {
   "cell_type": "markdown",
   "id": "f83840cb",
   "metadata": {},
   "source": [
    "### package name: time"
   ]
  },
  {
   "cell_type": "code",
   "execution_count": 58,
   "id": "8b55a146",
   "metadata": {},
   "outputs": [
    {
     "name": "stdout",
     "output_type": "stream",
     "text": [
      "Enter the number : 2\n",
      "The square of 2 is 4.\n",
      "Enter the number : 2\n",
      "The square of 2 is 4.\n",
      "Enter the number : 2\n",
      "The square of 2 is 4.\n",
      "time taken in seconds is :  2.0861198902130127\n"
     ]
    }
   ],
   "source": [
    "import time\n",
    "start=time.time()\n",
    "\n",
    "for i in range(3):\n",
    "    num=eval(input(\"Enter the number : \"))\n",
    "    print(\"The square of {} is {}.\".format(num,num*num))\n",
    "end=time.time()\n",
    "print(\"time taken in seconds is : \",end-start)\n",
    "\n"
   ]
  },
  {
   "cell_type": "code",
   "execution_count": 62,
   "id": "d0f4dbcc",
   "metadata": {},
   "outputs": [
    {
     "name": "stdout",
     "output_type": "stream",
     "text": [
      "Enter the number : 7\n",
      "The square of 7 is 49.\n",
      "Enter the number : 5\n",
      "The square of 5 is 25.\n",
      "Enter the number : 6\n",
      "The square of 6 is 36.\n",
      "time taken in seconds is :  1.8602652549743652\n"
     ]
    }
   ],
   "source": [
    "import time\n",
    "start=time.time()\n",
    "\n",
    "i=0\n",
    "while i<=3:\n",
    "    num=eval(input(\"Enter the number : \"))\n",
    "    print(\"The square of {} is {}.\".format(num,num*num))\n",
    "    i+=1\n",
    "    if i==3:\n",
    "        break\n",
    "end=time.time()\n",
    "print(\"time taken in seconds is : \",end-start)"
   ]
  },
  {
   "cell_type": "code",
   "execution_count": 66,
   "id": "9ed41413",
   "metadata": {},
   "outputs": [
    {
     "name": "stdout",
     "output_type": "stream",
     "text": [
      "hii\n",
      "hello\n",
      "Enter a number :65\n"
     ]
    }
   ],
   "source": [
    "print(\"hii\")\n",
    "time.sleep(2)   #to delay the next line\n",
    "print(\"hello\")\n",
    "time.sleep(3)\n",
    "num=eval(input(\"Enter a number :\"))"
   ]
  },
  {
   "cell_type": "code",
   "execution_count": null,
   "id": "3acad334",
   "metadata": {},
   "outputs": [],
   "source": [
    "#Wap ask the user print sum of 10 natural numbers"
   ]
  },
  {
   "cell_type": "code",
   "execution_count": 70,
   "id": "4e6efb18",
   "metadata": {},
   "outputs": [
    {
     "ename": "TypeError",
     "evalue": "unsupported operand type(s) for +: 'builtin_function_or_method' and 'int'",
     "output_type": "error",
     "traceback": [
      "\u001b[1;31m---------------------------------------------------------------------------\u001b[0m",
      "\u001b[1;31mTypeError\u001b[0m                                 Traceback (most recent call last)",
      "Cell \u001b[1;32mIn[70], line 2\u001b[0m\n\u001b[0;32m      1\u001b[0m \u001b[38;5;28;01mfor\u001b[39;00m i \u001b[38;5;129;01min\u001b[39;00m \u001b[38;5;28mrange\u001b[39m(\u001b[38;5;241m1\u001b[39m,\u001b[38;5;241m11\u001b[39m):\n\u001b[1;32m----> 2\u001b[0m     \u001b[38;5;28msum\u001b[39m\u001b[38;5;241m=\u001b[39m\u001b[38;5;28msum\u001b[39m\u001b[38;5;241m+\u001b[39mi\n\u001b[0;32m      3\u001b[0m     \u001b[38;5;28mprint\u001b[39m(\u001b[38;5;28msum\u001b[39m)\n",
      "\u001b[1;31mTypeError\u001b[0m: unsupported operand type(s) for +: 'builtin_function_or_method' and 'int'"
     ]
    }
   ],
   "source": [
    "for i in range(1,11):\n",
    "    sum=sum+i\n",
    "    print(sum)"
   ]
  },
  {
   "cell_type": "code",
   "execution_count": null,
   "id": "1745659e",
   "metadata": {},
   "outputs": [],
   "source": [
    "#Wap ask the user enter a password\n",
    "#If the password==python : then print(\"you are in\")\n",
    "#else:print(\"You are out\")\n",
    "#you need to provide 3 chances to user\n",
    "#if he succes first time loop should stop\n",
    "#if he fails:\n",
    "#print(How many chances are left )\n",
    "# ask the user enter password"
   ]
  },
  {
   "cell_type": "code",
   "execution_count": 31,
   "id": "b811d090",
   "metadata": {},
   "outputs": [
    {
     "name": "stdout",
     "output_type": "stream",
     "text": [
      "Enter password : a\n",
      "2 chances left\n",
      "Enter password : s\n",
      "1 chances left\n",
      "Enter password : f\n",
      "0 chances avilable. You're blacklisted\n"
     ]
    }
   ],
   "source": [
    "i=0\n",
    "chance=3\n",
    "while i<3:\n",
    "    password=str(input(\"Enter password : \"))\n",
    "    if password==\"python\":\n",
    "        print(\"You won\")\n",
    "        break\n",
    "    elif chance-i-1==0:\n",
    "        print(\"0 chances avilable. You're blacklisted\")\n",
    "    else:\n",
    "        print(\"{} chances left\".format(chance-i-1))\n",
    "    i+=1"
   ]
  },
  {
   "cell_type": "code",
   "execution_count": 46,
   "id": "a0ee97e8",
   "metadata": {},
   "outputs": [
    {
     "name": "stdout",
     "output_type": "stream",
     "text": [
      "Enter a number : 1\n",
      "Enter a number : 2\n",
      "Enter a number : 3\n",
      "Enter a number : 3\n",
      "Enter a number : 3\n",
      "Enter a number : 3\n",
      "Enter a number : 4\n",
      "Enter a number : 5\n",
      "Enter a number : 6\n",
      "Enter a number : 7\n",
      "Total trail is :  10\n",
      "Total time taken is :  7.456237316131592\n"
     ]
    }
   ],
   "source": [
    "import random\n",
    "import time\n",
    "start=time.time()\n",
    "num=random.randint(1,10)\n",
    "i=0\n",
    "while i>=0:\n",
    "    a=int(input(\"Enter a number : \"))\n",
    "    i+=1\n",
    "    if a==num:\n",
    "        end=time.time()\n",
    "        print(\"Total trail is : \",i)\n",
    "        print(\"Total time taken is : \",end-start)\n",
    "        break\n"
   ]
  },
  {
   "cell_type": "code",
   "execution_count": null,
   "id": "1c82aa00",
   "metadata": {},
   "outputs": [],
   "source": [
    "#"
   ]
  },
  {
   "cell_type": "code",
   "execution_count": 66,
   "id": "eac2137c",
   "metadata": {},
   "outputs": [
    {
     "name": "stdout",
     "output_type": "stream",
     "text": [
      "Enter amount : 100\n",
      "Total money Deposited is  300\n",
      "amount is less than 1000.\n",
      "Enter amount : 700\n",
      "Total money Deposited is  1000\n",
      "amount is less than 1000.\n",
      "Enter amount : 2\n",
      "Total money Deposited is  1002\n",
      "amount is less than 1000.\n"
     ]
    },
    {
     "ename": "KeyboardInterrupt",
     "evalue": "Interrupted by user",
     "output_type": "error",
     "traceback": [
      "\u001b[1;31m---------------------------------------------------------------------------\u001b[0m",
      "\u001b[1;31mKeyboardInterrupt\u001b[0m                         Traceback (most recent call last)",
      "Cell \u001b[1;32mIn[66], line 4\u001b[0m\n\u001b[0;32m      2\u001b[0m ewallet\u001b[38;5;241m=\u001b[39m\u001b[38;5;241m5000\u001b[39m\n\u001b[0;32m      3\u001b[0m \u001b[38;5;28;01mwhile\u001b[39;00m \u001b[38;5;28;01mTrue\u001b[39;00m:\n\u001b[1;32m----> 4\u001b[0m     amt\u001b[38;5;241m=\u001b[39m\u001b[38;5;28mint\u001b[39m(\u001b[38;5;28minput\u001b[39m(\u001b[38;5;124m\"\u001b[39m\u001b[38;5;124mEnter amount : \u001b[39m\u001b[38;5;124m\"\u001b[39m))\n\u001b[0;32m      5\u001b[0m     \u001b[38;5;28;01mif\u001b[39;00m amt\u001b[38;5;241m>\u001b[39m\u001b[38;5;241m=\u001b[39m\u001b[38;5;241m1000\u001b[39m:\n\u001b[0;32m      6\u001b[0m         \u001b[38;5;28mprint\u001b[39m(\u001b[38;5;124m\"\u001b[39m\u001b[38;5;124mYou can Play game.\u001b[39m\u001b[38;5;124m\"\u001b[39m)\n",
      "File \u001b[1;32m~\\anaconda3\\Lib\\site-packages\\ipykernel\\kernelbase.py:1202\u001b[0m, in \u001b[0;36mKernel.raw_input\u001b[1;34m(self, prompt)\u001b[0m\n\u001b[0;32m   1200\u001b[0m     msg \u001b[38;5;241m=\u001b[39m \u001b[38;5;124m\"\u001b[39m\u001b[38;5;124mraw_input was called, but this frontend does not support input requests.\u001b[39m\u001b[38;5;124m\"\u001b[39m\n\u001b[0;32m   1201\u001b[0m     \u001b[38;5;28;01mraise\u001b[39;00m StdinNotImplementedError(msg)\n\u001b[1;32m-> 1202\u001b[0m \u001b[38;5;28;01mreturn\u001b[39;00m \u001b[38;5;28mself\u001b[39m\u001b[38;5;241m.\u001b[39m_input_request(\n\u001b[0;32m   1203\u001b[0m     \u001b[38;5;28mstr\u001b[39m(prompt),\n\u001b[0;32m   1204\u001b[0m     \u001b[38;5;28mself\u001b[39m\u001b[38;5;241m.\u001b[39m_parent_ident[\u001b[38;5;124m\"\u001b[39m\u001b[38;5;124mshell\u001b[39m\u001b[38;5;124m\"\u001b[39m],\n\u001b[0;32m   1205\u001b[0m     \u001b[38;5;28mself\u001b[39m\u001b[38;5;241m.\u001b[39mget_parent(\u001b[38;5;124m\"\u001b[39m\u001b[38;5;124mshell\u001b[39m\u001b[38;5;124m\"\u001b[39m),\n\u001b[0;32m   1206\u001b[0m     password\u001b[38;5;241m=\u001b[39m\u001b[38;5;28;01mFalse\u001b[39;00m,\n\u001b[0;32m   1207\u001b[0m )\n",
      "File \u001b[1;32m~\\anaconda3\\Lib\\site-packages\\ipykernel\\kernelbase.py:1245\u001b[0m, in \u001b[0;36mKernel._input_request\u001b[1;34m(self, prompt, ident, parent, password)\u001b[0m\n\u001b[0;32m   1242\u001b[0m \u001b[38;5;28;01mexcept\u001b[39;00m \u001b[38;5;167;01mKeyboardInterrupt\u001b[39;00m:\n\u001b[0;32m   1243\u001b[0m     \u001b[38;5;66;03m# re-raise KeyboardInterrupt, to truncate traceback\u001b[39;00m\n\u001b[0;32m   1244\u001b[0m     msg \u001b[38;5;241m=\u001b[39m \u001b[38;5;124m\"\u001b[39m\u001b[38;5;124mInterrupted by user\u001b[39m\u001b[38;5;124m\"\u001b[39m\n\u001b[1;32m-> 1245\u001b[0m     \u001b[38;5;28;01mraise\u001b[39;00m \u001b[38;5;167;01mKeyboardInterrupt\u001b[39;00m(msg) \u001b[38;5;28;01mfrom\u001b[39;00m \u001b[38;5;28;01mNone\u001b[39;00m\n\u001b[0;32m   1246\u001b[0m \u001b[38;5;28;01mexcept\u001b[39;00m \u001b[38;5;167;01mException\u001b[39;00m:\n\u001b[0;32m   1247\u001b[0m     \u001b[38;5;28mself\u001b[39m\u001b[38;5;241m.\u001b[39mlog\u001b[38;5;241m.\u001b[39mwarning(\u001b[38;5;124m\"\u001b[39m\u001b[38;5;124mInvalid Message:\u001b[39m\u001b[38;5;124m\"\u001b[39m, exc_info\u001b[38;5;241m=\u001b[39m\u001b[38;5;28;01mTrue\u001b[39;00m)\n",
      "\u001b[1;31mKeyboardInterrupt\u001b[0m: Interrupted by user"
     ]
    }
   ],
   "source": [
    "amount=200\n",
    "ewallet=5000\n",
    "while True:\n",
    "    amt=int(input(\"Enter amount : \"))\n",
    "    if amt>=1000:\n",
    "        print(\"You can Play game.\")\n",
    "    else:\n",
    "        amount=amount+amt\n",
    "        print(\"Total money Deposited is \",amount)\n",
    "        print(\"amount is less than 1000.\")\n",
    "        \n",
    "        "
   ]
  },
  {
   "cell_type": "markdown",
   "id": "aebe283d",
   "metadata": {},
   "source": [
    "- type\n",
    "- len\n",
    "- max\n",
    "- min"
   ]
  },
  {
   "cell_type": "code",
   "execution_count": 69,
   "id": "956a0998",
   "metadata": {},
   "outputs": [
    {
     "data": {
      "text/plain": [
       "'h'"
      ]
     },
     "execution_count": 69,
     "metadata": {},
     "output_type": "execute_result"
    }
   ],
   "source": [
    "string1=\"python\"\n",
    "type(string1)\n",
    "len(string1)\n",
    "max(string1)\n",
    "min(string1)"
   ]
  },
  {
   "cell_type": "code",
   "execution_count": 73,
   "id": "2e448841",
   "metadata": {},
   "outputs": [
    {
     "data": {
      "text/plain": [
       "'h'"
      ]
     },
     "execution_count": 73,
     "metadata": {},
     "output_type": "execute_result"
    }
   ],
   "source": [
    "string1=\"python\"\n",
    "max(string1)\n",
    "min(string1)"
   ]
  },
  {
   "cell_type": "code",
   "execution_count": null,
   "id": "34025a76",
   "metadata": {},
   "outputs": [],
   "source": [
    "#iterate a loop on string1\n",
    "#get the ascii value"
   ]
  },
  {
   "cell_type": "code",
   "execution_count": 82,
   "id": "448d8ace",
   "metadata": {},
   "outputs": [
    {
     "name": "stdout",
     "output_type": "stream",
     "text": [
      "p ASCII VALUE IS 112\n",
      "y ASCII VALUE IS 121\n",
      "t ASCII VALUE IS 116\n",
      "h ASCII VALUE IS 104\n",
      "o ASCII VALUE IS 111\n",
      "n ASCII VALUE IS 110\n"
     ]
    },
    {
     "data": {
      "text/plain": [
       "'y'"
      ]
     },
     "execution_count": 82,
     "metadata": {},
     "output_type": "execute_result"
    }
   ],
   "source": [
    "for i in(\"python\"):\n",
    "    print(\"{} ASCII VALUE IS {}\".format(i,ord(i)))\n",
    "max(\"python\")"
   ]
  },
  {
   "cell_type": "code",
   "execution_count": 83,
   "id": "4527a6c2",
   "metadata": {},
   "outputs": [
    {
     "data": {
      "text/plain": [
       "'hipython'"
      ]
     },
     "execution_count": 83,
     "metadata": {},
     "output_type": "execute_result"
    }
   ],
   "source": [
    "string1=\"hi\"\n",
    "string2=\"python\"\n",
    "string1+string2"
   ]
  },
  {
   "cell_type": "code",
   "execution_count": 86,
   "id": "d9e2cc6d",
   "metadata": {},
   "outputs": [
    {
     "ename": "TypeError",
     "evalue": "unsupported operand type(s) for /: 'str' and 'str'",
     "output_type": "error",
     "traceback": [
      "\u001b[1;31m---------------------------------------------------------------------------\u001b[0m",
      "\u001b[1;31mTypeError\u001b[0m                                 Traceback (most recent call last)",
      "Cell \u001b[1;32mIn[86], line 1\u001b[0m\n\u001b[1;32m----> 1\u001b[0m string1\u001b[38;5;241m/\u001b[39mstring2\n",
      "\u001b[1;31mTypeError\u001b[0m: unsupported operand type(s) for /: 'str' and 'str'"
     ]
    }
   ],
   "source": [
    "string1/string2"
   ]
  },
  {
   "cell_type": "code",
   "execution_count": null,
   "id": "fba8867a",
   "metadata": {},
   "outputs": [],
   "source": []
  }
 ],
 "metadata": {
  "kernelspec": {
   "display_name": "Python 3 (ipykernel)",
   "language": "python",
   "name": "python3"
  },
  "language_info": {
   "codemirror_mode": {
    "name": "ipython",
    "version": 3
   },
   "file_extension": ".py",
   "mimetype": "text/x-python",
   "name": "python",
   "nbconvert_exporter": "python",
   "pygments_lexer": "ipython3",
   "version": "3.11.5"
  }
 },
 "nbformat": 4,
 "nbformat_minor": 5
}
