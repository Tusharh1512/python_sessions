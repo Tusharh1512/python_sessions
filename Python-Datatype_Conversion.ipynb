{
 "cells": [
  {
   "cell_type": "markdown",
   "id": "19c525d7",
   "metadata": {},
   "source": [
    "## Type casting \n",
    "Data type conversion converting onw datatype to another data type"
   ]
  },
  {
   "cell_type": "code",
   "execution_count": 2,
   "id": "ffd98d9e",
   "metadata": {},
   "outputs": [
    {
     "data": {
      "text/plain": [
       "int"
      ]
     },
     "execution_count": 2,
     "metadata": {},
     "output_type": "execute_result"
    }
   ],
   "source": [
    "number=100\n",
    "type(number)"
   ]
  },
  {
   "cell_type": "code",
   "execution_count": 3,
   "id": "9cc6e39e",
   "metadata": {},
   "outputs": [
    {
     "data": {
      "text/plain": [
       "100.0"
      ]
     },
     "execution_count": 3,
     "metadata": {},
     "output_type": "execute_result"
    }
   ],
   "source": [
    "#convert int to float\n",
    "float(number)"
   ]
  },
  {
   "cell_type": "code",
   "execution_count": 4,
   "id": "0b3b2c32",
   "metadata": {},
   "outputs": [
    {
     "data": {
      "text/plain": [
       "100.0"
      ]
     },
     "execution_count": 4,
     "metadata": {},
     "output_type": "execute_result"
    }
   ],
   "source": [
    "float_num=float(number)\n",
    "float_num"
   ]
  },
  {
   "cell_type": "code",
   "execution_count": 5,
   "id": "82bd9802",
   "metadata": {},
   "outputs": [
    {
     "data": {
      "text/plain": [
       "float"
      ]
     },
     "execution_count": 5,
     "metadata": {},
     "output_type": "execute_result"
    }
   ],
   "source": [
    "type(float_num)"
   ]
  },
  {
   "cell_type": "code",
   "execution_count": 6,
   "id": "cb0fef23",
   "metadata": {},
   "outputs": [
    {
     "data": {
      "text/plain": [
       "'100'"
      ]
     },
     "execution_count": 6,
     "metadata": {},
     "output_type": "execute_result"
    }
   ],
   "source": [
    "#Convert into str type\n",
    "string_num=str(number)\n",
    "string_num"
   ]
  },
  {
   "cell_type": "code",
   "execution_count": 7,
   "id": "563dbec3",
   "metadata": {},
   "outputs": [
    {
     "data": {
      "text/plain": [
       "str"
      ]
     },
     "execution_count": 7,
     "metadata": {},
     "output_type": "execute_result"
    }
   ],
   "source": [
    "type(string_num)"
   ]
  },
  {
   "cell_type": "code",
   "execution_count": 8,
   "id": "ec0f1ecf",
   "metadata": {},
   "outputs": [
    {
     "data": {
      "text/plain": [
       "True"
      ]
     },
     "execution_count": 8,
     "metadata": {},
     "output_type": "execute_result"
    }
   ],
   "source": [
    "#convert into boolean\n",
    "bool(number)\n",
    "\n"
   ]
  },
  {
   "cell_type": "code",
   "execution_count": 9,
   "id": "da96852f",
   "metadata": {},
   "outputs": [
    {
     "data": {
      "text/plain": [
       "True"
      ]
     },
     "execution_count": 9,
     "metadata": {},
     "output_type": "execute_result"
    }
   ],
   "source": [
    "bool(300)"
   ]
  },
  {
   "cell_type": "code",
   "execution_count": 10,
   "id": "d183a216",
   "metadata": {},
   "outputs": [
    {
     "data": {
      "text/plain": [
       "False"
      ]
     },
     "execution_count": 10,
     "metadata": {},
     "output_type": "execute_result"
    }
   ],
   "source": [
    "bool(0)"
   ]
  },
  {
   "cell_type": "code",
   "execution_count": 11,
   "id": "2e68bd7e",
   "metadata": {},
   "outputs": [
    {
     "data": {
      "text/plain": [
       "True"
      ]
     },
     "execution_count": 11,
     "metadata": {},
     "output_type": "execute_result"
    }
   ],
   "source": [
    "bool(1)"
   ]
  },
  {
   "cell_type": "code",
   "execution_count": 12,
   "id": "77061f81",
   "metadata": {},
   "outputs": [
    {
     "data": {
      "text/plain": [
       "True"
      ]
     },
     "execution_count": 12,
     "metadata": {},
     "output_type": "execute_result"
    }
   ],
   "source": [
    "bool(-200)"
   ]
  },
  {
   "cell_type": "markdown",
   "id": "dd6617a8",
   "metadata": {},
   "source": [
    "**Other than zero everything is true under bool operations**"
   ]
  },
  {
   "cell_type": "markdown",
   "id": "9a165b45",
   "metadata": {},
   "source": [
    "**COMPLEX**\n",
    "\n",
    "- int to complex\n"
   ]
  },
  {
   "cell_type": "code",
   "execution_count": 20,
   "id": "b5366b0c",
   "metadata": {},
   "outputs": [
    {
     "data": {
      "text/plain": [
       "(200+0j)"
      ]
     },
     "execution_count": 20,
     "metadata": {},
     "output_type": "execute_result"
    }
   ],
   "source": [
    "a=200\n",
    "complex(a)"
   ]
  },
  {
   "cell_type": "code",
   "execution_count": 23,
   "id": "4e945c79",
   "metadata": {},
   "outputs": [
    {
     "data": {
      "text/plain": [
       "(22+21j)"
      ]
     },
     "execution_count": 23,
     "metadata": {},
     "output_type": "execute_result"
    }
   ],
   "source": [
    "a=22\n",
    "b=21\n",
    "complex(a,b)"
   ]
  },
  {
   "cell_type": "code",
   "execution_count": 24,
   "id": "08224888",
   "metadata": {},
   "outputs": [
    {
     "data": {
      "text/plain": [
       "300j"
      ]
     },
     "execution_count": 24,
     "metadata": {},
     "output_type": "execute_result"
    }
   ],
   "source": [
    "a=300\n",
    "complex(0,a)"
   ]
  },
  {
   "cell_type": "markdown",
   "id": "becf2620",
   "metadata": {},
   "source": [
    "**Float to other datatypes**"
   ]
  },
  {
   "cell_type": "code",
   "execution_count": 39,
   "id": "a7e158e6",
   "metadata": {},
   "outputs": [
    {
     "data": {
      "text/plain": [
       "10.5"
      ]
     },
     "execution_count": 39,
     "metadata": {},
     "output_type": "execute_result"
    }
   ],
   "source": [
    "int_num=num=10.5\n",
    "int_num"
   ]
  },
  {
   "cell_type": "code",
   "execution_count": 30,
   "id": "07338988",
   "metadata": {},
   "outputs": [
    {
     "data": {
      "text/plain": [
       "float"
      ]
     },
     "execution_count": 30,
     "metadata": {},
     "output_type": "execute_result"
    }
   ],
   "source": [
    "type(int_num)"
   ]
  },
  {
   "cell_type": "code",
   "execution_count": 42,
   "id": "9e398e58",
   "metadata": {},
   "outputs": [
    {
     "data": {
      "text/plain": [
       "10"
      ]
     },
     "execution_count": 42,
     "metadata": {},
     "output_type": "execute_result"
    }
   ],
   "source": [
    "#float to integer\n",
    "int(int_num)\n"
   ]
  },
  {
   "cell_type": "code",
   "execution_count": 45,
   "id": "b042a8f0",
   "metadata": {},
   "outputs": [
    {
     "data": {
      "text/plain": [
       "float"
      ]
     },
     "execution_count": 45,
     "metadata": {},
     "output_type": "execute_result"
    }
   ],
   "source": [
    "type(int_num)"
   ]
  },
  {
   "cell_type": "code",
   "execution_count": null,
   "id": "7e33aa0c",
   "metadata": {},
   "outputs": [],
   "source": [
    "String1='python'\n",
    "int(string1)\n",
    "float(string1)\n",
    "bool(string1)\n",
    "complex(string1)\n"
   ]
  },
  {
   "cell_type": "markdown",
   "id": "4d101f3e",
   "metadata": {},
   "source": [
    "## Empty string will provide false under bool type"
   ]
  },
  {
   "cell_type": "markdown",
   "id": "4f52cc7a",
   "metadata": {},
   "source": [
    "## When it is zero it is false\n",
    "## when it is empty string it is false"
   ]
  },
  {
   "cell_type": "code",
   "execution_count": 49,
   "id": "b41d98e9",
   "metadata": {},
   "outputs": [
    {
     "ename": "ValueError",
     "evalue": "invalid literal for int() with base 10: '10.5'",
     "output_type": "error",
     "traceback": [
      "\u001b[1;31m---------------------------------------------------------------------------\u001b[0m",
      "\u001b[1;31mValueError\u001b[0m                                Traceback (most recent call last)",
      "Cell \u001b[1;32mIn[49], line 2\u001b[0m\n\u001b[0;32m      1\u001b[0m string2\u001b[38;5;241m=\u001b[39m\u001b[38;5;124m'\u001b[39m\u001b[38;5;124m10.5\u001b[39m\u001b[38;5;124m'\u001b[39m\n\u001b[1;32m----> 2\u001b[0m \u001b[38;5;28mint\u001b[39m(string2)\n",
      "\u001b[1;31mValueError\u001b[0m: invalid literal for int() with base 10: '10.5'"
     ]
    }
   ],
   "source": [
    "string2='10.5'\n",
    "int(string2)"
   ]
  },
  {
   "cell_type": "code",
   "execution_count": 50,
   "id": "a0d57014",
   "metadata": {},
   "outputs": [
    {
     "ename": "ValueError",
     "evalue": "invalid literal for int() with base 10: '10.5'",
     "output_type": "error",
     "traceback": [
      "\u001b[1;31m---------------------------------------------------------------------------\u001b[0m",
      "\u001b[1;31mValueError\u001b[0m                                Traceback (most recent call last)",
      "Cell \u001b[1;32mIn[50], line 1\u001b[0m\n\u001b[1;32m----> 1\u001b[0m \u001b[38;5;28mint\u001b[39m(\u001b[38;5;124m'\u001b[39m\u001b[38;5;124m10.5\u001b[39m\u001b[38;5;124m'\u001b[39m)\n",
      "\u001b[1;31mValueError\u001b[0m: invalid literal for int() with base 10: '10.5'"
     ]
    }
   ],
   "source": [
    "int('10.5')"
   ]
  },
  {
   "cell_type": "code",
   "execution_count": 3,
   "id": "71b7fc5c",
   "metadata": {},
   "outputs": [
    {
     "data": {
      "text/plain": [
       "(10+20j)"
      ]
     },
     "execution_count": 3,
     "metadata": {},
     "output_type": "execute_result"
    }
   ],
   "source": [
    "complex('10+20j')"
   ]
  },
  {
   "cell_type": "code",
   "execution_count": 8,
   "id": "e4c79e0d",
   "metadata": {},
   "outputs": [
    {
     "data": {
      "text/plain": [
       "10.5"
      ]
     },
     "execution_count": 8,
     "metadata": {},
     "output_type": "execute_result"
    }
   ],
   "source": [
    "float('10.5')"
   ]
  },
  {
   "cell_type": "code",
   "execution_count": null,
   "id": "bdbe6d24",
   "metadata": {},
   "outputs": [],
   "source": []
  }
 ],
 "metadata": {
  "kernelspec": {
   "display_name": "Python 3 (ipykernel)",
   "language": "python",
   "name": "python3"
  },
  "language_info": {
   "codemirror_mode": {
    "name": "ipython",
    "version": 3
   },
   "file_extension": ".py",
   "mimetype": "text/x-python",
   "name": "python",
   "nbconvert_exporter": "python",
   "pygments_lexer": "ipython3",
   "version": "3.11.5"
  }
 },
 "nbformat": 4,
 "nbformat_minor": 5
}
