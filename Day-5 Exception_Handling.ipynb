{
 "cells": [
  {
   "cell_type": "markdown",
   "id": "4e358ecf",
   "metadata": {},
   "source": [
    "## try-except "
   ]
  },
  {
   "cell_type": "code",
   "execution_count": null,
   "id": "9e020709",
   "metadata": {},
   "outputs": [],
   "source": [
    "try\n",
    "except \n",
    "# These are Keywords"
   ]
  },
  {
   "cell_type": "code",
   "execution_count": null,
   "id": "8007461d",
   "metadata": {},
   "outputs": [],
   "source": [
    "there is a scenerio you have written 500 lines of code\n",
    "python complies step by step\n",
    "suppose you got the error at 250 line\n",
    "\n",
    "- Even though if the error comes at 250 lines, it should not affect the other lines\n",
    "- error should not come"
   ]
  },
  {
   "cell_type": "code",
   "execution_count": null,
   "id": "879a46a6",
   "metadata": {},
   "outputs": [],
   "source": [
    "# entire code should implement under try block\n",
    "# whatever the error comes in the code will display under except \n",
    "\n",
    "#space after try code is called indentation"
   ]
  },
  {
   "cell_type": "code",
   "execution_count": 5,
   "id": "faccd875",
   "metadata": {},
   "outputs": [
    {
     "name": "stdout",
     "output_type": "stream",
     "text": [
      "enter a number p\n",
      "chk the code\n"
     ]
    }
   ],
   "source": [
    "try:\n",
    "    n1=eval(input(\"enter a number \"))\n",
    "    n2=100\n",
    "    add=n1+n2\n",
    "    print(add)\n",
    "except:\n",
    "    print(\"chk the code\")\n",
    "    \n",
    "# When error is in code then except block will print"
   ]
  },
  {
   "cell_type": "code",
   "execution_count": 6,
   "id": "129c5d60",
   "metadata": {},
   "outputs": [
    {
     "name": "stdout",
     "output_type": "stream",
     "text": [
      "enter a number 500\n",
      "600\n"
     ]
    }
   ],
   "source": [
    "try:\n",
    "    n1=eval(input(\"enter a number \"))\n",
    "    n2=100\n",
    "    add=n1+n2\n",
    "    print(add)\n",
    "except:\n",
    "    print(\"chk the code\")"
   ]
  },
  {
   "cell_type": "code",
   "execution_count": 11,
   "id": "dd29a7ce",
   "metadata": {},
   "outputs": [
    {
     "name": "stdout",
     "output_type": "stream",
     "text": [
      "enter a number p\n",
      "name 'p' is not defined\n"
     ]
    }
   ],
   "source": [
    "try:\n",
    "    n1=eval(input(\"enter a number \"))\n",
    "    n2=100\n",
    "    add=n1+n2\n",
    "    print(add)\n",
    "except Exception as e:\n",
    "    print(e)\n",
    "\n",
    "    #Best way to Show the error in try-except syntax"
   ]
  },
  {
   "cell_type": "code",
   "execution_count": 16,
   "id": "964412c9",
   "metadata": {},
   "outputs": [
    {
     "name": "stdout",
     "output_type": "stream",
     "text": [
      "enter n3:4\n",
      "enter n4:5\n",
      "the addition of 4 and 5 is 9\n"
     ]
    }
   ],
   "source": [
    "try:\n",
    "    n3=eval(input(\"enter n3:\"))\n",
    "    n4=eval(input(\"enter n4:\"))\n",
    "    n3+n4\n",
    "    print(\"the addition of {} and {} is {}\".format(n3,n4,n3+n4))\n",
    "except Exception as e:\n",
    "    print(e)"
   ]
  },
  {
   "cell_type": "code",
   "execution_count": 19,
   "id": "d24adbfa",
   "metadata": {},
   "outputs": [
    {
     "name": "stdout",
     "output_type": "stream",
     "text": [
      "enter number1 :4\n",
      "enter number2 :4\n",
      "enter number3 :4\n",
      "The average of 4,4 and 4 are 4.0\n"
     ]
    }
   ],
   "source": [
    "try:\n",
    "    NUM1=eval(input(\"enter number1 :\"))\n",
    "    NUM2=eval(input(\"enter number2 :\"))\n",
    "    NUM3=eval(input(\"enter number3 :\"))\n",
    "    avg=(NUM1+NUM2+NUM3)/3\n",
    "    final=round(avg,3)\n",
    "\n",
    "    print(\"The average of {},{} and {} are {}\".format(NUM1,NUM2,NUM3,final))\n",
    "except Exception as e:\n",
    "    print(e)\n"
   ]
  },
  {
   "cell_type": "code",
   "execution_count": 21,
   "id": "ee0cc278",
   "metadata": {},
   "outputs": [
    {
     "name": "stdout",
     "output_type": "stream",
     "text": [
      "enter bill amount :1000\n",
      "enter tip percentage :10\n",
      "Total bill 1100.0\n"
     ]
    }
   ],
   "source": [
    "try:\n",
    "    bill_amt=eval(input(\"enter bill amount :\"))\n",
    "    tip_perc=eval(input(\"enter tip percentage :\"))\n",
    "    tip_perc=(bill_amt*tip_perc)/100\n",
    "    total=bill_amt+tip_perc\n",
    "    print(\"Total bill {}\".format(total))\n",
    "except Exception as e:\n",
    "    print(e)"
   ]
  },
  {
   "cell_type": "code",
   "execution_count": 22,
   "id": "8163875e",
   "metadata": {},
   "outputs": [
    {
     "name": "stdout",
     "output_type": "stream",
     "text": [
      "enter the amount : 1000\n",
      "Dollar is not accepted here\n",
      "what will accepted here\n",
      "Only indian rupees is accepted here\n",
      "one dollar is equal to 80 rupees\n",
      "Your total bill is 80000 in Indian rupees\n"
     ]
    }
   ],
   "source": [
    "try:\n",
    "    amount=eval(input(\"enter the amount : \"))\n",
    "    print(\"Dollar is not accepted here\")\n",
    "    print(\"what will accepted here\")\n",
    "    print(\"Only indian rupees is accepted here\")\n",
    "    print(\"one dollar is equal to 80 rupees\")\n",
    "    total_amtt=amount*80\n",
    "    print(\"Your total bill is {} in Indian rupees\".format(total_amtt))\n",
    "except Exception as e:\n",
    "    print(e)"
   ]
  },
  {
   "cell_type": "code",
   "execution_count": null,
   "id": "a4938945",
   "metadata": {},
   "outputs": [],
   "source": []
  },
  {
   "cell_type": "code",
   "execution_count": 26,
   "id": "10a42ef4",
   "metadata": {},
   "outputs": [
    {
     "name": "stdout",
     "output_type": "stream",
     "text": [
      "300\n"
     ]
    }
   ],
   "source": [
    "#Wap ask the user enter two no. and add those no.\n",
    "numb1=100\n",
    "numb2=200\n",
    "add1=numb1+numb2\n",
    "print(add1)\n",
    "#wap ask the user enter no. from keyboard and add those no.\n",
    "\n",
    "# Wap ask the user to get two randowm integer numbers and add those numbers\n",
    "import random\n",
    "numm1=random.randint(1,100)\n",
    "numm2=random.randint(1,200)\n",
    "add2=numm1+numm2\n",
    "print(add2)\n"
   ]
  },
  {
   "cell_type": "code",
   "execution_count": 31,
   "id": "8d550571",
   "metadata": {},
   "outputs": [
    {
     "name": "stdout",
     "output_type": "stream",
     "text": [
      "Number 1 is :  6\n",
      "Number 2 is :  18\n",
      "24\n"
     ]
    }
   ],
   "source": [
    "import random\n",
    "numm1=random.randint(1,10)\n",
    "print(\"Number 1 is : \",numm1)\n",
    "numm2=random.randint(11,20)\n",
    "print(\"Number 2 is : \",numm2)\n",
    "add2=numm1+numm2\n",
    "print(add2)\n",
    "\n",
    "\n",
    "# import <package_name>\n",
    "# dir(<package_name>)\n",
    "# help(<package_name>)"
   ]
  },
  {
   "cell_type": "code",
   "execution_count": 59,
   "id": "3e70b6ec",
   "metadata": {},
   "outputs": [
    {
     "data": {
      "text/plain": [
       "20"
      ]
     },
     "execution_count": 59,
     "metadata": {},
     "output_type": "execute_result"
    }
   ],
   "source": [
    "import random\n",
    "random.randrange(0,50,step=5)\n"
   ]
  },
  {
   "cell_type": "code",
   "execution_count": null,
   "id": "e36d3103",
   "metadata": {},
   "outputs": [],
   "source": []
  },
  {
   "cell_type": "code",
   "execution_count": null,
   "id": "a5c4659a",
   "metadata": {},
   "outputs": [],
   "source": []
  }
 ],
 "metadata": {
  "kernelspec": {
   "display_name": "Python 3 (ipykernel)",
   "language": "python",
   "name": "python3"
  },
  "language_info": {
   "codemirror_mode": {
    "name": "ipython",
    "version": 3
   },
   "file_extension": ".py",
   "mimetype": "text/x-python",
   "name": "python",
   "nbconvert_exporter": "python",
   "pygments_lexer": "ipython3",
   "version": "3.11.5"
  }
 },
 "nbformat": 4,
 "nbformat_minor": 5
}
