{
 "cells": [
  {
   "cell_type": "code",
   "execution_count": null,
   "id": "c5ef0d15",
   "metadata": {},
   "outputs": [],
   "source": [
    "lis1=['Apple','Ball','Cat','Dog','Elephant']\n",
    "#if len(elements)>3 print it is good else\n",
    "#print it is better"
   ]
  },
  {
   "cell_type": "code",
   "execution_count": 8,
   "id": "31e4bcf1",
   "metadata": {},
   "outputs": [
    {
     "data": {
      "text/plain": [
       "['Apple good', 'Ball good', 'Cat better', 'Dog better', 'Elephant good']"
      ]
     },
     "execution_count": 8,
     "metadata": {},
     "output_type": "execute_result"
    }
   ],
   "source": [
    "lis1=['Apple','Ball','Cat','Dog','Elephant']\n",
    "items=[]\n",
    "output=['{} good'.format(i) if len(i)>3 else '{} better'.format(i) for i in list1]\n",
    "output\n"
   ]
  },
  {
   "cell_type": "code",
   "execution_count": 7,
   "id": "00556bdc",
   "metadata": {},
   "outputs": [
    {
     "data": {
      "text/plain": [
       "['Apple good', 'Ball good', 'Cat better', 'Dog better', 'Elephant good']"
      ]
     },
     "execution_count": 7,
     "metadata": {},
     "output_type": "execute_result"
    }
   ],
   "source": [
    "list1=['Apple','Ball','Cat','Dog','Elephant']\n",
    "items=[]\n",
    "for i in list1:\n",
    "    if len(i)>3:\n",
    "        items.append('{} good'.format(i))\n",
    "    else:\n",
    "        items.append('{} better'.format(i))\n",
    "items\n"
   ]
  },
  {
   "cell_type": "markdown",
   "id": "16fcdb10",
   "metadata": {},
   "source": [
    "**Clear**"
   ]
  },
  {
   "cell_type": "code",
   "execution_count": 10,
   "id": "d64ea720",
   "metadata": {},
   "outputs": [],
   "source": [
    "#To clear all the elements\n",
    "list1=[1,2,3,4]\n",
    "list1.clear()"
   ]
  },
  {
   "cell_type": "code",
   "execution_count": 11,
   "id": "be542945",
   "metadata": {},
   "outputs": [
    {
     "data": {
      "text/plain": [
       "[]"
      ]
     },
     "execution_count": 11,
     "metadata": {},
     "output_type": "execute_result"
    }
   ],
   "source": [
    "list1"
   ]
  },
  {
   "cell_type": "markdown",
   "id": "68a9704b",
   "metadata": {},
   "source": [
    "**Delete**"
   ]
  },
  {
   "cell_type": "code",
   "execution_count": 14,
   "id": "0d772648",
   "metadata": {},
   "outputs": [],
   "source": [
    "#del is not a method\n",
    "list1=[100,200,300]\n",
    "del list1[1]"
   ]
  },
  {
   "cell_type": "code",
   "execution_count": 15,
   "id": "4e9a1c64",
   "metadata": {},
   "outputs": [
    {
     "data": {
      "text/plain": [
       "[100, 300]"
      ]
     },
     "execution_count": 15,
     "metadata": {},
     "output_type": "execute_result"
    }
   ],
   "source": [
    "list1"
   ]
  },
  {
   "cell_type": "markdown",
   "id": "e497c31b",
   "metadata": {},
   "source": [
    "**pop-remove**"
   ]
  },
  {
   "cell_type": "code",
   "execution_count": null,
   "id": "dea094cb",
   "metadata": {},
   "outputs": [],
   "source": [
    "#Explain difference between pop-remove-del"
   ]
  },
  {
   "cell_type": "code",
   "execution_count": 20,
   "id": "96713d90",
   "metadata": {},
   "outputs": [
    {
     "data": {
      "text/plain": [
       "'Elephant'"
      ]
     },
     "execution_count": 20,
     "metadata": {},
     "output_type": "execute_result"
    }
   ],
   "source": [
    "list1=['Apple','Ball','Cat','Dog','Elephant']\n",
    "list1.pop()\n",
    "#It returns deleted value\n",
    "#default: -1/last\n",
    "#it saves result in the same list"
   ]
  },
  {
   "cell_type": "code",
   "execution_count": 21,
   "id": "9b87a27d",
   "metadata": {},
   "outputs": [
    {
     "data": {
      "text/plain": [
       "['Apple', 'Ball', 'Cat', 'Dog']"
      ]
     },
     "execution_count": 21,
     "metadata": {},
     "output_type": "execute_result"
    }
   ],
   "source": [
    "list1"
   ]
  },
  {
   "cell_type": "code",
   "execution_count": 22,
   "id": "8636c97a",
   "metadata": {},
   "outputs": [
    {
     "data": {
      "text/plain": [
       "'Dog'"
      ]
     },
     "execution_count": 22,
     "metadata": {},
     "output_type": "execute_result"
    }
   ],
   "source": [
    "list1.pop(3)"
   ]
  },
  {
   "cell_type": "code",
   "execution_count": 27,
   "id": "3a35bf6e",
   "metadata": {},
   "outputs": [
    {
     "data": {
      "text/plain": [
       "['Apple', 'Cat', 'Dog', 'Elephant']"
      ]
     },
     "execution_count": 27,
     "metadata": {},
     "output_type": "execute_result"
    }
   ],
   "source": [
    "list1=['Apple','Ball','Cat','Dog','Elephant']\n",
    "list1.remove('Ball')\n",
    "#It takes element of the list directly\n",
    "#it will not return any thing\n",
    "#It also saves the result in same list\n",
    "list1"
   ]
  },
  {
   "cell_type": "code",
   "execution_count": 32,
   "id": "bfc63cbc",
   "metadata": {},
   "outputs": [
    {
     "data": {
      "text/plain": [
       "[1,\n",
       " 4,\n",
       " 7,\n",
       " 10,\n",
       " 13,\n",
       " 16,\n",
       " 19,\n",
       " 22,\n",
       " 25,\n",
       " 28,\n",
       " 31,\n",
       " 34,\n",
       " 37,\n",
       " 40,\n",
       " 43,\n",
       " 46,\n",
       " 49,\n",
       " 52,\n",
       " 58,\n",
       " 61,\n",
       " 64,\n",
       " 67,\n",
       " 70,\n",
       " 73,\n",
       " 76,\n",
       " 79,\n",
       " 82,\n",
       " 85,\n",
       " 88,\n",
       " 91,\n",
       " 94,\n",
       " 97]"
      ]
     },
     "execution_count": 32,
     "metadata": {},
     "output_type": "execute_result"
    }
   ],
   "source": [
    "list2=[i for i in range(1,100,3)]\n",
    "list2.remove(55)\n",
    "list2"
   ]
  },
  {
   "cell_type": "markdown",
   "id": "8f3e3137",
   "metadata": {},
   "source": [
    "**index_method**"
   ]
  },
  {
   "cell_type": "code",
   "execution_count": 34,
   "id": "fbd639b4",
   "metadata": {},
   "outputs": [
    {
     "data": {
      "text/plain": [
       "2"
      ]
     },
     "execution_count": 34,
     "metadata": {},
     "output_type": "execute_result"
    }
   ],
   "source": [
    "list1.index('Dog')"
   ]
  },
  {
   "cell_type": "code",
   "execution_count": 35,
   "id": "16147a31",
   "metadata": {},
   "outputs": [
    {
     "data": {
      "text/plain": [
       "'Dog'"
      ]
     },
     "execution_count": 35,
     "metadata": {},
     "output_type": "execute_result"
    }
   ],
   "source": [
    "list1.pop(list1.index('Dog'))"
   ]
  },
  {
   "cell_type": "code",
   "execution_count": 36,
   "id": "e31feb57",
   "metadata": {},
   "outputs": [
    {
     "data": {
      "text/plain": [
       "['Apple', 'Cat', 'Elephant']"
      ]
     },
     "execution_count": 36,
     "metadata": {},
     "output_type": "execute_result"
    }
   ],
   "source": [
    "list1"
   ]
  },
  {
   "cell_type": "code",
   "execution_count": 68,
   "id": "71c0677b",
   "metadata": {},
   "outputs": [
    {
     "data": {
      "text/plain": [
       "(['kl', 'virat', 'rohit'],\n",
       " ['rahul', 'kohli', 'sharma'],\n",
       " ['lucknow', 'blr', 'mumbai'])"
      ]
     },
     "execution_count": 68,
     "metadata": {},
     "output_type": "execute_result"
    }
   ],
   "source": [
    "string1='kl.rahul@lucknow.com,virat.kohli@blr.com,rohit.sharma@mumbai.com'\n",
    "list1=string1.split(',')\n",
    "f_name=[]\n",
    "s_name=[]\n",
    "c_name=[]\n",
    "for i in list1:\n",
    "    f_name.append(i.split('.')[0])\n",
    "    s_name.append(i.split('.')[1].split('@')[0])\n",
    "    c_name.append(i.split('.')[1].split('@')[1])\n",
    "f_name,s_name,c_name"
   ]
  },
  {
   "cell_type": "code",
   "execution_count": 75,
   "id": "07087214",
   "metadata": {},
   "outputs": [
    {
     "data": {
      "text/plain": [
       "(['kl', 'virat', 'rohit'],\n",
       " ['rahul', 'kohli', 'sharma'],\n",
       " ['lucknow', 'blr', 'mumbai'])"
      ]
     },
     "execution_count": 75,
     "metadata": {},
     "output_type": "execute_result"
    }
   ],
   "source": [
    "f_name=[i.split('.')[0] for i in list1]\n",
    "s_name=[i.split('.')[1].split('@')[0] for i in list1]\n",
    "c_name=[i.split('.')[1].split('@')[1] for i in list1]\n",
    "f_name,s_name,c_name"
   ]
  },
  {
   "cell_type": "markdown",
   "id": "d2a1b0b8",
   "metadata": {},
   "source": [
    "**copy**"
   ]
  },
  {
   "cell_type": "code",
   "execution_count": 76,
   "id": "fb47c001",
   "metadata": {},
   "outputs": [
    {
     "data": {
      "text/plain": [
       "['kl.rahul@lucknow.com', 'virat.kohli@blr.com', 'rohit.sharma@mumbai.com']"
      ]
     },
     "execution_count": 76,
     "metadata": {},
     "output_type": "execute_result"
    }
   ],
   "source": [
    "list1.copy()"
   ]
  },
  {
   "cell_type": "markdown",
   "id": "3e764ada",
   "metadata": {},
   "source": [
    "**EXTEND**"
   ]
  },
  {
   "cell_type": "code",
   "execution_count": 79,
   "id": "93276b94",
   "metadata": {},
   "outputs": [
    {
     "name": "stdout",
     "output_type": "stream",
     "text": [
      "[1, 2, 3, 4, 'a', 'b', 'c', 'd']\n",
      "['a', 'b', 'c', 'd', 1, 2, 3, 4, 'a', 'b', 'c', 'd']\n"
     ]
    }
   ],
   "source": [
    "list1=[1,2,3,4]\n",
    "list2=['a','b','c','d']\n",
    "list1.extend(list2)\n",
    "list2.extend(list1)\n",
    "print(list1)\n",
    "print(list2)"
   ]
  },
  {
   "cell_type": "code",
   "execution_count": 80,
   "id": "8a3a19d9",
   "metadata": {},
   "outputs": [
    {
     "name": "stdout",
     "output_type": "stream",
     "text": [
      "[1, 2, 3, 4]\n",
      "[1, 2, 3, 4, 5, 6]\n"
     ]
    }
   ],
   "source": [
    "#append\n",
    "list1 = [1, 2, 3]\n",
    "list1.append(4)\n",
    "print(list1)  # Output: [1, 2, 3, 4]\n",
    "\n",
    "# extend\n",
    "list2 = [1, 2, 3]\n",
    "list2.extend([4, 5, 6])\n",
    "print(list2)  # Output: [1, 2, 3, 4, 5, 6]\n",
    "\n",
    "\n",
    "\n",
    "\n"
   ]
  },
  {
   "cell_type": "markdown",
   "id": "14606310",
   "metadata": {},
   "source": [
    "**ZIP method**"
   ]
  },
  {
   "cell_type": "code",
   "execution_count": 84,
   "id": "6ebc7572",
   "metadata": {},
   "outputs": [
    {
     "name": "stdout",
     "output_type": "stream",
     "text": [
      "Ram age is 25\n",
      "Raheem age is 30\n",
      "Robert age is 35\n"
     ]
    }
   ],
   "source": [
    "list1=['Ram','Raheem','Robert']\n",
    "list2=[25,30,35]\n",
    "#Ram age is 25\n",
    "#raheem age is 30\n",
    "#robert age is 35\n",
    "for name,age in zip(list1,list2):\n",
    "    print(\"{} age is {}\".format(name,age))\n"
   ]
  },
  {
   "cell_type": "code",
   "execution_count": 89,
   "id": "2d998349",
   "metadata": {},
   "outputs": [
    {
     "name": "stdout",
     "output_type": "stream",
     "text": [
      "Ram age is 25\n",
      "Raheem age is 30\n",
      "Robert age is 35\n"
     ]
    }
   ],
   "source": [
    "list1 = ['Ram', 'Raheem', 'Robert']\n",
    "list2 = [25, 30, 35]\n",
    "\n",
    "for i in range(len(list1)):\n",
    "    print(\"{} age is {}\".format(list1[i],list2[i]))"
   ]
  },
  {
   "cell_type": "markdown",
   "id": "bca50c3e",
   "metadata": {},
   "source": [
    "**SORT**"
   ]
  },
  {
   "cell_type": "code",
   "execution_count": 90,
   "id": "1e36ffed",
   "metadata": {},
   "outputs": [
    {
     "data": {
      "text/plain": [
       "['A', 'B', 'C', 'D']"
      ]
     },
     "execution_count": 90,
     "metadata": {},
     "output_type": "execute_result"
    }
   ],
   "source": [
    "list1=['B','D','A','C']\n",
    "list1.sort()\n",
    "list1"
   ]
  },
  {
   "cell_type": "code",
   "execution_count": null,
   "id": "ccfd82da",
   "metadata": {},
   "outputs": [],
   "source": [
    "#If nothing mentioed means ascending ordeer\n",
    "#argumetn reverse it default as false\n"
   ]
  },
  {
   "cell_type": "code",
   "execution_count": 91,
   "id": "6f3ffbbb",
   "metadata": {},
   "outputs": [
    {
     "data": {
      "text/plain": [
       "['D', 'C', 'B', 'A']"
      ]
     },
     "execution_count": 91,
     "metadata": {},
     "output_type": "execute_result"
    }
   ],
   "source": [
    "list1=['B','D','A','C']\n",
    "list1.sort(reverse=True)\n",
    "list1"
   ]
  },
  {
   "cell_type": "code",
   "execution_count": null,
   "id": "7ccc868e",
   "metadata": {},
   "outputs": [],
   "source": []
  }
 ],
 "metadata": {
  "kernelspec": {
   "display_name": "Python 3 (ipykernel)",
   "language": "python",
   "name": "python3"
  },
  "language_info": {
   "codemirror_mode": {
    "name": "ipython",
    "version": 3
   },
   "file_extension": ".py",
   "mimetype": "text/x-python",
   "name": "python",
   "nbconvert_exporter": "python",
   "pygments_lexer": "ipython3",
   "version": "3.11.5"
  }
 },
 "nbformat": 4,
 "nbformat_minor": 5
}
