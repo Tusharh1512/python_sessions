{
 "cells": [
  {
   "cell_type": "markdown",
   "id": "06cc30e0",
   "metadata": {},
   "source": [
    "### String methods"
   ]
  },
  {
   "cell_type": "code",
   "execution_count": 1,
   "id": "ccec660e",
   "metadata": {},
   "outputs": [
    {
     "data": {
      "text/plain": [
       "['__add__',\n",
       " '__class__',\n",
       " '__contains__',\n",
       " '__delattr__',\n",
       " '__dir__',\n",
       " '__doc__',\n",
       " '__eq__',\n",
       " '__format__',\n",
       " '__ge__',\n",
       " '__getattribute__',\n",
       " '__getitem__',\n",
       " '__getnewargs__',\n",
       " '__getstate__',\n",
       " '__gt__',\n",
       " '__hash__',\n",
       " '__init__',\n",
       " '__init_subclass__',\n",
       " '__iter__',\n",
       " '__le__',\n",
       " '__len__',\n",
       " '__lt__',\n",
       " '__mod__',\n",
       " '__mul__',\n",
       " '__ne__',\n",
       " '__new__',\n",
       " '__reduce__',\n",
       " '__reduce_ex__',\n",
       " '__repr__',\n",
       " '__rmod__',\n",
       " '__rmul__',\n",
       " '__setattr__',\n",
       " '__sizeof__',\n",
       " '__str__',\n",
       " '__subclasshook__',\n",
       " 'capitalize',\n",
       " 'casefold',\n",
       " 'center',\n",
       " 'count',\n",
       " 'encode',\n",
       " 'endswith',\n",
       " 'expandtabs',\n",
       " 'find',\n",
       " 'format',\n",
       " 'format_map',\n",
       " 'index',\n",
       " 'isalnum',\n",
       " 'isalpha',\n",
       " 'isascii',\n",
       " 'isdecimal',\n",
       " 'isdigit',\n",
       " 'isidentifier',\n",
       " 'islower',\n",
       " 'isnumeric',\n",
       " 'isprintable',\n",
       " 'isspace',\n",
       " 'istitle',\n",
       " 'isupper',\n",
       " 'join',\n",
       " 'ljust',\n",
       " 'lower',\n",
       " 'lstrip',\n",
       " 'maketrans',\n",
       " 'partition',\n",
       " 'removeprefix',\n",
       " 'removesuffix',\n",
       " 'replace',\n",
       " 'rfind',\n",
       " 'rindex',\n",
       " 'rjust',\n",
       " 'rpartition',\n",
       " 'rsplit',\n",
       " 'rstrip',\n",
       " 'split',\n",
       " 'splitlines',\n",
       " 'startswith',\n",
       " 'strip',\n",
       " 'swapcase',\n",
       " 'title',\n",
       " 'translate',\n",
       " 'upper',\n",
       " 'zfill']"
      ]
     },
     "execution_count": 1,
     "metadata": {},
     "output_type": "execute_result"
    }
   ],
   "source": [
    "dir('name')"
   ]
  },
  {
   "cell_type": "markdown",
   "id": "57cfeaa5",
   "metadata": {},
   "source": [
    "## 1st method\n",
    "         capitalize"
   ]
  },
  {
   "cell_type": "code",
   "execution_count": 17,
   "id": "76ea993e",
   "metadata": {},
   "outputs": [
    {
     "data": {
      "text/plain": [
       "['__add__',\n",
       " '__class__',\n",
       " '__contains__',\n",
       " '__delattr__',\n",
       " '__dir__',\n",
       " '__doc__',\n",
       " '__eq__',\n",
       " '__format__',\n",
       " '__ge__',\n",
       " '__getattribute__',\n",
       " '__getitem__',\n",
       " '__getnewargs__',\n",
       " '__getstate__',\n",
       " '__gt__',\n",
       " '__hash__',\n",
       " '__init__',\n",
       " '__init_subclass__',\n",
       " '__iter__',\n",
       " '__le__',\n",
       " '__len__',\n",
       " '__lt__',\n",
       " '__mod__',\n",
       " '__mul__',\n",
       " '__ne__',\n",
       " '__new__',\n",
       " '__reduce__',\n",
       " '__reduce_ex__',\n",
       " '__repr__',\n",
       " '__rmod__',\n",
       " '__rmul__',\n",
       " '__setattr__',\n",
       " '__sizeof__',\n",
       " '__str__',\n",
       " '__subclasshook__',\n",
       " 'capitalize',\n",
       " 'casefold',\n",
       " 'center',\n",
       " 'count',\n",
       " 'encode',\n",
       " 'endswith',\n",
       " 'expandtabs',\n",
       " 'find',\n",
       " 'format',\n",
       " 'format_map',\n",
       " 'index',\n",
       " 'isalnum',\n",
       " 'isalpha',\n",
       " 'isascii',\n",
       " 'isdecimal',\n",
       " 'isdigit',\n",
       " 'isidentifier',\n",
       " 'islower',\n",
       " 'isnumeric',\n",
       " 'isprintable',\n",
       " 'isspace',\n",
       " 'istitle',\n",
       " 'isupper',\n",
       " 'join',\n",
       " 'ljust',\n",
       " 'lower',\n",
       " 'lstrip',\n",
       " 'maketrans',\n",
       " 'partition',\n",
       " 'removeprefix',\n",
       " 'removesuffix',\n",
       " 'replace',\n",
       " 'rfind',\n",
       " 'rindex',\n",
       " 'rjust',\n",
       " 'rpartition',\n",
       " 'rsplit',\n",
       " 'rstrip',\n",
       " 'split',\n",
       " 'splitlines',\n",
       " 'startswith',\n",
       " 'strip',\n",
       " 'swapcase',\n",
       " 'title',\n",
       " 'translate',\n",
       " 'upper',\n",
       " 'zfill']"
      ]
     },
     "execution_count": 17,
     "metadata": {},
     "output_type": "execute_result"
    }
   ],
   "source": [
    "dir(name)"
   ]
  },
  {
   "cell_type": "code",
   "execution_count": 8,
   "id": "fa9dbc98",
   "metadata": {},
   "outputs": [],
   "source": [
    "name='naresh it'\n"
   ]
  },
  {
   "cell_type": "code",
   "execution_count": 9,
   "id": "21ad96fd",
   "metadata": {},
   "outputs": [
    {
     "name": "stdout",
     "output_type": "stream",
     "text": [
      "Help on built-in function capitalize:\n",
      "\n",
      "capitalize() method of builtins.str instance\n",
      "    Return a capitalized version of the string.\n",
      "    \n",
      "    More specifically, make the first character have upper case and the rest lower\n",
      "    case.\n",
      "\n"
     ]
    }
   ],
   "source": [
    "help(name.capitalize)"
   ]
  },
  {
   "cell_type": "code",
   "execution_count": 10,
   "id": "76e33c3c",
   "metadata": {},
   "outputs": [
    {
     "data": {
      "text/plain": [
       "'Naresh it'"
      ]
     },
     "execution_count": 10,
     "metadata": {},
     "output_type": "execute_result"
    }
   ],
   "source": [
    "name.capitalize()"
   ]
  },
  {
   "cell_type": "code",
   "execution_count": 12,
   "id": "3ca7c75c",
   "metadata": {},
   "outputs": [
    {
     "name": "stdout",
     "output_type": "stream",
     "text": [
      "Help on built-in function lower:\n",
      "\n",
      "lower() method of builtins.str instance\n",
      "    Return a copy of the string converted to lowercase.\n",
      "\n"
     ]
    }
   ],
   "source": [
    "help(name.lower)"
   ]
  },
  {
   "cell_type": "code",
   "execution_count": 13,
   "id": "3024b386",
   "metadata": {},
   "outputs": [
    {
     "name": "stdout",
     "output_type": "stream",
     "text": [
      "Help on built-in function upper:\n",
      "\n",
      "upper() method of builtins.str instance\n",
      "    Return a copy of the string converted to uppercase.\n",
      "\n"
     ]
    }
   ],
   "source": [
    "help(name.upper)"
   ]
  },
  {
   "cell_type": "code",
   "execution_count": 15,
   "id": "5e9065da",
   "metadata": {},
   "outputs": [
    {
     "data": {
      "text/plain": [
       "'NARESH IT'"
      ]
     },
     "execution_count": 15,
     "metadata": {},
     "output_type": "execute_result"
    }
   ],
   "source": [
    "name='naresh it'\n",
    "name.upper()"
   ]
  },
  {
   "cell_type": "code",
   "execution_count": 16,
   "id": "e58312df",
   "metadata": {},
   "outputs": [
    {
     "data": {
      "text/plain": [
       "'naresh it'"
      ]
     },
     "execution_count": 16,
     "metadata": {},
     "output_type": "execute_result"
    }
   ],
   "source": [
    "name='nareSh it'\n",
    "name.lower()"
   ]
  },
  {
   "cell_type": "markdown",
   "id": "e6126386",
   "metadata": {},
   "source": [
    "### lower"
   ]
  },
  {
   "cell_type": "code",
   "execution_count": 21,
   "id": "27d453c8",
   "metadata": {},
   "outputs": [
    {
     "data": {
      "text/plain": [
       "'naresh it'"
      ]
     },
     "execution_count": 21,
     "metadata": {},
     "output_type": "execute_result"
    }
   ],
   "source": [
    "name='Naresh It'\n",
    "name.lower()"
   ]
  },
  {
   "cell_type": "code",
   "execution_count": 22,
   "id": "505ace11",
   "metadata": {},
   "outputs": [
    {
     "name": "stdout",
     "output_type": "stream",
     "text": [
      "Naresh it\n",
      "NARESH IT\n",
      "naresh it\n"
     ]
    }
   ],
   "source": [
    "name1='naresh IT'\n",
    "print(name1.capitalize())\n",
    "print(name1.upper())\n",
    "print(name1.lower())"
   ]
  },
  {
   "cell_type": "markdown",
   "id": "b0303f09",
   "metadata": {},
   "source": [
    "### casefold"
   ]
  },
  {
   "cell_type": "code",
   "execution_count": 25,
   "id": "4e521bf8",
   "metadata": {},
   "outputs": [
    {
     "data": {
      "text/plain": [
       "'naresh it'"
      ]
     },
     "execution_count": 25,
     "metadata": {},
     "output_type": "execute_result"
    }
   ],
   "source": [
    "name='Naresh It'\n",
    "name.casefold()"
   ]
  },
  {
   "cell_type": "code",
   "execution_count": 26,
   "id": "45038baa",
   "metadata": {},
   "outputs": [
    {
     "name": "stdout",
     "output_type": "stream",
     "text": [
      "Help on built-in function casefold:\n",
      "\n",
      "casefold() method of builtins.str instance\n",
      "    Return a version of the string suitable for caseless comparisons.\n",
      "\n"
     ]
    }
   ],
   "source": [
    "help(name.casefold)"
   ]
  },
  {
   "cell_type": "code",
   "execution_count": 27,
   "id": "e0c8585f",
   "metadata": {},
   "outputs": [
    {
     "name": "stdout",
     "output_type": "stream",
     "text": [
      "Help on built-in function removeprefix:\n",
      "\n",
      "removeprefix(prefix, /) method of builtins.str instance\n",
      "    Return a str with the given prefix string removed if present.\n",
      "    \n",
      "    If the string starts with the prefix string, return string[len(prefix):].\n",
      "    Otherwise, return a copy of the original string.\n",
      "\n"
     ]
    }
   ],
   "source": [
    "help(name.removeprefix)"
   ]
  },
  {
   "cell_type": "code",
   "execution_count": 44,
   "id": "e817410f",
   "metadata": {},
   "outputs": [
    {
     "data": {
      "text/plain": [
       "'Hello'"
      ]
     },
     "execution_count": 44,
     "metadata": {},
     "output_type": "execute_result"
    }
   ],
   "source": [
    "string1='hello'\n",
    "#output : string1='Hello' without using string method\n",
    "string2='H'\n",
    "string3=string1[1:]\n",
    "string2+string3\n"
   ]
  },
  {
   "cell_type": "code",
   "execution_count": 46,
   "id": "39d632d6",
   "metadata": {},
   "outputs": [
    {
     "name": "stdout",
     "output_type": "stream",
     "text": [
      "3\n",
      "0.0\n"
     ]
    }
   ],
   "source": [
    "import time\n",
    "start=time.time()\n",
    "string='hello hi how are you'\n",
    "count=0\n",
    "for i in string:\n",
    "    if i=='h':\n",
    "        count+=1\n",
    "print(count)\n",
    "end=time.time()\n",
    "print(end-start)"
   ]
  },
  {
   "cell_type": "markdown",
   "id": "b436f636",
   "metadata": {},
   "source": [
    "### Q1-How many a's\n",
    "### Q2 - index of 'a'\n",
    "### Q3- no. of vowels in a given string\n",
    "### Q4- unique vowels"
   ]
  },
  {
   "cell_type": "code",
   "execution_count": null,
   "id": "371a366f",
   "metadata": {},
   "outputs": [],
   "source": [
    "#Count method"
   ]
  },
  {
   "cell_type": "code",
   "execution_count": 2,
   "id": "4e5c444c",
   "metadata": {},
   "outputs": [],
   "source": [
    "string1='HiHihihi'\n",
    "#how many h are there\n",
    "#if this method will give 'H' and 'h' both or seperately"
   ]
  },
  {
   "cell_type": "code",
   "execution_count": 4,
   "id": "42a5de5f",
   "metadata": {},
   "outputs": [
    {
     "data": {
      "text/plain": [
       "2"
      ]
     },
     "execution_count": 4,
     "metadata": {},
     "output_type": "execute_result"
    }
   ],
   "source": [
    "string1.count('H')"
   ]
  },
  {
   "cell_type": "code",
   "execution_count": 5,
   "id": "e7cba18c",
   "metadata": {},
   "outputs": [
    {
     "data": {
      "text/plain": [
       "2"
      ]
     },
     "execution_count": 5,
     "metadata": {},
     "output_type": "execute_result"
    }
   ],
   "source": [
    "string1.count('h')"
   ]
  },
  {
   "cell_type": "markdown",
   "id": "3e7348ba",
   "metadata": {},
   "source": [
    "### Wap convert above string into lower case and count number of 'h' do by using string methods"
   ]
  },
  {
   "cell_type": "code",
   "execution_count": 8,
   "id": "f6472e10",
   "metadata": {},
   "outputs": [
    {
     "data": {
      "text/plain": [
       "4"
      ]
     },
     "execution_count": 8,
     "metadata": {},
     "output_type": "execute_result"
    }
   ],
   "source": [
    "string1='HiHihihi'\n",
    "string=string1.lower()\n",
    "string.count('h')"
   ]
  },
  {
   "cell_type": "code",
   "execution_count": 13,
   "id": "6ed9728e",
   "metadata": {},
   "outputs": [],
   "source": [
    "string1='HiHihihi'\n",
    "string=string1.lower()\n",
    "for i in string1:\n",
    "    if string=='h':\n",
    "        print(\"no. of h is : \",string)"
   ]
  },
  {
   "cell_type": "code",
   "execution_count": null,
   "id": "af5d4f3a",
   "metadata": {},
   "outputs": [],
   "source": []
  },
  {
   "cell_type": "code",
   "execution_count": 5,
   "id": "9d2edf21",
   "metadata": {},
   "outputs": [
    {
     "data": {
      "text/plain": [
       "'weLcome'"
      ]
     },
     "execution_count": 5,
     "metadata": {},
     "output_type": "execute_result"
    }
   ],
   "source": [
    "string1='welcome'\n",
    "#==================slice+concatenation=======================================\n",
    "string1[:2]:'L'+string1[3:]\n",
    "#================ replace method===============================================\n",
    "string1.replace('l','L')"
   ]
  },
  {
   "cell_type": "code",
   "execution_count": null,
   "id": "c7697d0e",
   "metadata": {},
   "outputs": [],
   "source": [
    "#input:restart\n",
    "#output1:$estart\n",
    "#output2:resta$t\n",
    "#replace method will replace all"
   ]
  },
  {
   "cell_type": "code",
   "execution_count": 6,
   "id": "4dd97d41",
   "metadata": {},
   "outputs": [
    {
     "data": {
      "text/plain": [
       "'$esta$t'"
      ]
     },
     "execution_count": 6,
     "metadata": {},
     "output_type": "execute_result"
    }
   ],
   "source": [
    "string='restart'\n",
    "'restart'.replace('r','$')"
   ]
  },
  {
   "cell_type": "code",
   "execution_count": 29,
   "id": "372dfb3f",
   "metadata": {},
   "outputs": [
    {
     "name": "stdout",
     "output_type": "stream",
     "text": [
      "resta$t\n",
      "$estart\n",
      "resta$t\n"
     ]
    }
   ],
   "source": [
    "string='restart'\n",
    "a=string.replace('r','$',1)\n",
    "string[1:]\n",
    "string[:1]\n",
    "\n",
    "b=string[:1]+string[1:].replace('r','$',1)\n",
    "c=print(string[::-1].replace('r','$',1)[::-1])\n",
    "print(a)\n",
    "print(b)"
   ]
  },
  {
   "cell_type": "code",
   "execution_count": 21,
   "id": "c2478c99",
   "metadata": {},
   "outputs": [
    {
     "ename": "SyntaxError",
     "evalue": "invalid syntax (3285900914.py, line 1)",
     "output_type": "error",
     "traceback": [
      "\u001b[1;36m  Cell \u001b[1;32mIn[21], line 1\u001b[1;36m\u001b[0m\n\u001b[1;33m    string.replace('r','$',6,/)\u001b[0m\n\u001b[1;37m                             ^\u001b[0m\n\u001b[1;31mSyntaxError\u001b[0m\u001b[1;31m:\u001b[0m invalid syntax\n"
     ]
    }
   ],
   "source": [
    "string.replace('r','$',6,/)"
   ]
  },
  {
   "cell_type": "code",
   "execution_count": 22,
   "id": "914e29ec",
   "metadata": {},
   "outputs": [
    {
     "name": "stdout",
     "output_type": "stream",
     "text": [
      "Output 1: $restart\n",
      "Output 2: $esta$t\n"
     ]
    }
   ],
   "source": [
    "input_word = \"restart\"\n",
    "\n",
    "# Output 1: Add a \"$\" at the beginning\n",
    "output1 = \"$\"+input_word\n",
    "\n",
    "# Output 2: Replace \"r\" with \"$\"\n",
    "output2 = input_word.replace(\"r\", \"$\")\n",
    "\n",
    "print(\"Output 1:\", output1)\n",
    "print(\"Output 2:\", output2)"
   ]
  },
  {
   "cell_type": "markdown",
   "id": "57c0f001",
   "metadata": {},
   "source": [
    "$$Index$$"
   ]
  },
  {
   "cell_type": "code",
   "execution_count": 31,
   "id": "73e16af9",
   "metadata": {},
   "outputs": [
    {
     "data": {
      "text/plain": [
       "2"
      ]
     },
     "execution_count": 31,
     "metadata": {},
     "output_type": "execute_result"
    }
   ],
   "source": [
    "string1='python'\n",
    "string1.index('t')"
   ]
  },
  {
   "cell_type": "code",
   "execution_count": 40,
   "id": "df889b24",
   "metadata": {},
   "outputs": [
    {
     "data": {
      "text/plain": [
       "'art'"
      ]
     },
     "execution_count": 40,
     "metadata": {},
     "output_type": "execute_result"
    }
   ],
   "source": [
    "string1='restart'\n",
    "#replace the second 't' with 2\n",
    "string1[string1.index('t')+1:]"
   ]
  },
  {
   "cell_type": "code",
   "execution_count": 46,
   "id": "2681fdda",
   "metadata": {},
   "outputs": [
    {
     "name": "stdout",
     "output_type": "stream",
     "text": [
      "3\n"
     ]
    },
    {
     "data": {
      "text/plain": [
       "6"
      ]
     },
     "execution_count": 46,
     "metadata": {},
     "output_type": "execute_result"
    }
   ],
   "source": [
    "string='restart'\n",
    "\n",
    "# r e s t a r t\n",
    "# 0 1 2 3 4 5 6\n",
    "print(string.index('t'))\n",
    "f_0=string.index('t')\n",
    "string.index('t',f_0+1)"
   ]
  },
  {
   "cell_type": "code",
   "execution_count": 53,
   "id": "0e4b2190",
   "metadata": {},
   "outputs": [
    {
     "name": "stdout",
     "output_type": "stream",
     "text": [
      "3 6 12\n"
     ]
    }
   ],
   "source": [
    "string2='restart how to'\n",
    "#get the first 't'\n",
    "f_o=string2.index('t')\n",
    "s_o=string2.index('t',f_o+1)\n",
    "t_o=string2.index('t',s_o+1)\n",
    "print(f_o,s_o,t_o)"
   ]
  },
  {
   "cell_type": "markdown",
   "id": "4c773e2e",
   "metadata": {},
   "source": [
    "$$find$$"
   ]
  },
  {
   "cell_type": "code",
   "execution_count": 55,
   "id": "303100c0",
   "metadata": {},
   "outputs": [
    {
     "data": {
      "text/plain": [
       "6"
      ]
     },
     "execution_count": 55,
     "metadata": {},
     "output_type": "execute_result"
    }
   ],
   "source": [
    "string1='restart how to'\n",
    "f_o=string1.find('t')\n",
    "s_o=string1.find('t',f_o+1)\n",
    "s_o"
   ]
  },
  {
   "cell_type": "markdown",
   "id": "ed6634c6",
   "metadata": {},
   "source": [
    "$$split$$"
   ]
  },
  {
   "cell_type": "code",
   "execution_count": 66,
   "id": "dff271fc",
   "metadata": {},
   "outputs": [
    {
     "data": {
      "text/plain": [
       "['hi', 'how', 'are', 'you']"
      ]
     },
     "execution_count": 66,
     "metadata": {},
     "output_type": "execute_result"
    }
   ],
   "source": [
    "string1='hi how are you'\n",
    "string1.split()"
   ]
  },
  {
   "cell_type": "code",
   "execution_count": 67,
   "id": "dd3468c1",
   "metadata": {},
   "outputs": [
    {
     "data": {
      "text/plain": [
       "['hi how', 'are you']"
      ]
     },
     "execution_count": 67,
     "metadata": {},
     "output_type": "execute_result"
    }
   ],
   "source": [
    "string2='hi how,are you'\n",
    "string2.split(',')"
   ]
  },
  {
   "cell_type": "code",
   "execution_count": 72,
   "id": "654a3ee9",
   "metadata": {},
   "outputs": [
    {
     "name": "stdout",
     "output_type": "stream",
     "text": [
      "hi how,are you\n"
     ]
    }
   ],
   "source": [
    "var1= 'hi how'\n",
    "var2='are you'\n",
    "print(var1,var2,sep=\",\")"
   ]
  },
  {
   "cell_type": "code",
   "execution_count": 70,
   "id": "cd6eb66f",
   "metadata": {},
   "outputs": [
    {
     "data": {
      "text/plain": [
       "['h', 'i how,', 're you']"
      ]
     },
     "execution_count": 70,
     "metadata": {},
     "output_type": "execute_result"
    }
   ],
   "source": [
    "string1='hai how,are you'\n",
    "string1.split('a')"
   ]
  },
  {
   "cell_type": "code",
   "execution_count": 7,
   "id": "ca8ccd93",
   "metadata": {},
   "outputs": [
    {
     "name": "stdout",
     "output_type": "stream",
     "text": [
      "omkar\n"
     ]
    }
   ],
   "source": [
    "sent1='rashaad.omkar@gmail.com'\n",
    "#Extract only: omkar\n",
    "sent1.split('@')\n",
    "if len(sent1.split('@'))==2:\n",
    "    extract=sent1.split('@')[0].split('.')[1]\n",
    "    print(extract)"
   ]
  },
  {
   "cell_type": "code",
   "execution_count": 18,
   "id": "015de8b2",
   "metadata": {},
   "outputs": [
    {
     "name": "stdout",
     "output_type": "stream",
     "text": [
      "omkar\n"
     ]
    }
   ],
   "source": [
    "sent1='rashaad.omkar@gmail.com'\n",
    "extract=sent1.split('@')[0].split('.')[1]\n",
    "print(extract)"
   ]
  },
  {
   "cell_type": "code",
   "execution_count": 21,
   "id": "f8f41973",
   "metadata": {},
   "outputs": [
    {
     "name": "stdout",
     "output_type": "stream",
     "text": [
      "omkar\n"
     ]
    }
   ],
   "source": [
    "sent1='rashaad.omkar@gmail.mlr.edu.ac.in'\n",
    "extract=sent1.split('@')[0].split('.')[1]\n",
    "print(extract)"
   ]
  },
  {
   "cell_type": "code",
   "execution_count": 27,
   "id": "de62ab2a",
   "metadata": {},
   "outputs": [
    {
     "data": {
      "text/plain": [
       "'edu'"
      ]
     },
     "execution_count": 27,
     "metadata": {},
     "output_type": "execute_result"
    }
   ],
   "source": [
    "sent1='rashaad.omkar@edu.ac.in'\n",
    "sent1.split('@')[1].split('.')[0]"
   ]
  },
  {
   "cell_type": "markdown",
   "id": "c0ef4c33",
   "metadata": {},
   "source": [
    "### Project\n",
    "- let say all the emails in a text file \n",
    "- how to read the text file\n",
    "- extract\n",
    "- first second company email\n"
   ]
  },
  {
   "cell_type": "markdown",
   "id": "bdc9d21c",
   "metadata": {},
   "source": [
    "$$lstrip-rstrip$$"
   ]
  },
  {
   "cell_type": "code",
   "execution_count": 32,
   "id": "5fbdcd4c",
   "metadata": {},
   "outputs": [],
   "source": [
    "string1=' hai how are you '\n",
    "string2='hai how are you '\n",
    "string3=' hai how are you'\n"
   ]
  },
  {
   "cell_type": "markdown",
   "id": "46dd8258",
   "metadata": {},
   "source": [
    "#### if you want to remove the spaces we use method strip\n",
    "- strip means it will remove spaces both side\n",
    "- lstrip: It will remove left side space\n",
    "- rstrip:It will remove right side space"
   ]
  },
  {
   "cell_type": "code",
   "execution_count": 34,
   "id": "c763fa92",
   "metadata": {},
   "outputs": [
    {
     "data": {
      "text/plain": [
       "('hai how are you', 'hai how are you ', ' hai how are you')"
      ]
     },
     "execution_count": 34,
     "metadata": {},
     "output_type": "execute_result"
    }
   ],
   "source": [
    "string1.strip(),string1.lstrip(),string1.rstrip()"
   ]
  },
  {
   "cell_type": "code",
   "execution_count": 35,
   "id": "5f69c7e5",
   "metadata": {},
   "outputs": [
    {
     "data": {
      "text/plain": [
       "('hai how are you', 'hai how are you ', 'hai how are you')"
      ]
     },
     "execution_count": 35,
     "metadata": {},
     "output_type": "execute_result"
    }
   ],
   "source": [
    "string2.strip(),string2.lstrip(),string2.rstrip()"
   ]
  },
  {
   "cell_type": "code",
   "execution_count": 38,
   "id": "3013d524",
   "metadata": {},
   "outputs": [
    {
     "name": "stdout",
     "output_type": "stream",
     "text": [
      "hello\n",
      "hello&&&&&&&&&&&\n",
      "&&&&&hello\n"
     ]
    }
   ],
   "source": [
    "string1='&&&&&hello&&&&&&&&&&&'\n",
    "print(string1.strip('&'))\n",
    "print(string1.lstrip('&'))\n",
    "print(string1.rstrip('&'))"
   ]
  },
  {
   "cell_type": "markdown",
   "id": "f839621b",
   "metadata": {},
   "source": [
    "$$startswith-endswith$$"
   ]
  },
  {
   "cell_type": "code",
   "execution_count": 44,
   "id": "e1d2663e",
   "metadata": {},
   "outputs": [
    {
     "data": {
      "text/plain": [
       "True"
      ]
     },
     "execution_count": 44,
     "metadata": {},
     "output_type": "execute_result"
    }
   ],
   "source": [
    "string1=' hai how are you'\n",
    "string1.startswith('hai')\n",
    "string1.startswith(' hai')\n",
    "s"
   ]
  },
  {
   "cell_type": "code",
   "execution_count": 45,
   "id": "f639ee1c",
   "metadata": {},
   "outputs": [
    {
     "data": {
      "text/plain": [
       "True"
      ]
     },
     "execution_count": 45,
     "metadata": {},
     "output_type": "execute_result"
    }
   ],
   "source": [
    "string1.endswith('u')"
   ]
  },
  {
   "cell_type": "code",
   "execution_count": 46,
   "id": "6349b65c",
   "metadata": {},
   "outputs": [
    {
     "data": {
      "text/plain": [
       "True"
      ]
     },
     "execution_count": 46,
     "metadata": {},
     "output_type": "execute_result"
    }
   ],
   "source": [
    "string1.startswith(string1)\n",
    "string1.endswith(string1)"
   ]
  },
  {
   "cell_type": "markdown",
   "id": "39966987",
   "metadata": {},
   "source": [
    "#### ----------------------------------------------------------------------------------------------------\n",
    "- capitalize/casefold/upper/lower\n",
    "- index/find\n",
    "- strip/rstrip/lstrip\n",
    "- startswith/endswith\n",
    "- count\n",
    "- replace\n",
    "- split\n",
    "#### ----------------------------------------------------------------------------------------------------"
   ]
  },
  {
   "cell_type": "code",
   "execution_count": 53,
   "id": "71dd03da",
   "metadata": {},
   "outputs": [
    {
     "name": "stdout",
     "output_type": "stream",
     "text": [
      "True False\n",
      "False True\n",
      "False False\n",
      "False False\n"
     ]
    }
   ],
   "source": [
    "string1=\"Hello\"\n",
    "string2='1234'\n",
    "print(string1.isalpha(),string2.isalpha())\n",
    "print(string1.isnumeric(),string2.isnumeric())\n",
    "print(string1.isupper(),string2.isupper())\n",
    "print(string1.islower(),string2.islower())"
   ]
  },
  {
   "cell_type": "code",
   "execution_count": 57,
   "id": "fcfa634d",
   "metadata": {},
   "outputs": [
    {
     "name": "stdout",
     "output_type": "stream",
     "text": [
      "False\n"
     ]
    }
   ],
   "source": [
    "string1=\"Hello\"\n",
    "print(string1.islower())"
   ]
  },
  {
   "cell_type": "code",
   "execution_count": 65,
   "id": "d381e405",
   "metadata": {},
   "outputs": [
    {
     "ename": "AttributeError",
     "evalue": "'str' object has no attribute 'float'",
     "output_type": "error",
     "traceback": [
      "\u001b[1;31m---------------------------------------------------------------------------\u001b[0m",
      "\u001b[1;31mAttributeError\u001b[0m                            Traceback (most recent call last)",
      "Cell \u001b[1;32mIn[65], line 2\u001b[0m\n\u001b[0;32m      1\u001b[0m string3\u001b[38;5;241m=\u001b[39m\u001b[38;5;124m'\u001b[39m\u001b[38;5;124m10.5\u001b[39m\u001b[38;5;124m'\u001b[39m\n\u001b[1;32m----> 2\u001b[0m string3\u001b[38;5;241m.\u001b[39mfloat()\n",
      "\u001b[1;31mAttributeError\u001b[0m: 'str' object has no attribute 'float'"
     ]
    }
   ],
   "source": [
    "string3='10.5'\n",
    "string3.float()"
   ]
  },
  {
   "cell_type": "code",
   "execution_count": 64,
   "id": "b720d94b",
   "metadata": {},
   "outputs": [
    {
     "data": {
      "text/plain": [
       "['__add__',\n",
       " '__class__',\n",
       " '__contains__',\n",
       " '__delattr__',\n",
       " '__dir__',\n",
       " '__doc__',\n",
       " '__eq__',\n",
       " '__format__',\n",
       " '__ge__',\n",
       " '__getattribute__',\n",
       " '__getitem__',\n",
       " '__getnewargs__',\n",
       " '__getstate__',\n",
       " '__gt__',\n",
       " '__hash__',\n",
       " '__init__',\n",
       " '__init_subclass__',\n",
       " '__iter__',\n",
       " '__le__',\n",
       " '__len__',\n",
       " '__lt__',\n",
       " '__mod__',\n",
       " '__mul__',\n",
       " '__ne__',\n",
       " '__new__',\n",
       " '__reduce__',\n",
       " '__reduce_ex__',\n",
       " '__repr__',\n",
       " '__rmod__',\n",
       " '__rmul__',\n",
       " '__setattr__',\n",
       " '__sizeof__',\n",
       " '__str__',\n",
       " '__subclasshook__',\n",
       " 'capitalize',\n",
       " 'casefold',\n",
       " 'center',\n",
       " 'count',\n",
       " 'encode',\n",
       " 'endswith',\n",
       " 'expandtabs',\n",
       " 'find',\n",
       " 'format',\n",
       " 'format_map',\n",
       " 'index',\n",
       " 'isalnum',\n",
       " 'isalpha',\n",
       " 'isascii',\n",
       " 'isdecimal',\n",
       " 'isdigit',\n",
       " 'isidentifier',\n",
       " 'islower',\n",
       " 'isnumeric',\n",
       " 'isprintable',\n",
       " 'isspace',\n",
       " 'istitle',\n",
       " 'isupper',\n",
       " 'join',\n",
       " 'ljust',\n",
       " 'lower',\n",
       " 'lstrip',\n",
       " 'maketrans',\n",
       " 'partition',\n",
       " 'removeprefix',\n",
       " 'removesuffix',\n",
       " 'replace',\n",
       " 'rfind',\n",
       " 'rindex',\n",
       " 'rjust',\n",
       " 'rpartition',\n",
       " 'rsplit',\n",
       " 'rstrip',\n",
       " 'split',\n",
       " 'splitlines',\n",
       " 'startswith',\n",
       " 'strip',\n",
       " 'swapcase',\n",
       " 'title',\n",
       " 'translate',\n",
       " 'upper',\n",
       " 'zfill']"
      ]
     },
     "execution_count": 64,
     "metadata": {},
     "output_type": "execute_result"
    }
   ],
   "source": [
    "dir('')"
   ]
  },
  {
   "cell_type": "markdown",
   "id": "28e88007",
   "metadata": {},
   "source": [
    "#### Q1- in a given sentence what is the most repeated word?\n",
    "- example- 'hai how are you you hai'\n",
    "##### Q2- in a given sentence what is the maximum length of the string also minumum \n",
    "### #  length of the string\n",
    "- 'hello python how are youuuu'\n",
    "#### q3- str1='hyd'  str2='chennai'  str3='mumbai'\n",
    "####    greatet word and smallest word: interms of ascii"
   ]
  },
  {
   "cell_type": "markdown",
   "id": "4c314a2c",
   "metadata": {},
   "source": [
    "$$LIST$$"
   ]
  },
  {
   "cell_type": "code",
   "execution_count": 13,
   "id": "05adc156",
   "metadata": {},
   "outputs": [
    {
     "data": {
      "text/plain": [
       "[1, 2, 3, 4, 5]"
      ]
     },
     "execution_count": 13,
     "metadata": {},
     "output_type": "execute_result"
    }
   ],
   "source": [
    "list1=[1,2,3,4,5]\n",
    "list1"
   ]
  },
  {
   "cell_type": "markdown",
   "id": "7efe28e3",
   "metadata": {},
   "source": [
    "- array of elemenrs stored in square method\n",
    "- list is a heterogenous property\n",
    "- anykind of data types emlements we can store in the form of list\n",
    "- which means duplicated elements are aloowed\n",
    "- list and list also it can take"
   ]
  },
  {
   "cell_type": "code",
   "execution_count": 21,
   "id": "5d2d666a",
   "metadata": {},
   "outputs": [
    {
     "data": {
      "text/plain": [
       "['hai how are you', [1, 2, 3]]"
      ]
     },
     "execution_count": 21,
     "metadata": {},
     "output_type": "execute_result"
    }
   ],
   "source": [
    "list3=['hai how are you',[1,2,3]]\n",
    "list3"
   ]
  },
  {
   "cell_type": "code",
   "execution_count": 15,
   "id": "54a793cd",
   "metadata": {},
   "outputs": [
    {
     "data": {
      "text/plain": [
       "list"
      ]
     },
     "execution_count": 15,
     "metadata": {},
     "output_type": "execute_result"
    }
   ],
   "source": [
    "type(list1)"
   ]
  },
  {
   "cell_type": "code",
   "execution_count": 16,
   "id": "6f5603e8",
   "metadata": {},
   "outputs": [
    {
     "data": {
      "text/plain": [
       "[1, 2, 3, 4, 5]"
      ]
     },
     "execution_count": 16,
     "metadata": {},
     "output_type": "execute_result"
    }
   ],
   "source": [
    "list1"
   ]
  },
  {
   "cell_type": "code",
   "execution_count": 20,
   "id": "3a999a0f",
   "metadata": {},
   "outputs": [
    {
     "name": "stdout",
     "output_type": "stream",
     "text": [
      "5\n",
      "5\n",
      "1\n",
      "15\n"
     ]
    }
   ],
   "source": [
    "#len-max-min-sum\n",
    "print(len(list1))\n",
    "print(max(list1))\n",
    "print(min(list1))\n",
    "print(sum(list1))"
   ]
  },
  {
   "cell_type": "code",
   "execution_count": 52,
   "id": "93ea156a",
   "metadata": {},
   "outputs": [
    {
     "data": {
      "text/plain": [
       "['A', 'B', 'C', 'D']"
      ]
     },
     "execution_count": 52,
     "metadata": {},
     "output_type": "execute_result"
    }
   ],
   "source": [
    "#len-max-min-sum\n",
    "list2=['A','B','C','D']\n",
    "list2"
   ]
  },
  {
   "cell_type": "code",
   "execution_count": 33,
   "id": "6d8cbc8f",
   "metadata": {},
   "outputs": [
    {
     "name": "stdout",
     "output_type": "stream",
     "text": [
      "['A,B,C,D']\n",
      "1\n",
      "A,B,C,D\n",
      "A,B,C,D\n"
     ]
    },
    {
     "ename": "TypeError",
     "evalue": "unsupported operand type(s) for +: 'int' and 'str'",
     "output_type": "error",
     "traceback": [
      "\u001b[1;31m---------------------------------------------------------------------------\u001b[0m",
      "\u001b[1;31mTypeError\u001b[0m                                 Traceback (most recent call last)",
      "Cell \u001b[1;32mIn[33], line 5\u001b[0m\n\u001b[0;32m      3\u001b[0m \u001b[38;5;28mprint\u001b[39m(\u001b[38;5;28mmax\u001b[39m(list2))\n\u001b[0;32m      4\u001b[0m \u001b[38;5;28mprint\u001b[39m(\u001b[38;5;28mmin\u001b[39m(list2))\n\u001b[1;32m----> 5\u001b[0m \u001b[38;5;28mprint\u001b[39m(\u001b[38;5;28msum\u001b[39m(list2))\n",
      "\u001b[1;31mTypeError\u001b[0m: unsupported operand type(s) for +: 'int' and 'str'"
     ]
    }
   ],
   "source": [
    "print(list2)\n",
    "print(len(list2))\n",
    "print(max(list2))\n",
    "print(min(list2))\n",
    "print(sum(list2))\n"
   ]
  },
  {
   "cell_type": "code",
   "execution_count": 34,
   "id": "73257762",
   "metadata": {},
   "outputs": [
    {
     "name": "stdout",
     "output_type": "stream",
     "text": [
      "['hai how are you', [1, 2, 3]]\n",
      "2\n"
     ]
    },
    {
     "ename": "TypeError",
     "evalue": "'>' not supported between instances of 'list' and 'str'",
     "output_type": "error",
     "traceback": [
      "\u001b[1;31m---------------------------------------------------------------------------\u001b[0m",
      "\u001b[1;31mTypeError\u001b[0m                                 Traceback (most recent call last)",
      "Cell \u001b[1;32mIn[34], line 3\u001b[0m\n\u001b[0;32m      1\u001b[0m \u001b[38;5;28mprint\u001b[39m(list3)\n\u001b[0;32m      2\u001b[0m \u001b[38;5;28mprint\u001b[39m(\u001b[38;5;28mlen\u001b[39m(list3))\n\u001b[1;32m----> 3\u001b[0m \u001b[38;5;28mprint\u001b[39m(\u001b[38;5;28mmax\u001b[39m(list3))\n\u001b[0;32m      4\u001b[0m \u001b[38;5;28mprint\u001b[39m(\u001b[38;5;28mmin\u001b[39m(list3))\n\u001b[0;32m      5\u001b[0m \u001b[38;5;28mprint\u001b[39m(\u001b[38;5;28msum\u001b[39m(list3))\n",
      "\u001b[1;31mTypeError\u001b[0m: '>' not supported between instances of 'list' and 'str'"
     ]
    }
   ],
   "source": [
    "print(list3)\n",
    "print(len(list3))\n",
    "print(max(list3))\n",
    "print(min(list3))\n",
    "print(sum(list3))"
   ]
  },
  {
   "cell_type": "code",
   "execution_count": 44,
   "id": "12a10865",
   "metadata": {},
   "outputs": [
    {
     "name": "stdout",
     "output_type": "stream",
     "text": [
      "[1, 2, 3, 4, 5]\n",
      "['A,B,C,D']\n"
     ]
    }
   ],
   "source": [
    "print(list1)\n",
    "print(list2)\n",
    "list_con=list1+list2"
   ]
  },
  {
   "cell_type": "code",
   "execution_count": 45,
   "id": "de6b9f59",
   "metadata": {},
   "outputs": [
    {
     "name": "stdout",
     "output_type": "stream",
     "text": [
      "[1, 2, 3, 4, 5, 'A,B,C,D']\n"
     ]
    }
   ],
   "source": [
    "print(list_con)"
   ]
  },
  {
   "cell_type": "code",
   "execution_count": 53,
   "id": "8de4d39a",
   "metadata": {},
   "outputs": [
    {
     "data": {
      "text/plain": [
       "['A', 'B', 'C', 'D']"
      ]
     },
     "execution_count": 53,
     "metadata": {},
     "output_type": "execute_result"
    }
   ],
   "source": [
    "list2"
   ]
  },
  {
   "cell_type": "code",
   "execution_count": 56,
   "id": "7c08af81",
   "metadata": {},
   "outputs": [
    {
     "data": {
      "text/plain": [
       "True"
      ]
     },
     "execution_count": 56,
     "metadata": {},
     "output_type": "execute_result"
    }
   ],
   "source": [
    "'A' in list2\n",
    "'B' in list2\n",
    "'C' in list2\n",
    "'D' in list2\n",
    "#i in list2"
   ]
  },
  {
   "cell_type": "code",
   "execution_count": 75,
   "id": "8ca19ef9",
   "metadata": {},
   "outputs": [
    {
     "name": "stdout",
     "output_type": "stream",
     "text": [
      "0\n",
      "1\n",
      "2\n",
      "3\n"
     ]
    }
   ],
   "source": [
    "for i in range(len(list2)):\n",
    "    print(i)"
   ]
  },
  {
   "cell_type": "code",
   "execution_count": 78,
   "id": "14201bcf",
   "metadata": {},
   "outputs": [
    {
     "name": "stdout",
     "output_type": "stream",
     "text": [
      "0 A\n",
      "1 B\n",
      "2 C\n",
      "3 D\n"
     ]
    }
   ],
   "source": [
    "i=0\n",
    "while i<len(list2):\n",
    "    print(i,list2[i])\n",
    "    i+=1"
   ]
  },
  {
   "cell_type": "code",
   "execution_count": null,
   "id": "0309f6fb",
   "metadata": {},
   "outputs": [],
   "source": []
  },
  {
   "cell_type": "code",
   "execution_count": null,
   "id": "85fc3bdc",
   "metadata": {},
   "outputs": [],
   "source": []
  },
  {
   "cell_type": "code",
   "execution_count": null,
   "id": "aab42ffa",
   "metadata": {},
   "outputs": [],
   "source": []
  },
  {
   "cell_type": "code",
   "execution_count": null,
   "id": "311391b4",
   "metadata": {},
   "outputs": [],
   "source": []
  },
  {
   "cell_type": "code",
   "execution_count": null,
   "id": "6551fe3d",
   "metadata": {},
   "outputs": [],
   "source": []
  }
 ],
 "metadata": {
  "kernelspec": {
   "display_name": "Python 3 (ipykernel)",
   "language": "python",
   "name": "python3"
  },
  "language_info": {
   "codemirror_mode": {
    "name": "ipython",
    "version": 3
   },
   "file_extension": ".py",
   "mimetype": "text/x-python",
   "name": "python",
   "nbconvert_exporter": "python",
   "pygments_lexer": "ipython3",
   "version": "3.11.5"
  }
 },
 "nbformat": 4,
 "nbformat_minor": 5
}
