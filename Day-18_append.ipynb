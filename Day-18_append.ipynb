{
 "cells": [
  {
   "cell_type": "code",
   "execution_count": 1,
   "id": "eb6c85e6",
   "metadata": {},
   "outputs": [
    {
     "name": "stdout",
     "output_type": "stream",
     "text": [
      "hyderabad\n",
      "delhi\n",
      "chennai\n"
     ]
    }
   ],
   "source": [
    "list1=['hyderabad','delhi','chennai','blr']\n",
    "for i in list1:\n",
    "    if len(i)>=4:\n",
    "        print(i)"
   ]
  },
  {
   "cell_type": "code",
   "execution_count": 2,
   "id": "bbc67f7b",
   "metadata": {},
   "outputs": [
    {
     "data": {
      "text/plain": [
       "['hyderabad', 'delhi', 'chennai']"
      ]
     },
     "execution_count": 2,
     "metadata": {},
     "output_type": "execute_result"
    }
   ],
   "source": [
    "list1=['hyderabad','delhi','chennai','blr']\n",
    "city_list=[]\n",
    "for i in list1:\n",
    "    if len(i)>=4:\n",
    "        city_list.append(i)\n",
    "city_list"
   ]
  },
  {
   "cell_type": "code",
   "execution_count": 6,
   "id": "796814a4",
   "metadata": {},
   "outputs": [
    {
     "data": {
      "text/plain": [
       "[]"
      ]
     },
     "execution_count": 6,
     "metadata": {},
     "output_type": "execute_result"
    }
   ],
   "source": [
    "list2=['hyderb#d','delhi','chenn#i','blr']\n",
    "city_list1=[]\n",
    "for i in list2:\n",
    "    if '#' in list2:\n",
    "        city_list1.append(i)\n",
    "city_list1        "
   ]
  },
  {
   "cell_type": "code",
   "execution_count": 8,
   "id": "5e7fbfe5",
   "metadata": {},
   "outputs": [
    {
     "data": {
      "text/plain": [
       "(['onkar', 'kareem', 'tushar'], ['nallagoni', 'pasha', 'satya'])"
      ]
     },
     "execution_count": 8,
     "metadata": {},
     "output_type": "execute_result"
    }
   ],
   "source": [
    "list1=['onkar.nallagoni@gmail.com','kareem.pasha@gmail.com','tushar.satya@gmail.com']\n",
    "first,second=[],[]\n",
    "for i in list1:\n",
    "    first.append(i.split('.')[0])\n",
    "    second.append(i[i.find('.')+1:i.find('@')])\n",
    "first,second\n"
   ]
  },
  {
   "cell_type": "code",
   "execution_count": null,
   "id": "c7d20e3e",
   "metadata": {},
   "outputs": [],
   "source": [
    "#Wap ask the user get 10 random numbers between 10 to 50 and get the \n",
    "# even and odd number from those 10 random numbers\n",
    "#take 2 empty list"
   ]
  },
  {
   "cell_type": "code",
   "execution_count": 15,
   "id": "1517ad9f",
   "metadata": {},
   "outputs": [
    {
     "data": {
      "text/plain": [
       "([14, 42, 50, 8, 44], [3, 11, 3, 23, 5])"
      ]
     },
     "execution_count": 15,
     "metadata": {},
     "output_type": "execute_result"
    }
   ],
   "source": [
    "import random\n",
    "even,odd=[],[]\n",
    "for i in range(10):\n",
    "    num=random.randint(1,50)\n",
    "    if num%2==0:\n",
    "        even.append(num)\n",
    "    else:\n",
    "        odd.append(num)\n",
    "even,odd"
   ]
  },
  {
   "cell_type": "markdown",
   "id": "d8e0534e",
   "metadata": {},
   "source": [
    "**List Comprehenshion**"
   ]
  },
  {
   "cell_type": "code",
   "execution_count": 17,
   "id": "ecd40883",
   "metadata": {},
   "outputs": [
    {
     "data": {
      "text/plain": [
       "['hyderabad', 'delhi', 'chennai']"
      ]
     },
     "execution_count": 17,
     "metadata": {},
     "output_type": "execute_result"
    }
   ],
   "source": [
    "list1=['hyderabad','delhi','chennai','blr']\n",
    "city_list=[]\n",
    "#for i in list1:\n",
    " #   if len(i)>=4:\n",
    "  #      city_list.append(i)\n",
    "#city_list\n",
    "#start:you have taken an empty list\n",
    "#end: appending the results\n",
    "#[<output> <for loop> <ifcondition>]\n",
    "output=[i for i in list1  if len(i)>=4]\n",
    "output"
   ]
  },
  {
   "cell_type": "code",
   "execution_count": 25,
   "id": "7d2fe0e5",
   "metadata": {},
   "outputs": [
    {
     "data": {
      "text/plain": [
       "[]"
      ]
     },
     "execution_count": 25,
     "metadata": {},
     "output_type": "execute_result"
    }
   ],
   "source": [
    "list2=['hyderb#d','delhi','chenn#i','blr']\n",
    "city_list1=[]\n",
    "for i in list2:\n",
    "    if '#' in list2:\n",
    "        city_list1.append(i)\n",
    "city_list1       \n",
    "#output1[i for i in list2  if '#' in i]\n",
    "#output1"
   ]
  },
  {
   "cell_type": "code",
   "execution_count": 30,
   "id": "a9f5d8e3",
   "metadata": {},
   "outputs": [
    {
     "data": {
      "text/plain": [
       "[0, 1, 2, 3, 4, 5, 6, 7, 8, 9]"
      ]
     },
     "execution_count": 30,
     "metadata": {},
     "output_type": "execute_result"
    }
   ],
   "source": [
    "import random\n",
    "even,odd=[],[]\n",
    "#for i in range(10):\n",
    "num=random.randint(1,50)\n",
    " #   if num%2==0:\n",
    "  #      even.append(num)\n",
    "   # else:\n",
    "    #    odd.append(num)\n",
    "even,odd\n"
   ]
  },
  {
   "cell_type": "code",
   "execution_count": 37,
   "id": "f941fc64",
   "metadata": {},
   "outputs": [
    {
     "data": {
      "text/plain": [
       "[0, 'odd', 2, 'odd', 4, 'odd', 6, 'odd', 8, 'odd']"
      ]
     },
     "execution_count": 37,
     "metadata": {},
     "output_type": "execute_result"
    }
   ],
   "source": [
    "import random\n",
    "even,odd=[],[]\n",
    "num=random.randint(1,50)\n",
    "output3=[i if i%2==0 else 'odd' for i in range(10)] \n",
    "output3"
   ]
  },
  {
   "cell_type": "code",
   "execution_count": null,
   "id": "0d81ea5d",
   "metadata": {},
   "outputs": [],
   "source": []
  }
 ],
 "metadata": {
  "kernelspec": {
   "display_name": "Python 3 (ipykernel)",
   "language": "python",
   "name": "python3"
  },
  "language_info": {
   "codemirror_mode": {
    "name": "ipython",
    "version": 3
   },
   "file_extension": ".py",
   "mimetype": "text/x-python",
   "name": "python",
   "nbconvert_exporter": "python",
   "pygments_lexer": "ipython3",
   "version": "3.11.5"
  }
 },
 "nbformat": 4,
 "nbformat_minor": 5
}
