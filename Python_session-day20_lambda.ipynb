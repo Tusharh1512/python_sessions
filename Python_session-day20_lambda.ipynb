{
 "cells": [
  {
   "cell_type": "code",
   "execution_count": 1,
   "id": "c63add82",
   "metadata": {},
   "outputs": [
    {
     "data": {
      "text/plain": [
       "20"
      ]
     },
     "execution_count": 1,
     "metadata": {},
     "output_type": "execute_result"
    }
   ],
   "source": [
    "def add(x):\n",
    "    return(x+10)\n",
    "add(10)"
   ]
  },
  {
   "cell_type": "code",
   "execution_count": 2,
   "id": "8ee460f4",
   "metadata": {},
   "outputs": [
    {
     "ename": "SyntaxError",
     "evalue": "invalid syntax (1988535954.py, line 3)",
     "output_type": "error",
     "traceback": [
      "\u001b[1;36m  Cell \u001b[1;32mIn[2], line 3\u001b[1;36m\u001b[0m\n\u001b[1;33m    <function_name>=lambda<argument_name>:<return_value>\u001b[0m\n\u001b[1;37m    ^\u001b[0m\n\u001b[1;31mSyntaxError\u001b[0m\u001b[1;31m:\u001b[0m invalid syntax\n"
     ]
    }
   ],
   "source": [
    "#How many arguments are there?\n",
    "#what you are returning\n",
    "#<function_name>=lambda<argument_name>:<return_value>"
   ]
  },
  {
   "cell_type": "code",
   "execution_count": 5,
   "id": "8526e59c",
   "metadata": {},
   "outputs": [
    {
     "data": {
      "text/plain": [
       "20"
      ]
     },
     "execution_count": 5,
     "metadata": {},
     "output_type": "execute_result"
    }
   ],
   "source": [
    "add=lambda x:x+10 #function is ready\n",
    "add(10)"
   ]
  },
  {
   "cell_type": "code",
   "execution_count": null,
   "id": "b771b89d",
   "metadata": {},
   "outputs": [],
   "source": [
    "def mul(num):\n",
    "    return(num*num)"
   ]
  },
  {
   "cell_type": "code",
   "execution_count": 7,
   "id": "8904d443",
   "metadata": {},
   "outputs": [
    {
     "data": {
      "text/plain": [
       "25"
      ]
     },
     "execution_count": 7,
     "metadata": {},
     "output_type": "execute_result"
    }
   ],
   "source": [
    "mul= lambda num:num*num\n",
    "mul(5)"
   ]
  },
  {
   "cell_type": "code",
   "execution_count": null,
   "id": "e4401a28",
   "metadata": {},
   "outputs": [],
   "source": [
    "def cube(val):\n",
    "    return(val*val*val)"
   ]
  },
  {
   "cell_type": "code",
   "execution_count": 10,
   "id": "1c3e53f0",
   "metadata": {},
   "outputs": [
    {
     "data": {
      "text/plain": [
       "27"
      ]
     },
     "execution_count": 10,
     "metadata": {},
     "output_type": "execute_result"
    }
   ],
   "source": [
    "cube=lambda val:val*val*val\n",
    "cube(3)"
   ]
  },
  {
   "cell_type": "markdown",
   "id": "9612829d",
   "metadata": {},
   "source": [
    "***Lambda function with 2 argument***"
   ]
  },
  {
   "cell_type": "code",
   "execution_count": 11,
   "id": "c8ff7547",
   "metadata": {},
   "outputs": [
    {
     "data": {
      "text/plain": [
       "5"
      ]
     },
     "execution_count": 11,
     "metadata": {},
     "output_type": "execute_result"
    }
   ],
   "source": [
    "def sum1(a,b):\n",
    "    return(a+b)\n",
    "sum1(2,3)"
   ]
  },
  {
   "cell_type": "code",
   "execution_count": 12,
   "id": "6b1ebe4f",
   "metadata": {},
   "outputs": [
    {
     "data": {
      "text/plain": [
       "5"
      ]
     },
     "execution_count": 12,
     "metadata": {},
     "output_type": "execute_result"
    }
   ],
   "source": [
    "sum1= lambda a,b:a+b\n",
    "sum1(2,3)"
   ]
  },
  {
   "cell_type": "code",
   "execution_count": null,
   "id": "f326d765",
   "metadata": {},
   "outputs": [],
   "source": [
    "def avg(a,b,c):\n",
    "    return(a+b+c/3)"
   ]
  },
  {
   "cell_type": "code",
   "execution_count": 14,
   "id": "3e27c5b1",
   "metadata": {},
   "outputs": [
    {
     "data": {
      "text/plain": [
       "8.333333333333334"
      ]
     },
     "execution_count": 14,
     "metadata": {},
     "output_type": "execute_result"
    }
   ],
   "source": [
    "avg=lambda a,b,c:a+b+c/3\n",
    "avg(3,2,10)"
   ]
  },
  {
   "cell_type": "code",
   "execution_count": 19,
   "id": "5d373f59",
   "metadata": {},
   "outputs": [],
   "source": [
    "avg=lambda a,b,c=100:round((a+b+c)/3,2)"
   ]
  },
  {
   "cell_type": "code",
   "execution_count": 20,
   "id": "df673525",
   "metadata": {},
   "outputs": [
    {
     "data": {
      "text/plain": [
       "43.33"
      ]
     },
     "execution_count": 20,
     "metadata": {},
     "output_type": "execute_result"
    }
   ],
   "source": [
    "avg(10,20)"
   ]
  },
  {
   "cell_type": "markdown",
   "id": "db3353dd",
   "metadata": {},
   "source": [
    "**lambda function with if else**"
   ]
  },
  {
   "cell_type": "code",
   "execution_count": null,
   "id": "a1ccbf05",
   "metadata": {},
   "outputs": [],
   "source": [
    "def greater(num1,num2):\n",
    "    if num1>num2:\n",
    "        return(num1)\n",
    "    else:\n",
    "        return(num2)"
   ]
  },
  {
   "cell_type": "code",
   "execution_count": 30,
   "id": "082dc16c",
   "metadata": {},
   "outputs": [
    {
     "data": {
      "text/plain": [
       "'Greater is 3'"
      ]
     },
     "execution_count": 30,
     "metadata": {},
     "output_type": "execute_result"
    }
   ],
   "source": [
    "greater=lambda num1,num2:'Greater is {}'.format(num1) if num1>num2 else 'Greater is {}'.format(num2)\n",
    "greater(3,2)"
   ]
  },
  {
   "cell_type": "markdown",
   "id": "f20abe07",
   "metadata": {},
   "source": [
    "##### function_name= lambda argument_name:if_output if if_condition else else_output"
   ]
  },
  {
   "cell_type": "markdown",
   "id": "e5942008",
   "metadata": {},
   "source": [
    "**lambda functions with list**"
   ]
  },
  {
   "cell_type": "code",
   "execution_count": 33,
   "id": "8965eebb",
   "metadata": {},
   "outputs": [
    {
     "data": {
      "text/plain": [
       "['Hyd', 'Mumbai', 'Blr']"
      ]
     },
     "execution_count": 33,
     "metadata": {},
     "output_type": "execute_result"
    }
   ],
   "source": [
    "list1=['hyd','mumbai','blr']\n",
    "#output: [Hyd,Mumbai,Blr]\n",
    "output=[]\n",
    "for i in list1:\n",
    "    output.append(i.capitalize())\n",
    "output"
   ]
  },
  {
   "cell_type": "code",
   "execution_count": 36,
   "id": "ef0c6f28",
   "metadata": {},
   "outputs": [
    {
     "data": {
      "text/plain": [
       "['Hyd', 'Mumbai', 'Blr']"
      ]
     },
     "execution_count": 36,
     "metadata": {},
     "output_type": "execute_result"
    }
   ],
   "source": [
    "list1=['hyd','mumbai','blr']\n",
    "#output: [Hyd,Mumbai,Blr]\n",
    "output= [i.capitalize() for i in list1]\n",
    "output"
   ]
  },
  {
   "cell_type": "code",
   "execution_count": null,
   "id": "58ead28a",
   "metadata": {},
   "outputs": [],
   "source": [
    "#LAmbda"
   ]
  },
  {
   "cell_type": "code",
   "execution_count": 51,
   "id": "5a589f6e",
   "metadata": {},
   "outputs": [
    {
     "data": {
      "text/plain": [
       "['Hyd', 'Mumbai', 'Blr']"
      ]
     },
     "execution_count": 51,
     "metadata": {},
     "output_type": "execute_result"
    }
   ],
   "source": [
    "list1 = ['hyd', 'mumbai', 'blr']\n",
    "output = list(map(lambda x: x.capitalize(), list1))\n",
    "output"
   ]
  },
  {
   "cell_type": "markdown",
   "id": "a998ba5e",
   "metadata": {},
   "source": [
    "**Map_function**"
   ]
  },
  {
   "cell_type": "code",
   "execution_count": 56,
   "id": "88b6fafd",
   "metadata": {},
   "outputs": [
    {
     "data": {
      "text/plain": [
       "['Hyd', 'Mumbai', 'Blr']"
      ]
     },
     "execution_count": 56,
     "metadata": {},
     "output_type": "execute_result"
    }
   ],
   "source": [
    "list1 = ['hyd', 'mumbai', 'blr']\n",
    "list(map(lambda i: i.capitalize(),list1))\n",
    "#step-1:create a lambda function: lambda i: i.capitalize()\n",
    "#step-2:add your iterator\n",
    "#step1,step2: lambda i: i.capitalize(),list1\n",
    "#step3: mapping of both step-1 and step-2\n",
    "#step-4: you need to save the result again in list or tuple\n",
    "#  list(map(step1,step2))\n",
    "#  list(map(lambda i: i.capitalize(),list1))"
   ]
  },
  {
   "cell_type": "code",
   "execution_count": 62,
   "id": "55adc0c9",
   "metadata": {},
   "outputs": [
    {
     "data": {
      "text/plain": [
       "[1, 4, 9, 16]"
      ]
     },
     "execution_count": 62,
     "metadata": {},
     "output_type": "execute_result"
    }
   ],
   "source": [
    "list1=[1,2,3,4]\n",
    "output = list(map(lambda i:i*i, list1))\n",
    "output"
   ]
  },
  {
   "cell_type": "code",
   "execution_count": 85,
   "id": "af71f35f",
   "metadata": {},
   "outputs": [
    {
     "name": "stdout",
     "output_type": "stream",
     "text": [
      "Enter a number : 9\n"
     ]
    },
    {
     "data": {
      "text/plain": [
       "81"
      ]
     },
     "execution_count": 85,
     "metadata": {},
     "output_type": "execute_result"
    }
   ],
   "source": [
    "list1=int(input(\"Enter a number : \"))\n",
    "output =(lambda i:i*i)(list1)\n",
    "output"
   ]
  },
  {
   "cell_type": "code",
   "execution_count": 83,
   "id": "9fb4cfee",
   "metadata": {},
   "outputs": [
    {
     "data": {
      "text/plain": [
       "['Biryani', 'Bhuvaneshwar', 'rasagulla']"
      ]
     },
     "execution_count": 83,
     "metadata": {},
     "output_type": "execute_result"
    }
   ],
   "source": [
    "list1=['hyd','Biryani','Bhuvaneshwar','rasagulla']\n",
    "#output: ['Biryani','Bhuvaneshwar','rasagulla']\n",
    "list(filter(lambda i:(len(i)>3),list1))"
   ]
  },
  {
   "cell_type": "code",
   "execution_count": 87,
   "id": "697172d5",
   "metadata": {},
   "outputs": [
    {
     "data": {
      "text/plain": [
       "['Bir#ani', 'Bhuv#eshwar', 'ras#ulla']"
      ]
     },
     "execution_count": 87,
     "metadata": {},
     "output_type": "execute_result"
    }
   ],
   "source": [
    "list1=['hyd','Bir#ani','Bhuv#eshwar','ras#ulla']\n",
    "list(filter(lambda i:'#' in i,list1))"
   ]
  },
  {
   "cell_type": "code",
   "execution_count": null,
   "id": "bd1dfc9f",
   "metadata": {},
   "outputs": [],
   "source": [
    "list1=[1,2,3,4,5,6]\n",
    "#output: [{'even':[2,4,6],'odd':[1,3,5]}]\n",
    "#output: [{1:'odd',2:'even'}]"
   ]
  },
  {
   "cell_type": "code",
   "execution_count": 110,
   "id": "f13e1de7",
   "metadata": {},
   "outputs": [
    {
     "ename": "TypeError",
     "evalue": "map() must have at least two arguments.",
     "output_type": "error",
     "traceback": [
      "\u001b[1;31m---------------------------------------------------------------------------\u001b[0m",
      "\u001b[1;31mTypeError\u001b[0m                                 Traceback (most recent call last)",
      "Cell \u001b[1;32mIn[110], line 2\u001b[0m\n\u001b[0;32m      1\u001b[0m list1 \u001b[38;5;241m=\u001b[39m [\u001b[38;5;241m1\u001b[39m, \u001b[38;5;241m2\u001b[39m, \u001b[38;5;241m3\u001b[39m, \u001b[38;5;241m4\u001b[39m, \u001b[38;5;241m5\u001b[39m, \u001b[38;5;241m6\u001b[39m]\n\u001b[1;32m----> 2\u001b[0m \u001b[38;5;28mlist\u001b[39m(\u001b[38;5;28mmap\u001b[39m(\u001b[38;5;28;01mlambda\u001b[39;00m i:{i:\u001b[38;5;124m'\u001b[39m\u001b[38;5;124modd\u001b[39m\u001b[38;5;124m'\u001b[39m} \u001b[38;5;28;01mif\u001b[39;00m i\u001b[38;5;241m%\u001b[39m\u001b[38;5;241m2\u001b[39m\u001b[38;5;241m==\u001b[39m\u001b[38;5;241m0\u001b[39m \u001b[38;5;28;01melse\u001b[39;00m {i:\u001b[38;5;124m'\u001b[39m\u001b[38;5;124meven\u001b[39m\u001b[38;5;124m'\u001b[39m}))\n",
      "\u001b[1;31mTypeError\u001b[0m: map() must have at least two arguments."
     ]
    }
   ],
   "source": [
    "list1 = [1, 2, 3, 4, 5, 6]\n",
    "list(map(lambda i:{i:'odd'} if i%2==0 else {i:'even'}))"
   ]
  },
  {
   "cell_type": "code",
   "execution_count": 109,
   "id": "f0c08b31",
   "metadata": {},
   "outputs": [
    {
     "data": {
      "text/plain": [
       "[{1: 'odd'}, {2: 'even'}, {3: 'odd'}, {4: 'even'}, {5: 'odd'}, {6: 'even'}]"
      ]
     },
     "execution_count": 109,
     "metadata": {},
     "output_type": "execute_result"
    }
   ],
   "source": [
    "output"
   ]
  },
  {
   "cell_type": "code",
   "execution_count": null,
   "id": "12b57482",
   "metadata": {},
   "outputs": [],
   "source": []
  },
  {
   "cell_type": "code",
   "execution_count": null,
   "id": "31840acd",
   "metadata": {},
   "outputs": [],
   "source": []
  },
  {
   "cell_type": "code",
   "execution_count": null,
   "id": "9fdcffc2",
   "metadata": {},
   "outputs": [],
   "source": []
  },
  {
   "cell_type": "code",
   "execution_count": null,
   "id": "506d7b3f",
   "metadata": {},
   "outputs": [],
   "source": []
  },
  {
   "cell_type": "code",
   "execution_count": null,
   "id": "e5758325",
   "metadata": {},
   "outputs": [],
   "source": []
  }
 ],
 "metadata": {
  "kernelspec": {
   "display_name": "Python 3 (ipykernel)",
   "language": "python",
   "name": "python3"
  },
  "language_info": {
   "codemirror_mode": {
    "name": "ipython",
    "version": 3
   },
   "file_extension": ".py",
   "mimetype": "text/x-python",
   "name": "python",
   "nbconvert_exporter": "python",
   "pygments_lexer": "ipython3",
   "version": "3.11.5"
  }
 },
 "nbformat": 4,
 "nbformat_minor": 5
}
