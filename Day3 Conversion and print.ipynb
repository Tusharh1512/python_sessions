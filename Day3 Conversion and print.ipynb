{
 "cells": [
  {
   "cell_type": "markdown",
   "id": "310b7eb2",
   "metadata": {},
   "source": [
    "## write a program to add two numbers"
   ]
  },
  {
   "cell_type": "code",
   "execution_count": 1,
   "id": "958e1cb1",
   "metadata": {},
   "outputs": [
    {
     "name": "stdout",
     "output_type": "stream",
     "text": [
      "the addition of100 and 200 is 300\n"
     ]
    }
   ],
   "source": [
    "number1=100\n",
    "number2=200\n",
    "add=number1+number2\n",
    "print(\"the addition of{} and {} is {}\".format(number1,number2,add))"
   ]
  },
  {
   "cell_type": "markdown",
   "id": "dc0c03a2",
   "metadata": {},
   "source": [
    "## Write a program to ask the user enter two number and add them"
   ]
  },
  {
   "cell_type": "markdown",
   "id": "123013f8",
   "metadata": {},
   "source": [
    "$input$"
   ]
  },
  {
   "cell_type": "code",
   "execution_count": 7,
   "id": "c9cc73dc",
   "metadata": {},
   "outputs": [
    {
     "name": "stdout",
     "output_type": "stream",
     "text": [
      "enter a number1:12\n",
      "enter a number2:12\n",
      "1212\n"
     ]
    }
   ],
   "source": [
    "number1= input(\"enter a number1:\")\n",
    "number2= input(\"enter a number2:\")\n",
    "add=number1+number2 \n",
    "print(add)\n",
    "#It will give string format only"
   ]
  },
  {
   "cell_type": "code",
   "execution_count": 9,
   "id": "61e6c55d",
   "metadata": {},
   "outputs": [
    {
     "name": "stdout",
     "output_type": "stream",
     "text": [
      "enter a number1:2\n",
      "enter a number2:2\n",
      "4\n"
     ]
    }
   ],
   "source": [
    "number1= input(\"enter a number1:\")\n",
    "number2= input(\"enter a number2:\")\n",
    "add=int(number1)+int(number2) \n",
    "print(add)"
   ]
  },
  {
   "cell_type": "code",
   "execution_count": null,
   "id": "9d7479a1",
   "metadata": {},
   "outputs": [],
   "source": [
    "#-------------------------case1-------------------------------------------\n",
    "number1=100\n",
    "number2=200\n",
    "add=number1+number2\n",
    "print(\"the addition of{} and {} is {}\".format(number1,number2,add))\n",
    "\n",
    "#---------------------------case2------------------------------------------\n",
    "\n",
    "\n",
    "number1= input(\"enter a number1:\")\n",
    "number2= input(\"enter a number2:\")\n",
    "add=number1+number2 \n",
    "print(add)\n",
    "#It will give string format only\n",
    "\n",
    "#----------------------------case3(type casting)-------------------------------------------\n",
    "number1= input(\"enter a number1:\")\n",
    "number2= input(\"enter a number2:\")\n",
    "add=int(number1)+int(number2) \n",
    "print(add)\n",
    "#----------------------------------case4----------------------------------------\n",
    "\n",
    "number1= int(input(\"enter a number1:\"))\n",
    "number2= int(input(\"enter a number2:\"))\n",
    "add=number1+number2 \n",
    "print(add)"
   ]
  },
  {
   "cell_type": "code",
   "execution_count": 10,
   "id": "8c22021e",
   "metadata": {},
   "outputs": [
    {
     "name": "stdout",
     "output_type": "stream",
     "text": [
      "enter a number1:2\n",
      "enter a number2:2\n",
      "4\n"
     ]
    }
   ],
   "source": [
    "number1= int(input(\"enter a number1:\"))\n",
    "number2= int(input(\"enter a number2:\"))\n",
    "add=number1+number2 \n",
    "print(add)"
   ]
  },
  {
   "cell_type": "code",
   "execution_count": 4,
   "id": "6bf87e39",
   "metadata": {},
   "outputs": [
    {
     "name": "stdout",
     "output_type": "stream",
     "text": [
      "enter n1:4\n",
      "enter n2:4\n"
     ]
    },
    {
     "data": {
      "text/plain": [
       "8.0"
      ]
     },
     "execution_count": 4,
     "metadata": {},
     "output_type": "execute_result"
    }
   ],
   "source": [
    "n1=float(input(\"enter n1:\"))\n",
    "n2=float(input(\"enter n2:\"))\n",
    "n1+n2\n",
    "\n"
   ]
  },
  {
   "cell_type": "markdown",
   "id": "50c505a6",
   "metadata": {},
   "source": [
    "----------------------$eval$-----------------------------------\n",
    "- if i provide by mistake int('100.5)======error\n",
    "- to avoid this we go for eval concept"
   ]
  },
  {
   "cell_type": "code",
   "execution_count": 11,
   "id": "840da04d",
   "metadata": {},
   "outputs": [
    {
     "name": "stdout",
     "output_type": "stream",
     "text": [
      "enter n3:4\n",
      "enter n4:4\n",
      "the addition of 4 and 4 is 8\n"
     ]
    }
   ],
   "source": [
    "n3=eval(input(\"enter n3:\"))\n",
    "n4=eval(input(\"enter n4:\"))\n",
    "n3+n4\n",
    "print(\"the addition of {} and {} is {}\".format(n3,n4,n3+n4))"
   ]
  },
  {
   "cell_type": "markdown",
   "id": "79770336",
   "metadata": {},
   "source": [
    "- Write a program ask user enter 2 no. \n",
    "- o/p------- \n",
    "- the addition of n1 and n2 is 300 and substraction\n",
    "- user-- n1=100,n2=200"
   ]
  },
  {
   "cell_type": "code",
   "execution_count": 20,
   "id": "71a1ff1e",
   "metadata": {},
   "outputs": [
    {
     "name": "stdout",
     "output_type": "stream",
     "text": [
      "n1 =15\n",
      "n2= 5\n"
     ]
    },
    {
     "ename": "KeyError",
     "evalue": "' '",
     "output_type": "error",
     "traceback": [
      "\u001b[1;31m---------------------------------------------------------------------------\u001b[0m",
      "\u001b[1;31mKeyError\u001b[0m                                  Traceback (most recent call last)",
      "Cell \u001b[1;32mIn[20], line 5\u001b[0m\n\u001b[0;32m      3\u001b[0m n\u001b[38;5;241m=\u001b[39mn1\u001b[38;5;241m+\u001b[39mn2\n\u001b[0;32m      4\u001b[0m n3\u001b[38;5;241m=\u001b[39mn1\u001b[38;5;241m-\u001b[39mn2\n\u001b[1;32m----> 5\u001b[0m \u001b[38;5;28mprint\u001b[39m(\u001b[38;5;124m\"\u001b[39m\u001b[38;5;124mthe addition of \u001b[39m\u001b[38;5;124m{\u001b[39m\u001b[38;5;124m } and \u001b[39m\u001b[38;5;124m{\u001b[39m\u001b[38;5;124m } is \u001b[39m\u001b[38;5;124m{\u001b[39m\u001b[38;5;124m }\u001b[39m\u001b[38;5;124m\"\u001b[39m\u001b[38;5;241m.\u001b[39mformat(n1,n2,n))\n\u001b[0;32m      6\u001b[0m \u001b[38;5;28mprint\u001b[39m(\u001b[38;5;124m\"\u001b[39m\u001b[38;5;124mthe substraction of \u001b[39m\u001b[38;5;124m{\u001b[39m\u001b[38;5;124m } and \u001b[39m\u001b[38;5;124m{\u001b[39m\u001b[38;5;124m } is \u001b[39m\u001b[38;5;124m{\u001b[39m\u001b[38;5;124m }\u001b[39m\u001b[38;5;124m\"\u001b[39m\u001b[38;5;241m.\u001b[39mformat(n1,n2,n3))\n",
      "\u001b[1;31mKeyError\u001b[0m: ' '"
     ]
    }
   ],
   "source": [
    "n1=eval(input('n1 ='))\n",
    "n2=eval(input('n2= '))\n",
    "n=n1+n2\n",
    "n3=n1-n2\n",
    "print(\"the addition of { } and { } is { }\".format(n1,n2,n))\n",
    "print(\"the substraction of { } and { } is { }\".format(n1,n2,n3))"
   ]
  },
  {
   "cell_type": "code",
   "execution_count": 28,
   "id": "f0dbbd73",
   "metadata": {},
   "outputs": [
    {
     "name": "stdout",
     "output_type": "stream",
     "text": [
      "n1 =15\n",
      "n2= 5\n",
      "the addition of 15 and 5 is 20\n",
      "the substraction of 15 and 5 is 10\n"
     ]
    }
   ],
   "source": [
    "a1=eval(input('n1 ='))\n",
    "a2=eval(input('n2= '))\n",
    "a=a1+a2\n",
    "a3=a1-a2\n",
    "print(\"the addition of {} and {} is {}\".format(a1,a2,a))\n",
    "print(\"the substraction of {} and {} is {}\".format(a1,a2,a3))\n"
   ]
  },
  {
   "cell_type": "markdown",
   "id": "00283fb7",
   "metadata": {},
   "source": [
    "- ENTER 3 NO. AND FIND THE AVERAGE"
   ]
  },
  {
   "cell_type": "code",
   "execution_count": 38,
   "id": "3120a838",
   "metadata": {},
   "outputs": [
    {
     "name": "stdout",
     "output_type": "stream",
     "text": [
      "enter number1 :2\n",
      "enter number2 :3\n",
      "enter number3 :5\n",
      "The average of 2,3 and 5 are 5.0\n"
     ]
    }
   ],
   "source": [
    "NUM1=eval(input(\"enter number1 :\"))\n",
    "NUM2=eval(input(\"enter number2 :\"))\n",
    "NUM3=eval(input(\"enter number3 :\"))\n",
    "avg=(NUM1+NUM2+NUM3)/2\n",
    "final=round(avg,3)\n",
    "\n",
    "print(\"The average of {},{} and {} are {}\".format(NUM1,NUM2,NUM3,final))\n"
   ]
  },
  {
   "cell_type": "code",
   "execution_count": null,
   "id": "38d928a2",
   "metadata": {},
   "outputs": [],
   "source": []
  },
  {
   "cell_type": "markdown",
   "id": "2f0abac4",
   "metadata": {},
   "source": [
    "12/2 #division\n",
    "12%2 # modulous\n",
    "12//2 #floor division"
   ]
  },
  {
   "cell_type": "code",
   "execution_count": 39,
   "id": "e3056aab",
   "metadata": {},
   "outputs": [
    {
     "data": {
      "text/plain": [
       "2.4"
      ]
     },
     "execution_count": 39,
     "metadata": {},
     "output_type": "execute_result"
    }
   ],
   "source": [
    "12/5\n",
    "#division provide normal division value"
   ]
  },
  {
   "cell_type": "code",
   "execution_count": 40,
   "id": "574f2b16",
   "metadata": {},
   "outputs": [
    {
     "data": {
      "text/plain": [
       "0"
      ]
     },
     "execution_count": 40,
     "metadata": {},
     "output_type": "execute_result"
    }
   ],
   "source": [
    "12%3\n",
    "#modulus provide remainder"
   ]
  },
  {
   "cell_type": "code",
   "execution_count": 41,
   "id": "4261b337",
   "metadata": {},
   "outputs": [
    {
     "data": {
      "text/plain": [
       "4"
      ]
     },
     "execution_count": 41,
     "metadata": {},
     "output_type": "execute_result"
    }
   ],
   "source": [
    "12//3\n",
    "#floor division provide quotient"
   ]
  },
  {
   "cell_type": "markdown",
   "id": "b1f02b9d",
   "metadata": {},
   "source": [
    "## write a program ask user to enter the bill amount and tip amount and final amount"
   ]
  },
  {
   "cell_type": "code",
   "execution_count": 44,
   "id": "28d75d2c",
   "metadata": {},
   "outputs": [
    {
     "name": "stdout",
     "output_type": "stream",
     "text": [
      "Enter bill amount :55\n",
      "Enter tip amount :5\n"
     ]
    }
   ],
   "source": [
    "amt1=eval(input(\"Enter bill amount :\"))\n",
    "amt2=eval(input(\"Enter tip amount :\"))\n",
    "amt3= amt1+amt2\n",
    "amt=(\"bill amount is {}, tip amount is {} and final amount{}\".format(amt1,amt2,amt3))"
   ]
  },
  {
   "cell_type": "markdown",
   "id": "9956da31",
   "metadata": {},
   "source": [
    "# enter bill amount and tip percentage on the bill calculate total amount"
   ]
  },
  {
   "cell_type": "code",
   "execution_count": 48,
   "id": "10088ca8",
   "metadata": {},
   "outputs": [
    {
     "name": "stdout",
     "output_type": "stream",
     "text": [
      "enter bill amount :1000\n",
      "enter tip percentage :20\n",
      "Total bill 1200.0\n"
     ]
    }
   ],
   "source": [
    "bill_amt=eval(input(\"enter bill amount :\"))\n",
    "tip_perc=eval(input(\"enter tip percentage :\"))\n",
    "tip_perc=(bill_amt*tip_perc)/100\n",
    "total=bill_amt+tip_perc\n",
    "print(\"Total bill {}\".format(total))"
   ]
  },
  {
   "cell_type": "markdown",
   "id": "9c79d99c",
   "metadata": {},
   "source": [
    "# write a program ask a user enter dollar you want to pay \n",
    "- print dollar are not accepted here\n",
    "- that what will accepted \n",
    "- only indian rupees is accepted\n",
    "- one dollar equal to :80\n",
    "- then total amount to pay :"
   ]
  },
  {
   "cell_type": "code",
   "execution_count": 50,
   "id": "9371a236",
   "metadata": {},
   "outputs": [
    {
     "name": "stdout",
     "output_type": "stream",
     "text": [
      "enter the amount : 100\n",
      "Dollar is not accepted here\n",
      "what will accepted here\n",
      "Only indian rupees is accepted here\n",
      "one dollar is equal to 80 rupees\n",
      "Your total bill is 8000 in Indian rupees\n"
     ]
    }
   ],
   "source": [
    "amount=eval(input(\"enter the amount : \"))\n",
    "print(\"Dollar is not accepted here\")\n",
    "print(\"what will accepted here\")\n",
    "print(\"Only indian rupees is accepted here\")\n",
    "print(\"one dollar is equal to 80 rupees\")\n",
    "total_amtt=amount*80\n",
    "print(\"Your total bill is {} in Indian rupees\".format(total_amtt))"
   ]
  },
  {
   "cell_type": "code",
   "execution_count": null,
   "id": "1d24c6b9",
   "metadata": {},
   "outputs": [],
   "source": []
  },
  {
   "cell_type": "code",
   "execution_count": null,
   "id": "a3b487d2",
   "metadata": {},
   "outputs": [],
   "source": []
  },
  {
   "cell_type": "code",
   "execution_count": null,
   "id": "87f53080",
   "metadata": {},
   "outputs": [],
   "source": []
  }
 ],
 "metadata": {
  "kernelspec": {
   "display_name": "Python 3 (ipykernel)",
   "language": "python",
   "name": "python3"
  },
  "language_info": {
   "codemirror_mode": {
    "name": "ipython",
    "version": 3
   },
   "file_extension": ".py",
   "mimetype": "text/x-python",
   "name": "python",
   "nbconvert_exporter": "python",
   "pygments_lexer": "ipython3",
   "version": "3.11.5"
  }
 },
 "nbformat": 4,
 "nbformat_minor": 5
}
