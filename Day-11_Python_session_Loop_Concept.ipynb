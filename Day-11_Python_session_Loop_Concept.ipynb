{
 "cells": [
  {
   "cell_type": "code",
   "execution_count": 2,
   "id": "5e3add4f",
   "metadata": {},
   "outputs": [
    {
     "name": "stdout",
     "output_type": "stream",
     "text": [
      "i\n",
      "i\n",
      "i\n",
      "i\n",
      "i\n"
     ]
    }
   ],
   "source": [
    "#my loop should run 5 times\n",
    "for i in range(5):     #We have to provide here how many times i want to run the loop\n",
    "    print(\"i\")"
   ]
  },
  {
   "cell_type": "code",
   "execution_count": null,
   "id": "2d4aa3c9",
   "metadata": {},
   "outputs": [],
   "source": [
    "#WAP ask the user to get 5 random numbers ==== Square"
   ]
  },
  {
   "cell_type": "code",
   "execution_count": 6,
   "id": "3a30bc8b",
   "metadata": {},
   "outputs": [
    {
     "name": "stdout",
     "output_type": "stream",
     "text": [
      "The square of 85 is 7225\n",
      "The square of 34 is 1156\n",
      "The square of 43 is 1849\n",
      "The square of 52 is 2704\n",
      "The square of 68 is 4624\n"
     ]
    }
   ],
   "source": [
    "import random\n",
    "for i in range(5):\n",
    "    num=random.randint(1,100)\n",
    "    print(\"The square of {} is {}\".format(num,num*num))"
   ]
  },
  {
   "cell_type": "code",
   "execution_count": null,
   "id": "008af3ba",
   "metadata": {},
   "outputs": [],
   "source": [
    "#WAP ask the user print even or odd no. \n",
    "# range---10-40"
   ]
  },
  {
   "cell_type": "code",
   "execution_count": 19,
   "id": "95561c28",
   "metadata": {},
   "outputs": [
    {
     "name": "stdout",
     "output_type": "stream",
     "text": [
      "0 is an even number\n",
      "1 is an odd number\n",
      "2 is an even number\n",
      "3 is an odd number\n",
      "4 is an even number\n"
     ]
    }
   ],
   "source": [
    "\n",
    "    \n",
    "for a in range(5):\n",
    "    \n",
    "    if a%2==0:\n",
    "        print(\"{} is an even number\".format(a))\n",
    "    else:\n",
    "        print(\"{} is an odd number\".format(a))"
   ]
  },
  {
   "cell_type": "code",
   "execution_count": 37,
   "id": "695060c0",
   "metadata": {},
   "outputs": [
    {
     "name": "stdout",
     "output_type": "stream",
     "text": [
      "10 is an even number\n",
      "11 is an odd number\n",
      "12 is an even number\n",
      "13 is an odd number\n",
      "14 is an even number\n",
      "15 is an odd number\n",
      "16 is an even number\n",
      "17 is an odd number\n",
      "18 is an even number\n",
      "19 is an odd number\n",
      "20 is an even number\n",
      "21 is an odd number\n",
      "22 is an even number\n",
      "23 is an odd number\n",
      "24 is an even number\n",
      "25 is an odd number\n",
      "26 is an even number\n",
      "27 is an odd number\n",
      "28 is an even number\n",
      "29 is an odd number\n",
      "30 is an even number\n",
      "31 is an odd number\n",
      "32 is an even number\n",
      "33 is an odd number\n",
      "34 is an even number\n",
      "35 is an odd number\n",
      "36 is an even number\n",
      "37 is an odd number\n",
      "38 is an even number\n",
      "39 is an odd number\n",
      "40 is an even number\n"
     ]
    }
   ],
   "source": [
    "try:\n",
    "    def even_odd(b,c):\n",
    "        for a in range(b,c):    \n",
    "            if a%2==0:\n",
    "                print(\"{} is an even number\".format(a))\n",
    "            else:\n",
    "                print(\"{} is an odd number\".format(a))\n",
    "except Exception as e:\n",
    "    print(e)\n",
    "even_odd(10,41)    "
   ]
  },
  {
   "cell_type": "code",
   "execution_count": 40,
   "id": "c6e638c9",
   "metadata": {},
   "outputs": [
    {
     "name": "stdout",
     "output_type": "stream",
     "text": [
      "Enter start value : 1\n",
      "Enter stop value : 21\n",
      "1 is an odd number\n",
      "2 is an even number\n",
      "3 is an odd number\n",
      "4 is an even number\n",
      "5 is an odd number\n",
      "6 is an even number\n",
      "7 is an odd number\n",
      "8 is an even number\n",
      "9 is an odd number\n",
      "10 is an even number\n",
      "11 is an odd number\n",
      "12 is an even number\n",
      "13 is an odd number\n",
      "14 is an even number\n",
      "15 is an odd number\n",
      "16 is an even number\n",
      "17 is an odd number\n",
      "18 is an even number\n",
      "19 is an odd number\n",
      "20 is an even number\n"
     ]
    }
   ],
   "source": [
    "#GLobal variable method\n",
    "#I want to take start and stop from keyboard\n",
    "\n",
    "start=eval(input(\"Enter start value : \"))\n",
    "stop=eval(input(\"Enter stop value : \"))\n",
    "try:\n",
    "    def even_odd():\n",
    "        for a in range(start,stop):    \n",
    "            if a%2==0:\n",
    "                print(\"{} is an even number\".format(a))\n",
    "            else:\n",
    "                print(\"{} is an odd number\".format(a))\n",
    "except Exception as e:\n",
    "    print(e)\n",
    "even_odd() "
   ]
  },
  {
   "cell_type": "code",
   "execution_count": 41,
   "id": "a9664c72",
   "metadata": {},
   "outputs": [
    {
     "name": "stdout",
     "output_type": "stream",
     "text": [
      "Enter start value : 1\n",
      "Enter stop value : 21\n",
      "1 is an odd number\n",
      "2 is an even number\n",
      "3 is an odd number\n",
      "4 is an even number\n",
      "5 is an odd number\n",
      "6 is an even number\n",
      "7 is an odd number\n",
      "8 is an even number\n",
      "9 is an odd number\n",
      "10 is an even number\n",
      "11 is an odd number\n",
      "12 is an even number\n",
      "13 is an odd number\n",
      "14 is an even number\n",
      "15 is an odd number\n",
      "16 is an even number\n",
      "17 is an odd number\n",
      "18 is an even number\n",
      "19 is an odd number\n",
      "20 is an even number\n"
     ]
    }
   ],
   "source": [
    "#Local variable\n",
    "try:\n",
    "    def even_odd():\n",
    "        start=eval(input(\"Enter start value : \"))\n",
    "        stop=eval(input(\"Enter stop value : \"))\n",
    "        for a in range(start,stop):    \n",
    "            if a%2==0:\n",
    "                print(\"{} is an even number\".format(a))\n",
    "            else:\n",
    "                print(\"{} is an odd number\".format(a))\n",
    "except Exception as e:\n",
    "    print(e)\n",
    "even_odd() "
   ]
  },
  {
   "cell_type": "code",
   "execution_count": 56,
   "id": "c9152a75",
   "metadata": {},
   "outputs": [
    {
     "name": "stdout",
     "output_type": "stream",
     "text": [
      "Enter start value : 1\n",
      "Enter stop value : 11\n",
      "1 is an odd number\n",
      "2 is an even number\n",
      "3 is an odd number\n",
      "4 is an even number\n",
      "5 is an odd number\n",
      "6 is an even number\n",
      "7 is an odd number\n",
      "8 is an even number\n",
      "9 is an odd number\n",
      "10 is an even number\n"
     ]
    }
   ],
   "source": [
    "try:\n",
    "    def get_values():        \n",
    "        start=eval(input(\"Enter start value : \"))\n",
    "        stop=eval(input(\"Enter stop value : \"))\n",
    "        return(start,stop)\n",
    "\n",
    "    def even_odd():\n",
    "        start,stop=get_values()\n",
    "        for a in range(start,stop):    \n",
    "            if a%2==0:\n",
    "                print(\"{} is an even number\".format(a))\n",
    "            else:\n",
    "                print(\"{} is an odd number\".format(a))\n",
    "except Exception as e:\n",
    "    print(e)\n",
    "even_odd()"
   ]
  },
  {
   "cell_type": "code",
   "execution_count": 60,
   "id": "428e401a",
   "metadata": {},
   "outputs": [
    {
     "name": "stdout",
     "output_type": "stream",
     "text": [
      "Hi\n",
      "hello\n",
      "good\n",
      "morning\n",
      "good\n",
      "morning\n",
      "good\n",
      "morning\n"
     ]
    }
   ],
   "source": [
    "print(\"Hi\")\n",
    "print(\"hello\")\n",
    "for i in range(3):\n",
    "    print(\"good\")\n",
    "    print(\"morning\")\n",
    " "
   ]
  },
  {
   "cell_type": "code",
   "execution_count": null,
   "id": "ce4c5bd4",
   "metadata": {},
   "outputs": [],
   "source": [
    "#WAp ask the user get a 10 random numbers between 1-100 and print it is an even or odd"
   ]
  },
  {
   "cell_type": "code",
   "execution_count": 72,
   "id": "d59b384d",
   "metadata": {},
   "outputs": [
    {
     "name": "stdout",
     "output_type": "stream",
     "text": [
      "28 is an even number\n",
      "92 is an even number\n",
      "26 is an even number\n",
      "85 is an odd number\n",
      "44 is an even number\n",
      "65 is an odd number\n",
      "98 is an even number\n",
      "96 is an even number\n",
      "6 is an even number\n",
      "57 is an odd number\n"
     ]
    }
   ],
   "source": [
    "import random\n",
    "try:\n",
    "    def even_odd():\n",
    "        for num in range(10): \n",
    "            num=random.randint(1,100) \n",
    "            if num%2==0:\n",
    "                print(\"{} is an even number\".format(num))\n",
    "            else:\n",
    "                print(\"{} is an odd number\".format(num))\n",
    "except Exception as e:\n",
    "    print(e)\n",
    "even_odd()  "
   ]
  },
  {
   "cell_type": "code",
   "execution_count": null,
   "id": "1d539a62",
   "metadata": {},
   "outputs": [],
   "source": [
    "#Guessing game"
   ]
  },
  {
   "cell_type": "code",
   "execution_count": 108,
   "id": "d99cdbaf",
   "metadata": {},
   "outputs": [
    {
     "name": "stdout",
     "output_type": "stream",
     "text": [
      "Enter a number : 4\n",
      "You lost\n",
      "2 attempt is left\n",
      "Enter a number : 5\n",
      "You lost\n",
      "1 attempt is left\n",
      "Enter a number : 6\n",
      "You lost\n",
      "0 attempt is left\n",
      "You have lost, Better luck next time\n",
      " random number is  1\n"
     ]
    }
   ],
   "source": [
    "import random\n",
    "try:\n",
    "    num1=random.randint(1,20)\n",
    "    \n",
    "    for i in range(3):\n",
    "        total_chances=3\n",
    "        num2=eval(input(\"Enter a number : \"))\n",
    "        if num1==num2:\n",
    "            chances=total_chances-1\n",
    "            print(\"You won\")\n",
    "            break\n",
    "        else:\n",
    "            print(\"You lost\")\n",
    "            print(\"{} attempt is left\".format(total_chances-1-i))\n",
    "        if i==total_chances-1:\n",
    "             print(\"You have lost, Better luck next time\\n random number is \",num1)                               \n",
    "except Exception as e:\n",
    "    print(e)"
   ]
  },
  {
   "cell_type": "code",
   "execution_count": null,
   "id": "3ac4c876",
   "metadata": {},
   "outputs": [],
   "source": []
  },
  {
   "cell_type": "code",
   "execution_count": null,
   "id": "6876b0a0",
   "metadata": {},
   "outputs": [],
   "source": []
  },
  {
   "cell_type": "code",
   "execution_count": null,
   "id": "eaec60fc",
   "metadata": {},
   "outputs": [],
   "source": []
  },
  {
   "cell_type": "code",
   "execution_count": null,
   "id": "6a1e7c87",
   "metadata": {},
   "outputs": [],
   "source": []
  },
  {
   "cell_type": "code",
   "execution_count": null,
   "id": "5da23929",
   "metadata": {},
   "outputs": [],
   "source": []
  },
  {
   "cell_type": "code",
   "execution_count": null,
   "id": "9fbce0b9",
   "metadata": {},
   "outputs": [],
   "source": []
  },
  {
   "cell_type": "code",
   "execution_count": null,
   "id": "fa36654a",
   "metadata": {},
   "outputs": [],
   "source": []
  },
  {
   "cell_type": "code",
   "execution_count": null,
   "id": "f3078422",
   "metadata": {},
   "outputs": [],
   "source": []
  }
 ],
 "metadata": {
  "kernelspec": {
   "display_name": "Python 3 (ipykernel)",
   "language": "python",
   "name": "python3"
  },
  "language_info": {
   "codemirror_mode": {
    "name": "ipython",
    "version": 3
   },
   "file_extension": ".py",
   "mimetype": "text/x-python",
   "name": "python",
   "nbconvert_exporter": "python",
   "pygments_lexer": "ipython3",
   "version": "3.11.5"
  }
 },
 "nbformat": 4,
 "nbformat_minor": 5
}
