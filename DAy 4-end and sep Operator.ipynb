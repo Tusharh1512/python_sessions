{
 "cells": [
  {
   "cell_type": "code",
   "execution_count": 1,
   "id": "51ff04f2",
   "metadata": {},
   "outputs": [
    {
     "name": "stdout",
     "output_type": "stream",
     "text": [
      "Hi---hello\n"
     ]
    }
   ],
   "source": [
    "#if we want to combine two print statements into one statement\n",
    "print(\"Hi\",end='---')\n",
    "print(\"hello\")"
   ]
  },
  {
   "cell_type": "markdown",
   "id": "d1fe830a",
   "metadata": {},
   "source": [
    "# $Sep$\n",
    "# SEPARATOR "
   ]
  },
  {
   "cell_type": "code",
   "execution_count": 2,
   "id": "4a9c2ad4",
   "metadata": {},
   "outputs": [
    {
     "name": "stdout",
     "output_type": "stream",
     "text": [
      "hi hello\n"
     ]
    }
   ],
   "source": [
    "print('hi','hello')\n",
    "#you want to separate hi and hello with \n",
    "#and\n",
    "\n",
    "#o/p- Hi and hello\n"
   ]
  },
  {
   "cell_type": "code",
   "execution_count": 4,
   "id": "e93e7fec",
   "metadata": {},
   "outputs": [
    {
     "name": "stdout",
     "output_type": "stream",
     "text": [
      "hi and hello\n"
     ]
    }
   ],
   "source": [
    "print('hi','hello',sep=' and ')"
   ]
  },
  {
   "cell_type": "markdown",
   "id": "f8bc1cd3",
   "metadata": {},
   "source": [
    "# write a program ask user enter a distance in km and ask the user enter a fare in rs calculate total amount to pay\n",
    "# o/p for 2kms the fare is 20rs."
   ]
  },
  {
   "cell_type": "code",
   "execution_count": 9,
   "id": "0c6e3c90",
   "metadata": {},
   "outputs": [
    {
     "name": "stdout",
     "output_type": "stream",
     "text": [
      "Enter distance in km : 2\n",
      "Enter fare : 10\n",
      "For 2kms the fare is 20rs.\n"
     ]
    }
   ],
   "source": [
    "distance=eval(input(\"Enter distance in km : \"))\n",
    "fare=eval(input(\"Enter fare : \"))\n",
    "final=distance*fare\n",
    "print(\"For {}kms the fare is {}rs.\".format(distance,final))"
   ]
  },
  {
   "cell_type": "code",
   "execution_count": 16,
   "id": "c37d5211",
   "metadata": {},
   "outputs": [
    {
     "name": "stdout",
     "output_type": "stream",
     "text": [
      "Enter distance in km : 2\n",
      "Enter fare : 10\n",
      "For 2kms the fare is 20rs.\n"
     ]
    }
   ],
   "source": [
    "# implement above code using separator operator\n",
    "distance=eval(input(\"Enter distance in km : \"))\n",
    "fare=eval(input(\"Enter fare : \"))\n",
    "final=distance*fare\n",
    "print(\"For {}kms the fare is {}rs\".format(distance,final),'.',sep=\"\")"
   ]
  },
  {
   "cell_type": "code",
   "execution_count": null,
   "id": "501cd3d5",
   "metadata": {},
   "outputs": [],
   "source": []
  }
 ],
 "metadata": {
  "kernelspec": {
   "display_name": "Python 3 (ipykernel)",
   "language": "python",
   "name": "python3"
  },
  "language_info": {
   "codemirror_mode": {
    "name": "ipython",
    "version": 3
   },
   "file_extension": ".py",
   "mimetype": "text/x-python",
   "name": "python",
   "nbconvert_exporter": "python",
   "pygments_lexer": "ipython3",
   "version": "3.11.5"
  }
 },
 "nbformat": 4,
 "nbformat_minor": 5
}
