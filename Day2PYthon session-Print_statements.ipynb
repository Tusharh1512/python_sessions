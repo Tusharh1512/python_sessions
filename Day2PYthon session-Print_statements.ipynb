{
 "cells": [
  {
   "cell_type": "markdown",
   "id": "e191cce3",
   "metadata": {},
   "source": [
    "$print$"
   ]
  },
  {
   "cell_type": "code",
   "execution_count": 1,
   "id": "5e3d48a1",
   "metadata": {},
   "outputs": [
    {
     "data": {
      "text/plain": [
       "20"
      ]
     },
     "execution_count": 1,
     "metadata": {},
     "output_type": "execute_result"
    }
   ],
   "source": [
    "a=20\n",
    "a"
   ]
  },
  {
   "cell_type": "code",
   "execution_count": 2,
   "id": "f75ffe1b",
   "metadata": {},
   "outputs": [
    {
     "name": "stdout",
     "output_type": "stream",
     "text": [
      "20\n"
     ]
    }
   ],
   "source": [
    "print(a)"
   ]
  },
  {
   "cell_type": "code",
   "execution_count": 3,
   "id": "c7484c23",
   "metadata": {},
   "outputs": [
    {
     "data": {
      "text/plain": [
       "30"
      ]
     },
     "execution_count": 3,
     "metadata": {},
     "output_type": "execute_result"
    }
   ],
   "source": [
    "a=20\n",
    "b=30\n",
    "a\n",
    "b"
   ]
  },
  {
   "cell_type": "code",
   "execution_count": 4,
   "id": "fcd364d6",
   "metadata": {},
   "outputs": [
    {
     "name": "stdout",
     "output_type": "stream",
     "text": [
      "50\n",
      "100\n"
     ]
    }
   ],
   "source": [
    "a=50\n",
    "b=100\n",
    "print(a)\n",
    "print(b)"
   ]
  },
  {
   "cell_type": "code",
   "execution_count": 5,
   "id": "100bd781",
   "metadata": {},
   "outputs": [
    {
     "name": "stdout",
     "output_type": "stream",
     "text": [
      "HI how are you\n"
     ]
    }
   ],
   "source": [
    "#i want to print hi how are you\n",
    "print('HI how are you')"
   ]
  },
  {
   "cell_type": "code",
   "execution_count": 23,
   "id": "7c34f5b9",
   "metadata": {},
   "outputs": [
    {
     "name": "stdout",
     "output_type": "stream",
     "text": [
      "python\n"
     ]
    }
   ],
   "source": [
    "name1=\"python\"\n",
    "#what is name here\n",
    "#name is a variable\n",
    "print(name1)"
   ]
  },
  {
   "cell_type": "code",
   "execution_count": 24,
   "id": "3f063c6f",
   "metadata": {},
   "outputs": [
    {
     "name": "stdout",
     "output_type": "stream",
     "text": [
      "my name is python\n"
     ]
    }
   ],
   "source": [
    "print(\"my name is\",name1)"
   ]
  },
  {
   "cell_type": "code",
   "execution_count": 15,
   "id": "6684c63d",
   "metadata": {},
   "outputs": [
    {
     "name": "stdout",
     "output_type": "stream",
     "text": [
      "the value of num1 is 30\n"
     ]
    }
   ],
   "source": [
    "num1=30\n",
    "#the value of num1 is 30\n",
    "print(\"the value of num1 is\",num1)"
   ]
  },
  {
   "cell_type": "code",
   "execution_count": 19,
   "id": "18f9f3f4",
   "metadata": {},
   "outputs": [
    {
     "name": "stdout",
     "output_type": "stream",
     "text": [
      "the value of num1 : 30\n"
     ]
    }
   ],
   "source": [
    "# the value of num1 is :30\n",
    "print(\"the value of num1 :\",num1)"
   ]
  },
  {
   "cell_type": "markdown",
   "id": "531d4384",
   "metadata": {},
   "source": [
    "# print(\"hi\")\n",
    "# print(\"how are you\")\n",
    "# combine both statement\n",
    "# CASE2: i want to combine multiple print statement\n",
    "# end operator will you"
   ]
  },
  {
   "cell_type": "code",
   "execution_count": 26,
   "id": "a9f39851",
   "metadata": {},
   "outputs": [
    {
     "name": "stdout",
     "output_type": "stream",
     "text": [
      "hi...!! how are you\n"
     ]
    }
   ],
   "source": [
    "print(\"hi\",end='...!! ')\n",
    "print(\"how are you\")"
   ]
  },
  {
   "cell_type": "code",
   "execution_count": 29,
   "id": "2266f89a",
   "metadata": {},
   "outputs": [
    {
     "name": "stdout",
     "output_type": "stream",
     "text": [
      "hi how are you\n"
     ]
    }
   ],
   "source": [
    "#hi\n",
    "#how\n",
    "#are\n",
    "#you\n",
    "print(\"hi\",end=' ')\n",
    "print(\"how\",end=' ')\n",
    "print(\"are\",end=' ')\n",
    "print(\"you\")"
   ]
  },
  {
   "cell_type": "code",
   "execution_count": 32,
   "id": "2c25c371",
   "metadata": {},
   "outputs": [
    {
     "name": "stdout",
     "output_type": "stream",
     "text": [
      "The addition of 100 and 500 is 600\n"
     ]
    }
   ],
   "source": [
    "number1=100\n",
    "number2=500\n",
    "add=number1+number2\n",
    "print(\"The addition of\",number1,\"and\",number2,\"is\",number1+number2)\n"
   ]
  },
  {
   "cell_type": "code",
   "execution_count": 37,
   "id": "d4ce3fc9",
   "metadata": {},
   "outputs": [
    {
     "name": "stdout",
     "output_type": "stream",
     "text": [
      "The multiplication of 20 and 30 is 600\n"
     ]
    }
   ],
   "source": [
    "a=20\n",
    "b=30\n",
    "c=a*b\n",
    "print(\"The multiplication of {} and {} is {}\".format(a,b,c))\n",
    "#FORMAT METHOD"
   ]
  },
  {
   "cell_type": "code",
   "execution_count": 38,
   "id": "25778364",
   "metadata": {},
   "outputs": [
    {
     "name": "stdout",
     "output_type": "stream",
     "text": [
      "The addition of 100 and 200 are 300\n"
     ]
    }
   ],
   "source": [
    "n1=100\n",
    "n2=200\n",
    "add=n1+n2\n",
    "#what you want to print\n",
    "#The addition of n1 and n2 is add\n",
    "print(\"The addition of {} and {} are {}\".format(n1,n2,add))\n",
    "\n",
    "\n",
    "\n",
    "\n"
   ]
  },
  {
   "cell_type": "code",
   "execution_count": 40,
   "id": "c3dcfc0e",
   "metadata": {},
   "outputs": [
    {
     "name": "stdout",
     "output_type": "stream",
     "text": [
      "my name is python,i lives in hyd and my age is 30\n"
     ]
    }
   ],
   "source": [
    "name='python'\n",
    "city='hyd'\n",
    "age=30\n",
    "#my name is python, i lives in hyd and my age is 30\n",
    "print(\"my name is {},i lives in {} and my age is {}\".format(name,city,age))"
   ]
  },
  {
   "cell_type": "code",
   "execution_count": null,
   "id": "a229ed83",
   "metadata": {},
   "outputs": [],
   "source": []
  }
 ],
 "metadata": {
  "kernelspec": {
   "display_name": "Python 3 (ipykernel)",
   "language": "python",
   "name": "python3"
  },
  "language_info": {
   "codemirror_mode": {
    "name": "ipython",
    "version": 3
   },
   "file_extension": ".py",
   "mimetype": "text/x-python",
   "name": "python",
   "nbconvert_exporter": "python",
   "pygments_lexer": "ipython3",
   "version": "3.11.5"
  }
 },
 "nbformat": 4,
 "nbformat_minor": 5
}
