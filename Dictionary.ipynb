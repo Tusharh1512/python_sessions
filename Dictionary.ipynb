{
 "cells": [
  {
   "cell_type": "code",
   "execution_count": null,
   "id": "84be0449",
   "metadata": {},
   "outputs": [],
   "source": [
    "- Strings\n",
    "- List\n",
    "- Dictionary\n",
    "- tuple/set\n",
    "-lambda function\n",
    "- file handling"
   ]
  },
  {
   "cell_type": "markdown",
   "id": "0b5e84f7",
   "metadata": {},
   "source": [
    "**Dictionary**"
   ]
  },
  {
   "cell_type": "code",
   "execution_count": 1,
   "id": "44512570",
   "metadata": {},
   "outputs": [
    {
     "name": "stdout",
     "output_type": "stream",
     "text": [
      "Ram 25\n",
      "Raheem 30\n",
      "Robert 35\n"
     ]
    }
   ],
   "source": [
    "names=['Ram','Raheem','Robert']\n",
    "ages=[25,30,35]\n",
    "for i,j in zip(names,ages):\n",
    "    print(i,j)"
   ]
  },
  {
   "cell_type": "markdown",
   "id": "4a0c2302",
   "metadata": {},
   "source": [
    "**Key-value** pait concept"
   ]
  },
  {
   "cell_type": "code",
   "execution_count": null,
   "id": "addd438b",
   "metadata": {},
   "outputs": [],
   "source": [
    "#{key:value}"
   ]
  },
  {
   "cell_type": "code",
   "execution_count": 38,
   "id": "cd9f734a",
   "metadata": {},
   "outputs": [
    {
     "data": {
      "text/plain": [
       "{'Ram': 0, 'Raheem': 30, 'Robert': 35}"
      ]
     },
     "execution_count": 38,
     "metadata": {},
     "output_type": "execute_result"
    }
   ],
   "source": [
    "dict1={'Ram':0,'Raheem': 30,'Robert':35}\n",
    "dict1"
   ]
  },
  {
   "cell_type": "markdown",
   "id": "c6f8b37f",
   "metadata": {},
   "source": [
    "- type\n",
    "\n",
    "- len\n",
    "\n",
    "- max\n",
    "\n",
    "- min"
   ]
  },
  {
   "cell_type": "code",
   "execution_count": 4,
   "id": "56b27a61",
   "metadata": {},
   "outputs": [
    {
     "data": {
      "text/plain": [
       "dict"
      ]
     },
     "execution_count": 4,
     "metadata": {},
     "output_type": "execute_result"
    }
   ],
   "source": [
    "type(dict1)"
   ]
  },
  {
   "cell_type": "code",
   "execution_count": 5,
   "id": "95f09913",
   "metadata": {},
   "outputs": [
    {
     "data": {
      "text/plain": [
       "3"
      ]
     },
     "execution_count": 5,
     "metadata": {},
     "output_type": "execute_result"
    }
   ],
   "source": [
    "len(dict1)"
   ]
  },
  {
   "cell_type": "code",
   "execution_count": 14,
   "id": "e806eace",
   "metadata": {},
   "outputs": [
    {
     "data": {
      "text/plain": [
       "'Robert'"
      ]
     },
     "execution_count": 14,
     "metadata": {},
     "output_type": "execute_result"
    }
   ],
   "source": [
    "max(dict1)"
   ]
  },
  {
   "cell_type": "code",
   "execution_count": 11,
   "id": "6a456eba",
   "metadata": {},
   "outputs": [
    {
     "data": {
      "text/plain": [
       "'Raheem'"
      ]
     },
     "execution_count": 11,
     "metadata": {},
     "output_type": "execute_result"
    }
   ],
   "source": [
    "min(dict1)"
   ]
  },
  {
   "cell_type": "markdown",
   "id": "857af68e",
   "metadata": {},
   "source": [
    "- max values and min values based on keys only"
   ]
  },
  {
   "cell_type": "code",
   "execution_count": 15,
   "id": "5c84e803",
   "metadata": {},
   "outputs": [
    {
     "data": {
      "text/plain": [
       "{'names': ['Ram', 'Raheem', 'Robert'], 'ages': [25, 30, 35]}"
      ]
     },
     "execution_count": 15,
     "metadata": {},
     "output_type": "execute_result"
    }
   ],
   "source": [
    "d1={'Ram':25,'Raheem':30,'Robert':35}\n",
    "d2={'names':['Ram','Raheem','Robert'],'ages':[25,30,35]}\n",
    "d2"
   ]
  },
  {
   "cell_type": "code",
   "execution_count": 16,
   "id": "2843e143",
   "metadata": {},
   "outputs": [],
   "source": [
    "d3={25:'Ram'}"
   ]
  },
  {
   "cell_type": "code",
   "execution_count": 17,
   "id": "02422494",
   "metadata": {},
   "outputs": [
    {
     "data": {
      "text/plain": [
       "{25: 'Ram'}"
      ]
     },
     "execution_count": 17,
     "metadata": {},
     "output_type": "execute_result"
    }
   ],
   "source": [
    "d3"
   ]
  },
  {
   "cell_type": "code",
   "execution_count": 20,
   "id": "2b074aab",
   "metadata": {},
   "outputs": [
    {
     "ename": "TypeError",
     "evalue": "unhashable type: 'list'",
     "output_type": "error",
     "traceback": [
      "\u001b[1;31m---------------------------------------------------------------------------\u001b[0m",
      "\u001b[1;31mTypeError\u001b[0m                                 Traceback (most recent call last)",
      "Cell \u001b[1;32mIn[20], line 1\u001b[0m\n\u001b[1;32m----> 1\u001b[0m d4\u001b[38;5;241m=\u001b[39m{[\u001b[38;5;124m'\u001b[39m\u001b[38;5;124mRam\u001b[39m\u001b[38;5;124m'\u001b[39m,\u001b[38;5;124m'\u001b[39m\u001b[38;5;124mRaheem\u001b[39m\u001b[38;5;124m'\u001b[39m,\u001b[38;5;124m'\u001b[39m\u001b[38;5;124mRobert\u001b[39m\u001b[38;5;124m'\u001b[39m]:names}\n\u001b[0;32m      2\u001b[0m d4\n",
      "\u001b[1;31mTypeError\u001b[0m: unhashable type: 'list'"
     ]
    }
   ],
   "source": [
    "d4={['Ram','Raheem','Robert']:'names'}\n",
    "d4"
   ]
  },
  {
   "cell_type": "code",
   "execution_count": 21,
   "id": "54e94d4d",
   "metadata": {},
   "outputs": [],
   "source": [
    "d5={25:35}"
   ]
  },
  {
   "cell_type": "code",
   "execution_count": null,
   "id": "445e89ef",
   "metadata": {},
   "outputs": [],
   "source": []
  },
  {
   "cell_type": "code",
   "execution_count": 30,
   "id": "da50261c",
   "metadata": {},
   "outputs": [
    {
     "data": {
      "text/plain": [
       "{'Fruits': {'like': ['Apple', 'Cherry']}}"
      ]
     },
     "execution_count": 30,
     "metadata": {},
     "output_type": "execute_result"
    }
   ],
   "source": [
    "d7={'Fruits':{'like':['Apple','Cherry']}}\n",
    "d7"
   ]
  },
  {
   "cell_type": "markdown",
   "id": "28653a0a",
   "metadata": {},
   "source": [
    "- If you provide multiples values at key position it will fail"
   ]
  },
  {
   "cell_type": "code",
   "execution_count": 34,
   "id": "627e0ad9",
   "metadata": {},
   "outputs": [
    {
     "data": {
      "text/plain": [
       "{'Mobin': 'Amazon'}"
      ]
     },
     "execution_count": 34,
     "metadata": {},
     "output_type": "execute_result"
    }
   ],
   "source": [
    "d8={'Mobin':'Amazon','Mobin':'Amazon'}\n",
    "d8"
   ]
  },
  {
   "cell_type": "markdown",
   "id": "04e56334",
   "metadata": {},
   "source": [
    "- duplicates are not allowed"
   ]
  },
  {
   "cell_type": "code",
   "execution_count": 36,
   "id": "5b13ab75",
   "metadata": {},
   "outputs": [
    {
     "data": {
      "text/plain": [
       "{'Ravi': 35}"
      ]
     },
     "execution_count": 36,
     "metadata": {},
     "output_type": "execute_result"
    }
   ],
   "source": [
    "d9={'Ravi':25,'Ravi':35}\n",
    "d9"
   ]
  },
  {
   "cell_type": "markdown",
   "id": "86694ff8",
   "metadata": {},
   "source": [
    "- If keys are same the last value will be taken"
   ]
  },
  {
   "cell_type": "code",
   "execution_count": 41,
   "id": "103c58b7",
   "metadata": {},
   "outputs": [
    {
     "data": {
      "text/plain": [
       "True"
      ]
     },
     "execution_count": 41,
     "metadata": {},
     "output_type": "execute_result"
    }
   ],
   "source": [
    "'Ram' in dict1\n",
    "'Raheem' in dict1\n",
    "'Robert' in dict1"
   ]
  },
  {
   "cell_type": "code",
   "execution_count": 42,
   "id": "f6974cd6",
   "metadata": {},
   "outputs": [
    {
     "name": "stdout",
     "output_type": "stream",
     "text": [
      "Ram\n",
      "Raheem\n",
      "Robert\n"
     ]
    }
   ],
   "source": [
    "for i in dict1:\n",
    "    print(i)"
   ]
  },
  {
   "cell_type": "markdown",
   "id": "312c5662",
   "metadata": {},
   "source": [
    "**index**"
   ]
  },
  {
   "cell_type": "code",
   "execution_count": 46,
   "id": "d3a80066",
   "metadata": {},
   "outputs": [
    {
     "data": {
      "text/plain": [
       "0"
      ]
     },
     "execution_count": 46,
     "metadata": {},
     "output_type": "execute_result"
    }
   ],
   "source": [
    "dict1['Ram']"
   ]
  },
  {
   "cell_type": "code",
   "execution_count": null,
   "id": "1e64094d",
   "metadata": {},
   "outputs": [],
   "source": [
    "#wap by using for loop get the values"
   ]
  },
  {
   "cell_type": "code",
   "execution_count": 47,
   "id": "0df67525",
   "metadata": {},
   "outputs": [
    {
     "name": "stdout",
     "output_type": "stream",
     "text": [
      "Ram 0\n",
      "Raheem 30\n",
      "Robert 35\n"
     ]
    }
   ],
   "source": [
    "for i in dict1:\n",
    "    print(i,dict1[i])"
   ]
  },
  {
   "cell_type": "code",
   "execution_count": 50,
   "id": "664edc5d",
   "metadata": {},
   "outputs": [
    {
     "name": "stdout",
     "output_type": "stream",
     "text": [
      "Ram 25\n",
      "Raheem 30\n"
     ]
    }
   ],
   "source": [
    "d2={'names':['Ram','Raheem','Robert'],'ages':[25,30,35]}\n",
    "for i in range(len(d2)):\n",
    "    print(d2['names'][i],d2['ages'][i])"
   ]
  },
  {
   "cell_type": "code",
   "execution_count": 52,
   "id": "f6aa3d55",
   "metadata": {},
   "outputs": [
    {
     "name": "stdout",
     "output_type": "stream",
     "text": [
      "Ram 25\n",
      "Raheem 30\n",
      "Robert 35\n"
     ]
    }
   ],
   "source": [
    "d2 = {'names': ['Ram', 'Raheem', 'Robert'],\n",
    "      'ages': [25, 30, 35]}\n",
    "for i,j in zip(d2['names'], d2['ages']):\n",
    "    print(i,j)"
   ]
  },
  {
   "cell_type": "code",
   "execution_count": 62,
   "id": "df2836bf",
   "metadata": {},
   "outputs": [
    {
     "ename": "SyntaxError",
     "evalue": "'[' was never closed (3914647141.py, line 1)",
     "output_type": "error",
     "traceback": [
      "\u001b[1;36m  Cell \u001b[1;32mIn[62], line 1\u001b[1;36m\u001b[0m\n\u001b[1;33m    d1={'hello':[{'fruits':['Apple','banana',{'like':['cherry']}]}\u001b[0m\n\u001b[1;37m                ^\u001b[0m\n\u001b[1;31mSyntaxError\u001b[0m\u001b[1;31m:\u001b[0m '[' was never closed\n"
     ]
    }
   ],
   "source": [
    "d1={'hello':[{'fruits':['Apple','banana',{'like':['cherry']}]}\n",
    "d1['hello'][0]['fruits'][2]['like'][0]    \n",
    "d1"
   ]
  },
  {
   "cell_type": "code",
   "execution_count": 63,
   "id": "babdc4a4",
   "metadata": {},
   "outputs": [
    {
     "data": {
      "text/plain": [
       "{'Ram': 0, 'Raheem': 30, 'Robert': 35, 'Nareshit': ['DS', 'MLOPS', 'DE']}"
      ]
     },
     "execution_count": 63,
     "metadata": {},
     "output_type": "execute_result"
    }
   ],
   "source": [
    "dict1['Nareshit']=['DS','MLOPS','DE']\n",
    "dict1"
   ]
  },
  {
   "cell_type": "code",
   "execution_count": 4,
   "id": "074c2170",
   "metadata": {},
   "outputs": [
    {
     "data": {
      "text/plain": [
       "{'Apple': 'fruit', 'Car': 'vehicle'}"
      ]
     },
     "execution_count": 4,
     "metadata": {},
     "output_type": "execute_result"
    }
   ],
   "source": [
    "dict2={}\n",
    "dict2['Apple']='fruit'\n",
    "dict2['Car']='vehicle'\n",
    "dict2"
   ]
  },
  {
   "cell_type": "code",
   "execution_count": null,
   "id": "b694d66d",
   "metadata": {},
   "outputs": [],
   "source": [
    "#wap ask the user get 5 random numbers\n",
    "#and perform even and odd operation\n",
    "#output: {even:[10,12,14],'odd':[11,13]}"
   ]
  },
  {
   "cell_type": "code",
   "execution_count": 81,
   "id": "3368c0da",
   "metadata": {},
   "outputs": [
    {
     "data": {
      "text/plain": [
       "{'even': [98], 'odd': [33, 43, 47, 45]}"
      ]
     },
     "execution_count": 81,
     "metadata": {},
     "output_type": "execute_result"
    }
   ],
   "source": [
    "import random\n",
    "even_odd={}\n",
    "even,odd=[],[]\n",
    "for i in range(5):\n",
    "    num=random.randint(10,100)\n",
    "    if num%2==0:\n",
    "        even.append(num)\n",
    "    else:\n",
    "        odd.append(num)\n",
    "even_odd['even']=even\n",
    "even_odd['odd']=odd\n",
    "even_odd"
   ]
  },
  {
   "cell_type": "markdown",
   "id": "57775dd6",
   "metadata": {},
   "source": [
    "**items-keys-values**"
   ]
  },
  {
   "cell_type": "code",
   "execution_count": 16,
   "id": "f0b8ba6e",
   "metadata": {},
   "outputs": [],
   "source": [
    "dict1={'course':'ds',\n",
    "       'price':18,\n",
    "       'duration':4,\n",
    "       'institute':'Naresh IT'}"
   ]
  },
  {
   "cell_type": "code",
   "execution_count": 17,
   "id": "bd96b792",
   "metadata": {},
   "outputs": [
    {
     "data": {
      "text/plain": [
       "dict_items([('course', 'ds'), ('price', 18), ('duration', 4), ('institute', 'Naresh IT')])"
      ]
     },
     "execution_count": 17,
     "metadata": {},
     "output_type": "execute_result"
    }
   ],
   "source": [
    "dict1.items()"
   ]
  },
  {
   "cell_type": "code",
   "execution_count": 23,
   "id": "a264b209",
   "metadata": {},
   "outputs": [],
   "source": [
    "keys=dict1.keys()"
   ]
  },
  {
   "cell_type": "code",
   "execution_count": 19,
   "id": "a4677ad1",
   "metadata": {},
   "outputs": [],
   "source": [
    "#it is a new type called dict items"
   ]
  },
  {
   "cell_type": "code",
   "execution_count": 24,
   "id": "89d33262",
   "metadata": {},
   "outputs": [
    {
     "data": {
      "text/plain": [
       "['course', 'price', 'duration', 'institute']"
      ]
     },
     "execution_count": 24,
     "metadata": {},
     "output_type": "execute_result"
    }
   ],
   "source": [
    "list(keys)"
   ]
  },
  {
   "cell_type": "code",
   "execution_count": 21,
   "id": "38c8354b",
   "metadata": {},
   "outputs": [
    {
     "name": "stdout",
     "output_type": "stream",
     "text": [
      "course : ds\n",
      "price : 18\n",
      "duration : 4\n",
      "institute : Naresh IT\n"
     ]
    }
   ],
   "source": [
    "for i,j in dict1.items():\n",
    "    print(i,\":\",j)"
   ]
  },
  {
   "cell_type": "code",
   "execution_count": 25,
   "id": "b453b851",
   "metadata": {},
   "outputs": [],
   "source": [
    "values=dict1.values()"
   ]
  },
  {
   "cell_type": "code",
   "execution_count": 26,
   "id": "adf5eebe",
   "metadata": {},
   "outputs": [
    {
     "data": {
      "text/plain": [
       "['ds', 18, 4, 'Naresh IT']"
      ]
     },
     "execution_count": 26,
     "metadata": {},
     "output_type": "execute_result"
    }
   ],
   "source": [
    "list(values)"
   ]
  },
  {
   "cell_type": "code",
   "execution_count": null,
   "id": "7caedaed",
   "metadata": {},
   "outputs": [],
   "source": [
    "#one list keys\n",
    "#second llist values\n",
    "#can you create the dictionary"
   ]
  },
  {
   "cell_type": "code",
   "execution_count": 62,
   "id": "53eb0630",
   "metadata": {},
   "outputs": [
    {
     "data": {
      "text/plain": [
       "{'Course': 'DS', 'Duration': 18, 'Fee': 4, 'Institute': 'Naresh IT'}"
      ]
     },
     "execution_count": 62,
     "metadata": {},
     "output_type": "execute_result"
    }
   ],
   "source": [
    "list1= [\"Course\", \"Duration\", \"Fee\",\"Institute\"]\n",
    "list2 = [\"DS\",18,4,\"Naresh IT\"]\n",
    "dict1={}\n",
    "dict1 =dict(zip(list1,list2))\n",
    "dict1"
   ]
  },
  {
   "cell_type": "code",
   "execution_count": 35,
   "id": "e4ec9472",
   "metadata": {},
   "outputs": [],
   "source": [
    "list1= [\"Course\", \"Duration\", \"Fee\",\"Institute\"]\n",
    "list2 = [\"DS\",18,4,\"Naresh IT\"]\n",
    "#we will make a empty dictionary\n",
    "dict1={}   \n",
    "for i,j in zip(keys,values):\n",
    "    dict1[i]=j"
   ]
  },
  {
   "cell_type": "code",
   "execution_count": 37,
   "id": "d2b3edeb",
   "metadata": {},
   "outputs": [
    {
     "data": {
      "text/plain": [
       "dict_keys(['course', 'price', 'duration', 'institute'])"
      ]
     },
     "execution_count": 37,
     "metadata": {},
     "output_type": "execute_result"
    }
   ],
   "source": [
    "dict1.keys()"
   ]
  },
  {
   "cell_type": "code",
   "execution_count": 56,
   "id": "1360912a",
   "metadata": {},
   "outputs": [
    {
     "data": {
      "text/plain": [
       "{'Course': 'DS', 'Duration': 18, 'Fee': 4, 'Institute': 'Naresh IT'}"
      ]
     },
     "execution_count": 56,
     "metadata": {},
     "output_type": "execute_result"
    }
   ],
   "source": [
    "list1= [\"Course\", \"Duration\", \"Fee\",\"Institute\"]\n",
    "list2 = [\"DS\",18,4,\"Naresh IT\"]\n",
    "#we will make a empty dictionary\n",
    "dict1 = {list1[i]:list2[i] for i in range(len(list1))}\n",
    "dict1"
   ]
  },
  {
   "cell_type": "code",
   "execution_count": 54,
   "id": "8b601b14",
   "metadata": {},
   "outputs": [],
   "source": [
    "dict1 = {list1[i]:list2[i] for i in range(len(list1))}"
   ]
  },
  {
   "cell_type": "code",
   "execution_count": 57,
   "id": "ba0537d4",
   "metadata": {},
   "outputs": [],
   "source": [
    "d1={i:j for i,j in zip(list1,list2)}"
   ]
  },
  {
   "cell_type": "code",
   "execution_count": 50,
   "id": "2d96ce9f",
   "metadata": {},
   "outputs": [],
   "source": [
    "#can you get a keys list and values list from dictionary-- yes\n",
    "#Can you make a dictionary by using two list-------- yes"
   ]
  },
  {
   "cell_type": "code",
   "execution_count": 58,
   "id": "8ab4162a",
   "metadata": {},
   "outputs": [
    {
     "data": {
      "text/plain": [
       "['Course', 'Duration', 'Fee', 'Institute']"
      ]
     },
     "execution_count": 58,
     "metadata": {},
     "output_type": "execute_result"
    }
   ],
   "source": [
    "list(dict1.keys())\n"
   ]
  },
  {
   "cell_type": "markdown",
   "id": "f169cfe4",
   "metadata": {},
   "source": [
    "**get-method***"
   ]
  },
  {
   "cell_type": "code",
   "execution_count": 59,
   "id": "b6c291cb",
   "metadata": {},
   "outputs": [
    {
     "data": {
      "text/plain": [
       "'DS'"
      ]
     },
     "execution_count": 59,
     "metadata": {},
     "output_type": "execute_result"
    }
   ],
   "source": [
    "dict1.get(\"Course\")"
   ]
  },
  {
   "cell_type": "markdown",
   "id": "aba46973",
   "metadata": {},
   "source": [
    "**clear-copy**"
   ]
  },
  {
   "cell_type": "code",
   "execution_count": 64,
   "id": "9b25dfda",
   "metadata": {},
   "outputs": [
    {
     "name": "stdout",
     "output_type": "stream",
     "text": [
      "l1 : []\n",
      "l2 :  [1, 2, 3]\n"
     ]
    }
   ],
   "source": [
    "l1=[1,2,3]\n",
    "l2=l1.copy()\n",
    "l1.clear()\n",
    "print('l1 :',l1)\n",
    "print('l2 : ',l2)\n"
   ]
  },
  {
   "cell_type": "code",
   "execution_count": 63,
   "id": "c0689f50",
   "metadata": {},
   "outputs": [
    {
     "data": {
      "text/plain": [
       "{'Course': 'DS', 'Duration': 18, 'Fee': 4, 'Institute': 'Naresh IT'}"
      ]
     },
     "execution_count": 63,
     "metadata": {},
     "output_type": "execute_result"
    }
   ],
   "source": [
    "dict1"
   ]
  },
  {
   "cell_type": "markdown",
   "id": "e7c9e4fa",
   "metadata": {},
   "source": [
    "**pop-popitem-del**"
   ]
  },
  {
   "cell_type": "code",
   "execution_count": 73,
   "id": "ad4e58e4",
   "metadata": {},
   "outputs": [],
   "source": [
    "dict1={'course':'ds',\n",
    "       'price':18000,\n",
    "       'duration':4,\n",
    "       'institute':'Naresh IT'}\n"
   ]
  },
  {
   "cell_type": "code",
   "execution_count": 74,
   "id": "cdfbf1a1",
   "metadata": {},
   "outputs": [
    {
     "name": "stdout",
     "output_type": "stream",
     "text": [
      "{'course': 'ds', 'duration': 4, 'institute': 'Naresh IT'}\n"
     ]
    }
   ],
   "source": [
    "dict1.pop('price')\n",
    "print(dict1)"
   ]
  },
  {
   "cell_type": "code",
   "execution_count": 75,
   "id": "4a1c16ff",
   "metadata": {},
   "outputs": [
    {
     "data": {
      "text/plain": [
       "{'course': 'ds', 'price': 18000, 'institute': 'Naresh IT'}"
      ]
     },
     "execution_count": 75,
     "metadata": {},
     "output_type": "execute_result"
    }
   ],
   "source": [
    "dict1={'course':'ds',\n",
    "       'price':18000,\n",
    "       'duration':4,\n",
    "       'institute':'Naresh IT'}\n",
    "del dict1['duration']\n",
    "dict1"
   ]
  },
  {
   "cell_type": "markdown",
   "id": "fe7ace65",
   "metadata": {},
   "source": [
    "**setasdefault**"
   ]
  },
  {
   "cell_type": "code",
   "execution_count": 77,
   "id": "87914fb5",
   "metadata": {},
   "outputs": [
    {
     "data": {
      "text/plain": [
       "{'course': 'ds',\n",
       " 'price': 18000,\n",
       " 'duration': 4,\n",
       " 'institute': 'Naresh IT',\n",
       " 'package': '10lakhs'}"
      ]
     },
     "execution_count": 77,
     "metadata": {},
     "output_type": "execute_result"
    }
   ],
   "source": [
    "dict1={'course':'ds',\n",
    "       'price':18000,\n",
    "       'duration':4,\n",
    "       'institute':'Naresh IT'}\n",
    "dict1['package']='10lakhs'\n",
    "dict1"
   ]
  },
  {
   "cell_type": "code",
   "execution_count": 84,
   "id": "cff0746f",
   "metadata": {},
   "outputs": [
    {
     "data": {
      "text/plain": [
       "{'course': 'ds',\n",
       " 'price': 18000,\n",
       " 'duration': 4,\n",
       " 'institute': 'Naresh IT',\n",
       " 'pacakage': None,\n",
       " 'certification': 'valid'}"
      ]
     },
     "execution_count": 84,
     "metadata": {},
     "output_type": "execute_result"
    }
   ],
   "source": [
    "dict1={'course':'ds',\n",
    "       'price':18000,\n",
    "       'duration':4,\n",
    "       'institute':'Naresh IT'}\n",
    "dict1.setdefault('pacakage')  #here we are not providing any value\n",
    "dict1.setdefault('certification','valid') #both value and key\n",
    "dict1"
   ]
  },
  {
   "cell_type": "markdown",
   "id": "383e24f9",
   "metadata": {},
   "source": [
    "**from_keys**"
   ]
  },
  {
   "cell_type": "code",
   "execution_count": 92,
   "id": "6a8632ed",
   "metadata": {},
   "outputs": [
    {
     "name": "stdout",
     "output_type": "stream",
     "text": [
      "{'A': 0, 'B': 0, 'C': 0, 'D': 0, 'E': 0, 'F': 0, 'G': 0, 'H': 0, 'I': 0, 'J': 0, 'K': 0, 'L': 0, 'M': 0, 'N': 0, 'O': 0, 'P': 0, 'Q': 0, 'R': 0, 'S': 0, 'T': 0, 'U': 0, 'V': 0, 'W': 0, 'X': 0, 'Y': 0, 'Z': 0}\n",
      "{'A': 1, 'B': 1, 'C': 1, 'D': 1, 'E': 1, 'F': 1, 'G': 1, 'H': 1, 'I': 1, 'J': 1, 'K': 1, 'L': 1, 'M': 1, 'N': 1, 'O': 1, 'P': 1, 'Q': 1, 'R': 1, 'S': 1, 'T': 1, 'U': 1, 'V': 1, 'W': 1, 'X': 1, 'Y': 1, 'Z': 1}\n",
      "{'A': 2, 'B': 2, 'C': 2, 'D': 2, 'E': 2, 'F': 2, 'G': 2, 'H': 2, 'I': 2, 'J': 2, 'K': 2, 'L': 2, 'M': 2, 'N': 2, 'O': 2, 'P': 2, 'Q': 2, 'R': 2, 'S': 2, 'T': 2, 'U': 2, 'V': 2, 'W': 2, 'X': 2, 'Y': 2, 'Z': 2}\n",
      "{'A': 3, 'B': 3, 'C': 3, 'D': 3, 'E': 3, 'F': 3, 'G': 3, 'H': 3, 'I': 3, 'J': 3, 'K': 3, 'L': 3, 'M': 3, 'N': 3, 'O': 3, 'P': 3, 'Q': 3, 'R': 3, 'S': 3, 'T': 3, 'U': 3, 'V': 3, 'W': 3, 'X': 3, 'Y': 3, 'Z': 3}\n",
      "{'A': 4, 'B': 4, 'C': 4, 'D': 4, 'E': 4, 'F': 4, 'G': 4, 'H': 4, 'I': 4, 'J': 4, 'K': 4, 'L': 4, 'M': 4, 'N': 4, 'O': 4, 'P': 4, 'Q': 4, 'R': 4, 'S': 4, 'T': 4, 'U': 4, 'V': 4, 'W': 4, 'X': 4, 'Y': 4, 'Z': 4}\n",
      "{'A': 5, 'B': 5, 'C': 5, 'D': 5, 'E': 5, 'F': 5, 'G': 5, 'H': 5, 'I': 5, 'J': 5, 'K': 5, 'L': 5, 'M': 5, 'N': 5, 'O': 5, 'P': 5, 'Q': 5, 'R': 5, 'S': 5, 'T': 5, 'U': 5, 'V': 5, 'W': 5, 'X': 5, 'Y': 5, 'Z': 5}\n",
      "{'A': 6, 'B': 6, 'C': 6, 'D': 6, 'E': 6, 'F': 6, 'G': 6, 'H': 6, 'I': 6, 'J': 6, 'K': 6, 'L': 6, 'M': 6, 'N': 6, 'O': 6, 'P': 6, 'Q': 6, 'R': 6, 'S': 6, 'T': 6, 'U': 6, 'V': 6, 'W': 6, 'X': 6, 'Y': 6, 'Z': 6}\n",
      "{'A': 7, 'B': 7, 'C': 7, 'D': 7, 'E': 7, 'F': 7, 'G': 7, 'H': 7, 'I': 7, 'J': 7, 'K': 7, 'L': 7, 'M': 7, 'N': 7, 'O': 7, 'P': 7, 'Q': 7, 'R': 7, 'S': 7, 'T': 7, 'U': 7, 'V': 7, 'W': 7, 'X': 7, 'Y': 7, 'Z': 7}\n",
      "{'A': 8, 'B': 8, 'C': 8, 'D': 8, 'E': 8, 'F': 8, 'G': 8, 'H': 8, 'I': 8, 'J': 8, 'K': 8, 'L': 8, 'M': 8, 'N': 8, 'O': 8, 'P': 8, 'Q': 8, 'R': 8, 'S': 8, 'T': 8, 'U': 8, 'V': 8, 'W': 8, 'X': 8, 'Y': 8, 'Z': 8}\n",
      "{'A': 9, 'B': 9, 'C': 9, 'D': 9, 'E': 9, 'F': 9, 'G': 9, 'H': 9, 'I': 9, 'J': 9, 'K': 9, 'L': 9, 'M': 9, 'N': 9, 'O': 9, 'P': 9, 'Q': 9, 'R': 9, 'S': 9, 'T': 9, 'U': 9, 'V': 9, 'W': 9, 'X': 9, 'Y': 9, 'Z': 9}\n",
      "{'A': 10, 'B': 10, 'C': 10, 'D': 10, 'E': 10, 'F': 10, 'G': 10, 'H': 10, 'I': 10, 'J': 10, 'K': 10, 'L': 10, 'M': 10, 'N': 10, 'O': 10, 'P': 10, 'Q': 10, 'R': 10, 'S': 10, 'T': 10, 'U': 10, 'V': 10, 'W': 10, 'X': 10, 'Y': 10, 'Z': 10}\n",
      "{'A': 11, 'B': 11, 'C': 11, 'D': 11, 'E': 11, 'F': 11, 'G': 11, 'H': 11, 'I': 11, 'J': 11, 'K': 11, 'L': 11, 'M': 11, 'N': 11, 'O': 11, 'P': 11, 'Q': 11, 'R': 11, 'S': 11, 'T': 11, 'U': 11, 'V': 11, 'W': 11, 'X': 11, 'Y': 11, 'Z': 11}\n",
      "{'A': 12, 'B': 12, 'C': 12, 'D': 12, 'E': 12, 'F': 12, 'G': 12, 'H': 12, 'I': 12, 'J': 12, 'K': 12, 'L': 12, 'M': 12, 'N': 12, 'O': 12, 'P': 12, 'Q': 12, 'R': 12, 'S': 12, 'T': 12, 'U': 12, 'V': 12, 'W': 12, 'X': 12, 'Y': 12, 'Z': 12}\n",
      "{'A': 13, 'B': 13, 'C': 13, 'D': 13, 'E': 13, 'F': 13, 'G': 13, 'H': 13, 'I': 13, 'J': 13, 'K': 13, 'L': 13, 'M': 13, 'N': 13, 'O': 13, 'P': 13, 'Q': 13, 'R': 13, 'S': 13, 'T': 13, 'U': 13, 'V': 13, 'W': 13, 'X': 13, 'Y': 13, 'Z': 13}\n",
      "{'A': 14, 'B': 14, 'C': 14, 'D': 14, 'E': 14, 'F': 14, 'G': 14, 'H': 14, 'I': 14, 'J': 14, 'K': 14, 'L': 14, 'M': 14, 'N': 14, 'O': 14, 'P': 14, 'Q': 14, 'R': 14, 'S': 14, 'T': 14, 'U': 14, 'V': 14, 'W': 14, 'X': 14, 'Y': 14, 'Z': 14}\n",
      "{'A': 15, 'B': 15, 'C': 15, 'D': 15, 'E': 15, 'F': 15, 'G': 15, 'H': 15, 'I': 15, 'J': 15, 'K': 15, 'L': 15, 'M': 15, 'N': 15, 'O': 15, 'P': 15, 'Q': 15, 'R': 15, 'S': 15, 'T': 15, 'U': 15, 'V': 15, 'W': 15, 'X': 15, 'Y': 15, 'Z': 15}\n",
      "{'A': 16, 'B': 16, 'C': 16, 'D': 16, 'E': 16, 'F': 16, 'G': 16, 'H': 16, 'I': 16, 'J': 16, 'K': 16, 'L': 16, 'M': 16, 'N': 16, 'O': 16, 'P': 16, 'Q': 16, 'R': 16, 'S': 16, 'T': 16, 'U': 16, 'V': 16, 'W': 16, 'X': 16, 'Y': 16, 'Z': 16}\n",
      "{'A': 17, 'B': 17, 'C': 17, 'D': 17, 'E': 17, 'F': 17, 'G': 17, 'H': 17, 'I': 17, 'J': 17, 'K': 17, 'L': 17, 'M': 17, 'N': 17, 'O': 17, 'P': 17, 'Q': 17, 'R': 17, 'S': 17, 'T': 17, 'U': 17, 'V': 17, 'W': 17, 'X': 17, 'Y': 17, 'Z': 17}\n",
      "{'A': 18, 'B': 18, 'C': 18, 'D': 18, 'E': 18, 'F': 18, 'G': 18, 'H': 18, 'I': 18, 'J': 18, 'K': 18, 'L': 18, 'M': 18, 'N': 18, 'O': 18, 'P': 18, 'Q': 18, 'R': 18, 'S': 18, 'T': 18, 'U': 18, 'V': 18, 'W': 18, 'X': 18, 'Y': 18, 'Z': 18}\n",
      "{'A': 19, 'B': 19, 'C': 19, 'D': 19, 'E': 19, 'F': 19, 'G': 19, 'H': 19, 'I': 19, 'J': 19, 'K': 19, 'L': 19, 'M': 19, 'N': 19, 'O': 19, 'P': 19, 'Q': 19, 'R': 19, 'S': 19, 'T': 19, 'U': 19, 'V': 19, 'W': 19, 'X': 19, 'Y': 19, 'Z': 19}\n",
      "{'A': 20, 'B': 20, 'C': 20, 'D': 20, 'E': 20, 'F': 20, 'G': 20, 'H': 20, 'I': 20, 'J': 20, 'K': 20, 'L': 20, 'M': 20, 'N': 20, 'O': 20, 'P': 20, 'Q': 20, 'R': 20, 'S': 20, 'T': 20, 'U': 20, 'V': 20, 'W': 20, 'X': 20, 'Y': 20, 'Z': 20}\n",
      "{'A': 21, 'B': 21, 'C': 21, 'D': 21, 'E': 21, 'F': 21, 'G': 21, 'H': 21, 'I': 21, 'J': 21, 'K': 21, 'L': 21, 'M': 21, 'N': 21, 'O': 21, 'P': 21, 'Q': 21, 'R': 21, 'S': 21, 'T': 21, 'U': 21, 'V': 21, 'W': 21, 'X': 21, 'Y': 21, 'Z': 21}\n",
      "{'A': 22, 'B': 22, 'C': 22, 'D': 22, 'E': 22, 'F': 22, 'G': 22, 'H': 22, 'I': 22, 'J': 22, 'K': 22, 'L': 22, 'M': 22, 'N': 22, 'O': 22, 'P': 22, 'Q': 22, 'R': 22, 'S': 22, 'T': 22, 'U': 22, 'V': 22, 'W': 22, 'X': 22, 'Y': 22, 'Z': 22}\n",
      "{'A': 23, 'B': 23, 'C': 23, 'D': 23, 'E': 23, 'F': 23, 'G': 23, 'H': 23, 'I': 23, 'J': 23, 'K': 23, 'L': 23, 'M': 23, 'N': 23, 'O': 23, 'P': 23, 'Q': 23, 'R': 23, 'S': 23, 'T': 23, 'U': 23, 'V': 23, 'W': 23, 'X': 23, 'Y': 23, 'Z': 23}\n",
      "{'A': 24, 'B': 24, 'C': 24, 'D': 24, 'E': 24, 'F': 24, 'G': 24, 'H': 24, 'I': 24, 'J': 24, 'K': 24, 'L': 24, 'M': 24, 'N': 24, 'O': 24, 'P': 24, 'Q': 24, 'R': 24, 'S': 24, 'T': 24, 'U': 24, 'V': 24, 'W': 24, 'X': 24, 'Y': 24, 'Z': 24}\n",
      "{'A': 25, 'B': 25, 'C': 25, 'D': 25, 'E': 25, 'F': 25, 'G': 25, 'H': 25, 'I': 25, 'J': 25, 'K': 25, 'L': 25, 'M': 25, 'N': 25, 'O': 25, 'P': 25, 'Q': 25, 'R': 25, 'S': 25, 'T': 25, 'U': 25, 'V': 25, 'W': 25, 'X': 25, 'Y': 25, 'Z': 25}\n",
      "{'A': 26, 'B': 26, 'C': 26, 'D': 26, 'E': 26, 'F': 26, 'G': 26, 'H': 26, 'I': 26, 'J': 26, 'K': 26, 'L': 26, 'M': 26, 'N': 26, 'O': 26, 'P': 26, 'Q': 26, 'R': 26, 'S': 26, 'T': 26, 'U': 26, 'V': 26, 'W': 26, 'X': 26, 'Y': 26, 'Z': 26}\n"
     ]
    }
   ],
   "source": [
    "import string\n",
    "letters=string.ascii_uppercase\n",
    "for i in range(leyye ):\n",
    "    dict2=dict2.fromkeys(letters,i)\n",
    "    print(dict2)"
   ]
  },
  {
   "cell_type": "code",
   "execution_count": null,
   "id": "fcd4e651",
   "metadata": {},
   "outputs": [],
   "source": []
  },
  {
   "cell_type": "code",
   "execution_count": null,
   "id": "38c7bb3f",
   "metadata": {},
   "outputs": [],
   "source": []
  },
  {
   "cell_type": "code",
   "execution_count": null,
   "id": "dc11f801",
   "metadata": {},
   "outputs": [],
   "source": []
  },
  {
   "cell_type": "code",
   "execution_count": null,
   "id": "cc576aa2",
   "metadata": {},
   "outputs": [],
   "source": []
  },
  {
   "cell_type": "code",
   "execution_count": null,
   "id": "88f838a2",
   "metadata": {},
   "outputs": [],
   "source": []
  },
  {
   "cell_type": "code",
   "execution_count": null,
   "id": "ea4892d2",
   "metadata": {},
   "outputs": [],
   "source": []
  },
  {
   "cell_type": "code",
   "execution_count": null,
   "id": "12a8e30a",
   "metadata": {},
   "outputs": [],
   "source": []
  },
  {
   "cell_type": "code",
   "execution_count": null,
   "id": "d53d0c53",
   "metadata": {},
   "outputs": [],
   "source": []
  },
  {
   "cell_type": "code",
   "execution_count": null,
   "id": "6938a486",
   "metadata": {},
   "outputs": [],
   "source": []
  },
  {
   "cell_type": "code",
   "execution_count": null,
   "id": "39040a24",
   "metadata": {},
   "outputs": [],
   "source": []
  }
 ],
 "metadata": {
  "kernelspec": {
   "display_name": "Python 3 (ipykernel)",
   "language": "python",
   "name": "python3"
  },
  "language_info": {
   "codemirror_mode": {
    "name": "ipython",
    "version": 3
   },
   "file_extension": ".py",
   "mimetype": "text/x-python",
   "name": "python",
   "nbconvert_exporter": "python",
   "pygments_lexer": "ipython3",
   "version": "3.11.5"
  }
 },
 "nbformat": 4,
 "nbformat_minor": 5
}
